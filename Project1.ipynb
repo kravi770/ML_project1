{
  "nbformat": 4,
  "nbformat_minor": 0,
  "metadata": {
    "colab": {
      "provenance": [],
      "authorship_tag": "ABX9TyNBDuRJWvzjJ7CzCaVpc6cE",
      "include_colab_link": true
    },
    "kernelspec": {
      "name": "python3",
      "display_name": "Python 3"
    },
    "language_info": {
      "name": "python"
    }
  },
  "cells": [
    {
      "cell_type": "markdown",
      "metadata": {
        "id": "view-in-github",
        "colab_type": "text"
      },
      "source": [
        "<a href=\"https://colab.research.google.com/github/kravi770/ML_project1/blob/main/Project1.ipynb\" target=\"_parent\"><img src=\"https://colab.research.google.com/assets/colab-badge.svg\" alt=\"Open In Colab\"/></a>"
      ]
    },
    {
      "cell_type": "code",
      "execution_count": 1,
      "metadata": {
        "id": "5EKjr5Ils_Oo"
      },
      "outputs": [],
      "source": [
        "import pandas as pd\n",
        "import numpy as np"
      ]
    },
    {
      "cell_type": "code",
      "source": [
        "from google.colab import drive\n",
        "drive.mount('/content/drive/')"
      ],
      "metadata": {
        "colab": {
          "base_uri": "https://localhost:8080/"
        },
        "id": "gSanC4xIuyS_",
        "outputId": "8af13682-bc61-4481-89c1-ad37ca0a88ee"
      },
      "execution_count": 2,
      "outputs": [
        {
          "output_type": "stream",
          "name": "stdout",
          "text": [
            "Mounted at /content/drive/\n"
          ]
        }
      ]
    },
    {
      "cell_type": "code",
      "source": [
        "df_train=pd.read_csv(r'/content/drive/MyDrive/ML_Project1/counterfeit_train.csv')\n",
        "df_test=pd.read_csv(r'/content/drive/MyDrive/ML_Project1/counterfeit_test.csv')"
      ],
      "metadata": {
        "id": "KXmqlUxTucN8"
      },
      "execution_count": 3,
      "outputs": []
    },
    {
      "cell_type": "code",
      "source": [
        "df_train.shape"
      ],
      "metadata": {
        "colab": {
          "base_uri": "https://localhost:8080/"
        },
        "id": "hAUf_BBSvvS5",
        "outputId": "d183d1df-68e8-46e7-d679-dfb87e47ff1d"
      },
      "execution_count": 4,
      "outputs": [
        {
          "output_type": "execute_result",
          "data": {
            "text/plain": [
              "(6818, 12)"
            ]
          },
          "metadata": {},
          "execution_count": 4
        }
      ]
    },
    {
      "cell_type": "code",
      "source": [
        "df_train.head()"
      ],
      "metadata": {
        "colab": {
          "base_uri": "https://localhost:8080/",
          "height": 270
        },
        "id": "g_lSRQM5vyiZ",
        "outputId": "02ffc287-0294-4fb4-dde8-e9392241b9e1"
      },
      "execution_count": 5,
      "outputs": [
        {
          "output_type": "execute_result",
          "data": {
            "text/plain": [
              "  Medicine_ID  Counterfeit_Weight DistArea_ID  Active_Since  Medicine_MRP  \\\n",
              "0       RRA15              13.100     Area046          1995      160.2366   \n",
              "1       YVV26                 NaN     Area027          1983      110.4384   \n",
              "2       LJC15               9.025     Area046          1995      259.4092   \n",
              "3       GWC40              11.800     Area046          1995       99.9830   \n",
              "4       QMN13                 NaN     Area019          1983       56.4402   \n",
              "\n",
              "        Medicine_Type SidEffect_Level  Availability_rating  \\\n",
              "0        Antimalarial        critical             0.070422   \n",
              "1         Mstablizers            mild             0.013000   \n",
              "2             Cardiac            mild             0.060783   \n",
              "3  OralContraceptives            mild             0.065555   \n",
              "4       Hreplacements        critical             0.248859   \n",
              "\n",
              "            Area_Type Area_City_Type Area_dist_level  Counterfeit_Sales  \n",
              "0            DownTown         Tier 1           Small          1775.5026  \n",
              "1          CityLimits         Tier 3          Medium          3069.1520  \n",
              "2            DownTown         Tier 1           Small          2603.0920  \n",
              "3            DownTown         Tier 1           Small          1101.7130  \n",
              "4  MidTownResidential         Tier 1           Small           158.9402  "
            ],
            "text/html": [
              "\n",
              "  <div id=\"df-b6281ecd-8b7e-4e87-946a-90b0602dfed9\">\n",
              "    <div class=\"colab-df-container\">\n",
              "      <div>\n",
              "<style scoped>\n",
              "    .dataframe tbody tr th:only-of-type {\n",
              "        vertical-align: middle;\n",
              "    }\n",
              "\n",
              "    .dataframe tbody tr th {\n",
              "        vertical-align: top;\n",
              "    }\n",
              "\n",
              "    .dataframe thead th {\n",
              "        text-align: right;\n",
              "    }\n",
              "</style>\n",
              "<table border=\"1\" class=\"dataframe\">\n",
              "  <thead>\n",
              "    <tr style=\"text-align: right;\">\n",
              "      <th></th>\n",
              "      <th>Medicine_ID</th>\n",
              "      <th>Counterfeit_Weight</th>\n",
              "      <th>DistArea_ID</th>\n",
              "      <th>Active_Since</th>\n",
              "      <th>Medicine_MRP</th>\n",
              "      <th>Medicine_Type</th>\n",
              "      <th>SidEffect_Level</th>\n",
              "      <th>Availability_rating</th>\n",
              "      <th>Area_Type</th>\n",
              "      <th>Area_City_Type</th>\n",
              "      <th>Area_dist_level</th>\n",
              "      <th>Counterfeit_Sales</th>\n",
              "    </tr>\n",
              "  </thead>\n",
              "  <tbody>\n",
              "    <tr>\n",
              "      <th>0</th>\n",
              "      <td>RRA15</td>\n",
              "      <td>13.100</td>\n",
              "      <td>Area046</td>\n",
              "      <td>1995</td>\n",
              "      <td>160.2366</td>\n",
              "      <td>Antimalarial</td>\n",
              "      <td>critical</td>\n",
              "      <td>0.070422</td>\n",
              "      <td>DownTown</td>\n",
              "      <td>Tier 1</td>\n",
              "      <td>Small</td>\n",
              "      <td>1775.5026</td>\n",
              "    </tr>\n",
              "    <tr>\n",
              "      <th>1</th>\n",
              "      <td>YVV26</td>\n",
              "      <td>NaN</td>\n",
              "      <td>Area027</td>\n",
              "      <td>1983</td>\n",
              "      <td>110.4384</td>\n",
              "      <td>Mstablizers</td>\n",
              "      <td>mild</td>\n",
              "      <td>0.013000</td>\n",
              "      <td>CityLimits</td>\n",
              "      <td>Tier 3</td>\n",
              "      <td>Medium</td>\n",
              "      <td>3069.1520</td>\n",
              "    </tr>\n",
              "    <tr>\n",
              "      <th>2</th>\n",
              "      <td>LJC15</td>\n",
              "      <td>9.025</td>\n",
              "      <td>Area046</td>\n",
              "      <td>1995</td>\n",
              "      <td>259.4092</td>\n",
              "      <td>Cardiac</td>\n",
              "      <td>mild</td>\n",
              "      <td>0.060783</td>\n",
              "      <td>DownTown</td>\n",
              "      <td>Tier 1</td>\n",
              "      <td>Small</td>\n",
              "      <td>2603.0920</td>\n",
              "    </tr>\n",
              "    <tr>\n",
              "      <th>3</th>\n",
              "      <td>GWC40</td>\n",
              "      <td>11.800</td>\n",
              "      <td>Area046</td>\n",
              "      <td>1995</td>\n",
              "      <td>99.9830</td>\n",
              "      <td>OralContraceptives</td>\n",
              "      <td>mild</td>\n",
              "      <td>0.065555</td>\n",
              "      <td>DownTown</td>\n",
              "      <td>Tier 1</td>\n",
              "      <td>Small</td>\n",
              "      <td>1101.7130</td>\n",
              "    </tr>\n",
              "    <tr>\n",
              "      <th>4</th>\n",
              "      <td>QMN13</td>\n",
              "      <td>NaN</td>\n",
              "      <td>Area019</td>\n",
              "      <td>1983</td>\n",
              "      <td>56.4402</td>\n",
              "      <td>Hreplacements</td>\n",
              "      <td>critical</td>\n",
              "      <td>0.248859</td>\n",
              "      <td>MidTownResidential</td>\n",
              "      <td>Tier 1</td>\n",
              "      <td>Small</td>\n",
              "      <td>158.9402</td>\n",
              "    </tr>\n",
              "  </tbody>\n",
              "</table>\n",
              "</div>\n",
              "      <button class=\"colab-df-convert\" onclick=\"convertToInteractive('df-b6281ecd-8b7e-4e87-946a-90b0602dfed9')\"\n",
              "              title=\"Convert this dataframe to an interactive table.\"\n",
              "              style=\"display:none;\">\n",
              "        \n",
              "  <svg xmlns=\"http://www.w3.org/2000/svg\" height=\"24px\"viewBox=\"0 0 24 24\"\n",
              "       width=\"24px\">\n",
              "    <path d=\"M0 0h24v24H0V0z\" fill=\"none\"/>\n",
              "    <path d=\"M18.56 5.44l.94 2.06.94-2.06 2.06-.94-2.06-.94-.94-2.06-.94 2.06-2.06.94zm-11 1L8.5 8.5l.94-2.06 2.06-.94-2.06-.94L8.5 2.5l-.94 2.06-2.06.94zm10 10l.94 2.06.94-2.06 2.06-.94-2.06-.94-.94-2.06-.94 2.06-2.06.94z\"/><path d=\"M17.41 7.96l-1.37-1.37c-.4-.4-.92-.59-1.43-.59-.52 0-1.04.2-1.43.59L10.3 9.45l-7.72 7.72c-.78.78-.78 2.05 0 2.83L4 21.41c.39.39.9.59 1.41.59.51 0 1.02-.2 1.41-.59l7.78-7.78 2.81-2.81c.8-.78.8-2.07 0-2.86zM5.41 20L4 18.59l7.72-7.72 1.47 1.35L5.41 20z\"/>\n",
              "  </svg>\n",
              "      </button>\n",
              "      \n",
              "  <style>\n",
              "    .colab-df-container {\n",
              "      display:flex;\n",
              "      flex-wrap:wrap;\n",
              "      gap: 12px;\n",
              "    }\n",
              "\n",
              "    .colab-df-convert {\n",
              "      background-color: #E8F0FE;\n",
              "      border: none;\n",
              "      border-radius: 50%;\n",
              "      cursor: pointer;\n",
              "      display: none;\n",
              "      fill: #1967D2;\n",
              "      height: 32px;\n",
              "      padding: 0 0 0 0;\n",
              "      width: 32px;\n",
              "    }\n",
              "\n",
              "    .colab-df-convert:hover {\n",
              "      background-color: #E2EBFA;\n",
              "      box-shadow: 0px 1px 2px rgba(60, 64, 67, 0.3), 0px 1px 3px 1px rgba(60, 64, 67, 0.15);\n",
              "      fill: #174EA6;\n",
              "    }\n",
              "\n",
              "    [theme=dark] .colab-df-convert {\n",
              "      background-color: #3B4455;\n",
              "      fill: #D2E3FC;\n",
              "    }\n",
              "\n",
              "    [theme=dark] .colab-df-convert:hover {\n",
              "      background-color: #434B5C;\n",
              "      box-shadow: 0px 1px 3px 1px rgba(0, 0, 0, 0.15);\n",
              "      filter: drop-shadow(0px 1px 2px rgba(0, 0, 0, 0.3));\n",
              "      fill: #FFFFFF;\n",
              "    }\n",
              "  </style>\n",
              "\n",
              "      <script>\n",
              "        const buttonEl =\n",
              "          document.querySelector('#df-b6281ecd-8b7e-4e87-946a-90b0602dfed9 button.colab-df-convert');\n",
              "        buttonEl.style.display =\n",
              "          google.colab.kernel.accessAllowed ? 'block' : 'none';\n",
              "\n",
              "        async function convertToInteractive(key) {\n",
              "          const element = document.querySelector('#df-b6281ecd-8b7e-4e87-946a-90b0602dfed9');\n",
              "          const dataTable =\n",
              "            await google.colab.kernel.invokeFunction('convertToInteractive',\n",
              "                                                     [key], {});\n",
              "          if (!dataTable) return;\n",
              "\n",
              "          const docLinkHtml = 'Like what you see? Visit the ' +\n",
              "            '<a target=\"_blank\" href=https://colab.research.google.com/notebooks/data_table.ipynb>data table notebook</a>'\n",
              "            + ' to learn more about interactive tables.';\n",
              "          element.innerHTML = '';\n",
              "          dataTable['output_type'] = 'display_data';\n",
              "          await google.colab.output.renderOutput(dataTable, element);\n",
              "          const docLink = document.createElement('div');\n",
              "          docLink.innerHTML = docLinkHtml;\n",
              "          element.appendChild(docLink);\n",
              "        }\n",
              "      </script>\n",
              "    </div>\n",
              "  </div>\n",
              "  "
            ]
          },
          "metadata": {},
          "execution_count": 5
        }
      ]
    },
    {
      "cell_type": "code",
      "source": [
        "df_test.shape"
      ],
      "metadata": {
        "colab": {
          "base_uri": "https://localhost:8080/"
        },
        "id": "3f3TF5f1v4z3",
        "outputId": "f00c1c4b-f465-4a66-d5a8-6f4814b876ef"
      },
      "execution_count": 6,
      "outputs": [
        {
          "output_type": "execute_result",
          "data": {
            "text/plain": [
              "(1705, 11)"
            ]
          },
          "metadata": {},
          "execution_count": 6
        }
      ]
    },
    {
      "cell_type": "code",
      "source": [
        "df_test.head()"
      ],
      "metadata": {
        "colab": {
          "base_uri": "https://localhost:8080/",
          "height": 250
        },
        "id": "fHkwbUpMv8XS",
        "outputId": "287a5551-7bd7-4751-f9b2-0a06a85cbaac"
      },
      "execution_count": 7,
      "outputs": [
        {
          "output_type": "execute_result",
          "data": {
            "text/plain": [
              "  Medicine_ID  Counterfeit_Weight DistArea_ID  Active_Since  Medicine_MRP  \\\n",
              "0       HLZ81                 NaN     Area027          1983       85.5328   \n",
              "1       ECE94               13.45     Area045          2000      257.1460   \n",
              "2       SAD14                7.10     Area045          2000       98.1172   \n",
              "3       EQV63               18.30     Area010          1996      135.3730   \n",
              "4       AIR10                 NaN     Area019          1983      112.8016   \n",
              "\n",
              "        Medicine_Type SidEffect_Level  Availability_rating  \\\n",
              "0         Antibiotics            mild             0.112747   \n",
              "1  OralContraceptives            mild             0.144446   \n",
              "2        Antipyretics            mild             0.144221   \n",
              "3       Tranquilizers            mild             0.100388   \n",
              "4  OralContraceptives            mild             0.022585   \n",
              "\n",
              "            Area_Type Area_City_Type Area_dist_level  \n",
              "0          CityLimits         Tier 3          Medium  \n",
              "1            DownTown         Tier 2         Unknown  \n",
              "2            DownTown         Tier 2         Unknown  \n",
              "3  MidTownResidential         Tier 3         Unknown  \n",
              "4  MidTownResidential         Tier 1           Small  "
            ],
            "text/html": [
              "\n",
              "  <div id=\"df-21d5f503-2af0-4455-ae31-32b7b7a17a9e\">\n",
              "    <div class=\"colab-df-container\">\n",
              "      <div>\n",
              "<style scoped>\n",
              "    .dataframe tbody tr th:only-of-type {\n",
              "        vertical-align: middle;\n",
              "    }\n",
              "\n",
              "    .dataframe tbody tr th {\n",
              "        vertical-align: top;\n",
              "    }\n",
              "\n",
              "    .dataframe thead th {\n",
              "        text-align: right;\n",
              "    }\n",
              "</style>\n",
              "<table border=\"1\" class=\"dataframe\">\n",
              "  <thead>\n",
              "    <tr style=\"text-align: right;\">\n",
              "      <th></th>\n",
              "      <th>Medicine_ID</th>\n",
              "      <th>Counterfeit_Weight</th>\n",
              "      <th>DistArea_ID</th>\n",
              "      <th>Active_Since</th>\n",
              "      <th>Medicine_MRP</th>\n",
              "      <th>Medicine_Type</th>\n",
              "      <th>SidEffect_Level</th>\n",
              "      <th>Availability_rating</th>\n",
              "      <th>Area_Type</th>\n",
              "      <th>Area_City_Type</th>\n",
              "      <th>Area_dist_level</th>\n",
              "    </tr>\n",
              "  </thead>\n",
              "  <tbody>\n",
              "    <tr>\n",
              "      <th>0</th>\n",
              "      <td>HLZ81</td>\n",
              "      <td>NaN</td>\n",
              "      <td>Area027</td>\n",
              "      <td>1983</td>\n",
              "      <td>85.5328</td>\n",
              "      <td>Antibiotics</td>\n",
              "      <td>mild</td>\n",
              "      <td>0.112747</td>\n",
              "      <td>CityLimits</td>\n",
              "      <td>Tier 3</td>\n",
              "      <td>Medium</td>\n",
              "    </tr>\n",
              "    <tr>\n",
              "      <th>1</th>\n",
              "      <td>ECE94</td>\n",
              "      <td>13.45</td>\n",
              "      <td>Area045</td>\n",
              "      <td>2000</td>\n",
              "      <td>257.1460</td>\n",
              "      <td>OralContraceptives</td>\n",
              "      <td>mild</td>\n",
              "      <td>0.144446</td>\n",
              "      <td>DownTown</td>\n",
              "      <td>Tier 2</td>\n",
              "      <td>Unknown</td>\n",
              "    </tr>\n",
              "    <tr>\n",
              "      <th>2</th>\n",
              "      <td>SAD14</td>\n",
              "      <td>7.10</td>\n",
              "      <td>Area045</td>\n",
              "      <td>2000</td>\n",
              "      <td>98.1172</td>\n",
              "      <td>Antipyretics</td>\n",
              "      <td>mild</td>\n",
              "      <td>0.144221</td>\n",
              "      <td>DownTown</td>\n",
              "      <td>Tier 2</td>\n",
              "      <td>Unknown</td>\n",
              "    </tr>\n",
              "    <tr>\n",
              "      <th>3</th>\n",
              "      <td>EQV63</td>\n",
              "      <td>18.30</td>\n",
              "      <td>Area010</td>\n",
              "      <td>1996</td>\n",
              "      <td>135.3730</td>\n",
              "      <td>Tranquilizers</td>\n",
              "      <td>mild</td>\n",
              "      <td>0.100388</td>\n",
              "      <td>MidTownResidential</td>\n",
              "      <td>Tier 3</td>\n",
              "      <td>Unknown</td>\n",
              "    </tr>\n",
              "    <tr>\n",
              "      <th>4</th>\n",
              "      <td>AIR10</td>\n",
              "      <td>NaN</td>\n",
              "      <td>Area019</td>\n",
              "      <td>1983</td>\n",
              "      <td>112.8016</td>\n",
              "      <td>OralContraceptives</td>\n",
              "      <td>mild</td>\n",
              "      <td>0.022585</td>\n",
              "      <td>MidTownResidential</td>\n",
              "      <td>Tier 1</td>\n",
              "      <td>Small</td>\n",
              "    </tr>\n",
              "  </tbody>\n",
              "</table>\n",
              "</div>\n",
              "      <button class=\"colab-df-convert\" onclick=\"convertToInteractive('df-21d5f503-2af0-4455-ae31-32b7b7a17a9e')\"\n",
              "              title=\"Convert this dataframe to an interactive table.\"\n",
              "              style=\"display:none;\">\n",
              "        \n",
              "  <svg xmlns=\"http://www.w3.org/2000/svg\" height=\"24px\"viewBox=\"0 0 24 24\"\n",
              "       width=\"24px\">\n",
              "    <path d=\"M0 0h24v24H0V0z\" fill=\"none\"/>\n",
              "    <path d=\"M18.56 5.44l.94 2.06.94-2.06 2.06-.94-2.06-.94-.94-2.06-.94 2.06-2.06.94zm-11 1L8.5 8.5l.94-2.06 2.06-.94-2.06-.94L8.5 2.5l-.94 2.06-2.06.94zm10 10l.94 2.06.94-2.06 2.06-.94-2.06-.94-.94-2.06-.94 2.06-2.06.94z\"/><path d=\"M17.41 7.96l-1.37-1.37c-.4-.4-.92-.59-1.43-.59-.52 0-1.04.2-1.43.59L10.3 9.45l-7.72 7.72c-.78.78-.78 2.05 0 2.83L4 21.41c.39.39.9.59 1.41.59.51 0 1.02-.2 1.41-.59l7.78-7.78 2.81-2.81c.8-.78.8-2.07 0-2.86zM5.41 20L4 18.59l7.72-7.72 1.47 1.35L5.41 20z\"/>\n",
              "  </svg>\n",
              "      </button>\n",
              "      \n",
              "  <style>\n",
              "    .colab-df-container {\n",
              "      display:flex;\n",
              "      flex-wrap:wrap;\n",
              "      gap: 12px;\n",
              "    }\n",
              "\n",
              "    .colab-df-convert {\n",
              "      background-color: #E8F0FE;\n",
              "      border: none;\n",
              "      border-radius: 50%;\n",
              "      cursor: pointer;\n",
              "      display: none;\n",
              "      fill: #1967D2;\n",
              "      height: 32px;\n",
              "      padding: 0 0 0 0;\n",
              "      width: 32px;\n",
              "    }\n",
              "\n",
              "    .colab-df-convert:hover {\n",
              "      background-color: #E2EBFA;\n",
              "      box-shadow: 0px 1px 2px rgba(60, 64, 67, 0.3), 0px 1px 3px 1px rgba(60, 64, 67, 0.15);\n",
              "      fill: #174EA6;\n",
              "    }\n",
              "\n",
              "    [theme=dark] .colab-df-convert {\n",
              "      background-color: #3B4455;\n",
              "      fill: #D2E3FC;\n",
              "    }\n",
              "\n",
              "    [theme=dark] .colab-df-convert:hover {\n",
              "      background-color: #434B5C;\n",
              "      box-shadow: 0px 1px 3px 1px rgba(0, 0, 0, 0.15);\n",
              "      filter: drop-shadow(0px 1px 2px rgba(0, 0, 0, 0.3));\n",
              "      fill: #FFFFFF;\n",
              "    }\n",
              "  </style>\n",
              "\n",
              "      <script>\n",
              "        const buttonEl =\n",
              "          document.querySelector('#df-21d5f503-2af0-4455-ae31-32b7b7a17a9e button.colab-df-convert');\n",
              "        buttonEl.style.display =\n",
              "          google.colab.kernel.accessAllowed ? 'block' : 'none';\n",
              "\n",
              "        async function convertToInteractive(key) {\n",
              "          const element = document.querySelector('#df-21d5f503-2af0-4455-ae31-32b7b7a17a9e');\n",
              "          const dataTable =\n",
              "            await google.colab.kernel.invokeFunction('convertToInteractive',\n",
              "                                                     [key], {});\n",
              "          if (!dataTable) return;\n",
              "\n",
              "          const docLinkHtml = 'Like what you see? Visit the ' +\n",
              "            '<a target=\"_blank\" href=https://colab.research.google.com/notebooks/data_table.ipynb>data table notebook</a>'\n",
              "            + ' to learn more about interactive tables.';\n",
              "          element.innerHTML = '';\n",
              "          dataTable['output_type'] = 'display_data';\n",
              "          await google.colab.output.renderOutput(dataTable, element);\n",
              "          const docLink = document.createElement('div');\n",
              "          docLink.innerHTML = docLinkHtml;\n",
              "          element.appendChild(docLink);\n",
              "        }\n",
              "      </script>\n",
              "    </div>\n",
              "  </div>\n",
              "  "
            ]
          },
          "metadata": {},
          "execution_count": 7
        }
      ]
    },
    {
      "cell_type": "code",
      "source": [
        "list(zip(df_train.columns,df_train.dtypes,df_train.nunique(),df_train.isnull().sum()))"
      ],
      "metadata": {
        "colab": {
          "base_uri": "https://localhost:8080/"
        },
        "id": "LxFYd6wKwFMd",
        "outputId": "66d0490a-ed52-4eca-edbb-86d00b27c856"
      },
      "execution_count": 8,
      "outputs": [
        {
          "output_type": "execute_result",
          "data": {
            "text/plain": [
              "[('Medicine_ID', dtype('O'), 1557, 0),\n",
              " ('Counterfeit_Weight', dtype('float64'), 414, 1166),\n",
              " ('DistArea_ID', dtype('O'), 10, 0),\n",
              " ('Active_Since', dtype('int64'), 9, 0),\n",
              " ('Medicine_MRP', dtype('float64'), 5097, 0),\n",
              " ('Medicine_Type', dtype('O'), 16, 0),\n",
              " ('SidEffect_Level', dtype('O'), 2, 0),\n",
              " ('Availability_rating', dtype('float64'), 6317, 0),\n",
              " ('Area_Type', dtype('O'), 4, 0),\n",
              " ('Area_City_Type', dtype('O'), 3, 0),\n",
              " ('Area_dist_level', dtype('O'), 4, 0),\n",
              " ('Counterfeit_Sales', dtype('float64'), 3142, 0)]"
            ]
          },
          "metadata": {},
          "execution_count": 8
        }
      ]
    },
    {
      "cell_type": "code",
      "source": [
        "df_test[\"Counterfeit_Sales\"]=np.nan\n",
        "df_test[\"data\"]=\"test\"\n",
        "df_train[\"data\"]=\"train\""
      ],
      "metadata": {
        "id": "sW9Ksc0XwRFT"
      },
      "execution_count": 9,
      "outputs": []
    },
    {
      "cell_type": "code",
      "source": [
        "df_all=pd.concat([df_train,df_test],axis=0)"
      ],
      "metadata": {
        "id": "lfwRsUphwkmU"
      },
      "execution_count": 10,
      "outputs": []
    },
    {
      "cell_type": "code",
      "source": [
        "df_all.shape"
      ],
      "metadata": {
        "colab": {
          "base_uri": "https://localhost:8080/"
        },
        "id": "pq6Dbgcbw3TQ",
        "outputId": "24db8114-a8a1-4d12-b3d1-a5ab9347ef4a"
      },
      "execution_count": 11,
      "outputs": [
        {
          "output_type": "execute_result",
          "data": {
            "text/plain": [
              "(8523, 13)"
            ]
          },
          "metadata": {},
          "execution_count": 11
        }
      ]
    },
    {
      "cell_type": "code",
      "source": [
        "list(zip(df_all.columns,df_all.dtypes,df_all.nunique(),df_all.isnull().sum()))"
      ],
      "metadata": {
        "colab": {
          "base_uri": "https://localhost:8080/"
        },
        "id": "Fm7W1B2Aw9Rn",
        "outputId": "8d72e29f-1fc3-4845-958d-55c184b43993"
      },
      "execution_count": 12,
      "outputs": [
        {
          "output_type": "execute_result",
          "data": {
            "text/plain": [
              "[('Medicine_ID', dtype('O'), 1557, 0),\n",
              " ('Counterfeit_Weight', dtype('float64'), 415, 1463),\n",
              " ('DistArea_ID', dtype('O'), 10, 0),\n",
              " ('Active_Since', dtype('int64'), 9, 0),\n",
              " ('Medicine_MRP', dtype('float64'), 5949, 0),\n",
              " ('Medicine_Type', dtype('O'), 16, 0),\n",
              " ('SidEffect_Level', dtype('O'), 2, 0),\n",
              " ('Availability_rating', dtype('float64'), 7882, 0),\n",
              " ('Area_Type', dtype('O'), 4, 0),\n",
              " ('Area_City_Type', dtype('O'), 3, 0),\n",
              " ('Area_dist_level', dtype('O'), 4, 0),\n",
              " ('Counterfeit_Sales', dtype('float64'), 3142, 1705),\n",
              " ('data', dtype('O'), 2, 0)]"
            ]
          },
          "metadata": {},
          "execution_count": 12
        }
      ]
    },
    {
      "cell_type": "code",
      "source": [
        "#1. convert active since to a feature current_year-active_since\n",
        "#2. Remove Medicine ID\n",
        "#3. Replace nan values in Counterfeit_Weight with average of train data\n",
        "#4. make dummy variacbles for others."
      ],
      "metadata": {
        "id": "lVoAuCjkxIuv"
      },
      "execution_count": 13,
      "outputs": []
    },
    {
      "cell_type": "code",
      "source": [
        "from datetime import date\n",
        "df_all[\"year\"]=date.today().year-df_all[\"Active_Since\"]"
      ],
      "metadata": {
        "id": "o5ZsOdWoxWAB"
      },
      "execution_count": 14,
      "outputs": []
    },
    {
      "cell_type": "code",
      "source": [
        "df_all.drop([\"Active_Since\",\"Medicine_ID\"],axis=1,inplace=True)"
      ],
      "metadata": {
        "id": "DtaEHOUwxhBp"
      },
      "execution_count": 15,
      "outputs": []
    },
    {
      "cell_type": "code",
      "source": [
        "df_all.loc[df_all[\"Counterfeit_Weight\"].isnull(),\"Counterfeit_Weight\"]=df_all.loc[df_all[\"data\"]==\"train\",\"Counterfeit_Weight\"].mean()"
      ],
      "metadata": {
        "id": "FQFN0YmyxkM2"
      },
      "execution_count": 16,
      "outputs": []
    },
    {
      "cell_type": "code",
      "source": [
        "df_all.head()"
      ],
      "metadata": {
        "colab": {
          "base_uri": "https://localhost:8080/",
          "height": 270
        },
        "id": "g80m8z48DdT7",
        "outputId": "d538e3d7-f96e-4932-d814-826db6d0e370"
      },
      "execution_count": 17,
      "outputs": [
        {
          "output_type": "execute_result",
          "data": {
            "text/plain": [
              "   Counterfeit_Weight DistArea_ID  Medicine_MRP       Medicine_Type  \\\n",
              "0           13.100000     Area046      160.2366        Antimalarial   \n",
              "1           14.115057     Area027      110.4384         Mstablizers   \n",
              "2            9.025000     Area046      259.4092             Cardiac   \n",
              "3           11.800000     Area046       99.9830  OralContraceptives   \n",
              "4           14.115057     Area019       56.4402       Hreplacements   \n",
              "\n",
              "  SidEffect_Level  Availability_rating           Area_Type Area_City_Type  \\\n",
              "0        critical             0.070422            DownTown         Tier 1   \n",
              "1            mild             0.013000          CityLimits         Tier 3   \n",
              "2            mild             0.060783            DownTown         Tier 1   \n",
              "3            mild             0.065555            DownTown         Tier 1   \n",
              "4        critical             0.248859  MidTownResidential         Tier 1   \n",
              "\n",
              "  Area_dist_level  Counterfeit_Sales   data  year  \n",
              "0           Small          1775.5026  train    28  \n",
              "1          Medium          3069.1520  train    40  \n",
              "2           Small          2603.0920  train    28  \n",
              "3           Small          1101.7130  train    28  \n",
              "4           Small           158.9402  train    40  "
            ],
            "text/html": [
              "\n",
              "  <div id=\"df-fd526053-58a0-4955-99d1-dc1d61fa372d\">\n",
              "    <div class=\"colab-df-container\">\n",
              "      <div>\n",
              "<style scoped>\n",
              "    .dataframe tbody tr th:only-of-type {\n",
              "        vertical-align: middle;\n",
              "    }\n",
              "\n",
              "    .dataframe tbody tr th {\n",
              "        vertical-align: top;\n",
              "    }\n",
              "\n",
              "    .dataframe thead th {\n",
              "        text-align: right;\n",
              "    }\n",
              "</style>\n",
              "<table border=\"1\" class=\"dataframe\">\n",
              "  <thead>\n",
              "    <tr style=\"text-align: right;\">\n",
              "      <th></th>\n",
              "      <th>Counterfeit_Weight</th>\n",
              "      <th>DistArea_ID</th>\n",
              "      <th>Medicine_MRP</th>\n",
              "      <th>Medicine_Type</th>\n",
              "      <th>SidEffect_Level</th>\n",
              "      <th>Availability_rating</th>\n",
              "      <th>Area_Type</th>\n",
              "      <th>Area_City_Type</th>\n",
              "      <th>Area_dist_level</th>\n",
              "      <th>Counterfeit_Sales</th>\n",
              "      <th>data</th>\n",
              "      <th>year</th>\n",
              "    </tr>\n",
              "  </thead>\n",
              "  <tbody>\n",
              "    <tr>\n",
              "      <th>0</th>\n",
              "      <td>13.100000</td>\n",
              "      <td>Area046</td>\n",
              "      <td>160.2366</td>\n",
              "      <td>Antimalarial</td>\n",
              "      <td>critical</td>\n",
              "      <td>0.070422</td>\n",
              "      <td>DownTown</td>\n",
              "      <td>Tier 1</td>\n",
              "      <td>Small</td>\n",
              "      <td>1775.5026</td>\n",
              "      <td>train</td>\n",
              "      <td>28</td>\n",
              "    </tr>\n",
              "    <tr>\n",
              "      <th>1</th>\n",
              "      <td>14.115057</td>\n",
              "      <td>Area027</td>\n",
              "      <td>110.4384</td>\n",
              "      <td>Mstablizers</td>\n",
              "      <td>mild</td>\n",
              "      <td>0.013000</td>\n",
              "      <td>CityLimits</td>\n",
              "      <td>Tier 3</td>\n",
              "      <td>Medium</td>\n",
              "      <td>3069.1520</td>\n",
              "      <td>train</td>\n",
              "      <td>40</td>\n",
              "    </tr>\n",
              "    <tr>\n",
              "      <th>2</th>\n",
              "      <td>9.025000</td>\n",
              "      <td>Area046</td>\n",
              "      <td>259.4092</td>\n",
              "      <td>Cardiac</td>\n",
              "      <td>mild</td>\n",
              "      <td>0.060783</td>\n",
              "      <td>DownTown</td>\n",
              "      <td>Tier 1</td>\n",
              "      <td>Small</td>\n",
              "      <td>2603.0920</td>\n",
              "      <td>train</td>\n",
              "      <td>28</td>\n",
              "    </tr>\n",
              "    <tr>\n",
              "      <th>3</th>\n",
              "      <td>11.800000</td>\n",
              "      <td>Area046</td>\n",
              "      <td>99.9830</td>\n",
              "      <td>OralContraceptives</td>\n",
              "      <td>mild</td>\n",
              "      <td>0.065555</td>\n",
              "      <td>DownTown</td>\n",
              "      <td>Tier 1</td>\n",
              "      <td>Small</td>\n",
              "      <td>1101.7130</td>\n",
              "      <td>train</td>\n",
              "      <td>28</td>\n",
              "    </tr>\n",
              "    <tr>\n",
              "      <th>4</th>\n",
              "      <td>14.115057</td>\n",
              "      <td>Area019</td>\n",
              "      <td>56.4402</td>\n",
              "      <td>Hreplacements</td>\n",
              "      <td>critical</td>\n",
              "      <td>0.248859</td>\n",
              "      <td>MidTownResidential</td>\n",
              "      <td>Tier 1</td>\n",
              "      <td>Small</td>\n",
              "      <td>158.9402</td>\n",
              "      <td>train</td>\n",
              "      <td>40</td>\n",
              "    </tr>\n",
              "  </tbody>\n",
              "</table>\n",
              "</div>\n",
              "      <button class=\"colab-df-convert\" onclick=\"convertToInteractive('df-fd526053-58a0-4955-99d1-dc1d61fa372d')\"\n",
              "              title=\"Convert this dataframe to an interactive table.\"\n",
              "              style=\"display:none;\">\n",
              "        \n",
              "  <svg xmlns=\"http://www.w3.org/2000/svg\" height=\"24px\"viewBox=\"0 0 24 24\"\n",
              "       width=\"24px\">\n",
              "    <path d=\"M0 0h24v24H0V0z\" fill=\"none\"/>\n",
              "    <path d=\"M18.56 5.44l.94 2.06.94-2.06 2.06-.94-2.06-.94-.94-2.06-.94 2.06-2.06.94zm-11 1L8.5 8.5l.94-2.06 2.06-.94-2.06-.94L8.5 2.5l-.94 2.06-2.06.94zm10 10l.94 2.06.94-2.06 2.06-.94-2.06-.94-.94-2.06-.94 2.06-2.06.94z\"/><path d=\"M17.41 7.96l-1.37-1.37c-.4-.4-.92-.59-1.43-.59-.52 0-1.04.2-1.43.59L10.3 9.45l-7.72 7.72c-.78.78-.78 2.05 0 2.83L4 21.41c.39.39.9.59 1.41.59.51 0 1.02-.2 1.41-.59l7.78-7.78 2.81-2.81c.8-.78.8-2.07 0-2.86zM5.41 20L4 18.59l7.72-7.72 1.47 1.35L5.41 20z\"/>\n",
              "  </svg>\n",
              "      </button>\n",
              "      \n",
              "  <style>\n",
              "    .colab-df-container {\n",
              "      display:flex;\n",
              "      flex-wrap:wrap;\n",
              "      gap: 12px;\n",
              "    }\n",
              "\n",
              "    .colab-df-convert {\n",
              "      background-color: #E8F0FE;\n",
              "      border: none;\n",
              "      border-radius: 50%;\n",
              "      cursor: pointer;\n",
              "      display: none;\n",
              "      fill: #1967D2;\n",
              "      height: 32px;\n",
              "      padding: 0 0 0 0;\n",
              "      width: 32px;\n",
              "    }\n",
              "\n",
              "    .colab-df-convert:hover {\n",
              "      background-color: #E2EBFA;\n",
              "      box-shadow: 0px 1px 2px rgba(60, 64, 67, 0.3), 0px 1px 3px 1px rgba(60, 64, 67, 0.15);\n",
              "      fill: #174EA6;\n",
              "    }\n",
              "\n",
              "    [theme=dark] .colab-df-convert {\n",
              "      background-color: #3B4455;\n",
              "      fill: #D2E3FC;\n",
              "    }\n",
              "\n",
              "    [theme=dark] .colab-df-convert:hover {\n",
              "      background-color: #434B5C;\n",
              "      box-shadow: 0px 1px 3px 1px rgba(0, 0, 0, 0.15);\n",
              "      filter: drop-shadow(0px 1px 2px rgba(0, 0, 0, 0.3));\n",
              "      fill: #FFFFFF;\n",
              "    }\n",
              "  </style>\n",
              "\n",
              "      <script>\n",
              "        const buttonEl =\n",
              "          document.querySelector('#df-fd526053-58a0-4955-99d1-dc1d61fa372d button.colab-df-convert');\n",
              "        buttonEl.style.display =\n",
              "          google.colab.kernel.accessAllowed ? 'block' : 'none';\n",
              "\n",
              "        async function convertToInteractive(key) {\n",
              "          const element = document.querySelector('#df-fd526053-58a0-4955-99d1-dc1d61fa372d');\n",
              "          const dataTable =\n",
              "            await google.colab.kernel.invokeFunction('convertToInteractive',\n",
              "                                                     [key], {});\n",
              "          if (!dataTable) return;\n",
              "\n",
              "          const docLinkHtml = 'Like what you see? Visit the ' +\n",
              "            '<a target=\"_blank\" href=https://colab.research.google.com/notebooks/data_table.ipynb>data table notebook</a>'\n",
              "            + ' to learn more about interactive tables.';\n",
              "          element.innerHTML = '';\n",
              "          dataTable['output_type'] = 'display_data';\n",
              "          await google.colab.output.renderOutput(dataTable, element);\n",
              "          const docLink = document.createElement('div');\n",
              "          docLink.innerHTML = docLinkHtml;\n",
              "          element.appendChild(docLink);\n",
              "        }\n",
              "      </script>\n",
              "    </div>\n",
              "  </div>\n",
              "  "
            ]
          },
          "metadata": {},
          "execution_count": 17
        }
      ]
    },
    {
      "cell_type": "code",
      "source": [
        "list(zip(df_all.columns,df_all.dtypes,df_all.nunique(),df_all.isnull().sum()))"
      ],
      "metadata": {
        "colab": {
          "base_uri": "https://localhost:8080/"
        },
        "id": "TIOwytFyDoCM",
        "outputId": "97b0beee-028d-473a-c2e8-b214842e5214"
      },
      "execution_count": 18,
      "outputs": [
        {
          "output_type": "execute_result",
          "data": {
            "text/plain": [
              "[('Counterfeit_Weight', dtype('float64'), 416, 0),\n",
              " ('DistArea_ID', dtype('O'), 10, 0),\n",
              " ('Medicine_MRP', dtype('float64'), 5949, 0),\n",
              " ('Medicine_Type', dtype('O'), 16, 0),\n",
              " ('SidEffect_Level', dtype('O'), 2, 0),\n",
              " ('Availability_rating', dtype('float64'), 7882, 0),\n",
              " ('Area_Type', dtype('O'), 4, 0),\n",
              " ('Area_City_Type', dtype('O'), 3, 0),\n",
              " ('Area_dist_level', dtype('O'), 4, 0),\n",
              " ('Counterfeit_Sales', dtype('float64'), 3142, 1705),\n",
              " ('data', dtype('O'), 2, 0),\n",
              " ('year', dtype('int64'), 9, 0)]"
            ]
          },
          "metadata": {},
          "execution_count": 18
        }
      ]
    },
    {
      "cell_type": "code",
      "source": [
        "pd.crosstab(df_all[\"Area_Type\"],df_all[\"Area_dist_level\"])"
      ],
      "metadata": {
        "colab": {
          "base_uri": "https://localhost:8080/",
          "height": 206
        },
        "id": "7mjxqy7EDtW7",
        "outputId": "3d35abc7-042d-40d4-b9c1-d7a7adceb4b3"
      },
      "execution_count": 19,
      "outputs": [
        {
          "output_type": "execute_result",
          "data": {
            "text/plain": [
              "Area_dist_level     High  Medium  Small  Unknown\n",
              "Area_Type                                       \n",
              "CityLimits             0     935      0        0\n",
              "DownTown             932     930   1860     1855\n",
              "Industrial             0     928      0        0\n",
              "MidTownResidential     0       0    528      555"
            ],
            "text/html": [
              "\n",
              "  <div id=\"df-950d20a4-d4b4-4c8d-a3a3-71d5934a266e\">\n",
              "    <div class=\"colab-df-container\">\n",
              "      <div>\n",
              "<style scoped>\n",
              "    .dataframe tbody tr th:only-of-type {\n",
              "        vertical-align: middle;\n",
              "    }\n",
              "\n",
              "    .dataframe tbody tr th {\n",
              "        vertical-align: top;\n",
              "    }\n",
              "\n",
              "    .dataframe thead th {\n",
              "        text-align: right;\n",
              "    }\n",
              "</style>\n",
              "<table border=\"1\" class=\"dataframe\">\n",
              "  <thead>\n",
              "    <tr style=\"text-align: right;\">\n",
              "      <th>Area_dist_level</th>\n",
              "      <th>High</th>\n",
              "      <th>Medium</th>\n",
              "      <th>Small</th>\n",
              "      <th>Unknown</th>\n",
              "    </tr>\n",
              "    <tr>\n",
              "      <th>Area_Type</th>\n",
              "      <th></th>\n",
              "      <th></th>\n",
              "      <th></th>\n",
              "      <th></th>\n",
              "    </tr>\n",
              "  </thead>\n",
              "  <tbody>\n",
              "    <tr>\n",
              "      <th>CityLimits</th>\n",
              "      <td>0</td>\n",
              "      <td>935</td>\n",
              "      <td>0</td>\n",
              "      <td>0</td>\n",
              "    </tr>\n",
              "    <tr>\n",
              "      <th>DownTown</th>\n",
              "      <td>932</td>\n",
              "      <td>930</td>\n",
              "      <td>1860</td>\n",
              "      <td>1855</td>\n",
              "    </tr>\n",
              "    <tr>\n",
              "      <th>Industrial</th>\n",
              "      <td>0</td>\n",
              "      <td>928</td>\n",
              "      <td>0</td>\n",
              "      <td>0</td>\n",
              "    </tr>\n",
              "    <tr>\n",
              "      <th>MidTownResidential</th>\n",
              "      <td>0</td>\n",
              "      <td>0</td>\n",
              "      <td>528</td>\n",
              "      <td>555</td>\n",
              "    </tr>\n",
              "  </tbody>\n",
              "</table>\n",
              "</div>\n",
              "      <button class=\"colab-df-convert\" onclick=\"convertToInteractive('df-950d20a4-d4b4-4c8d-a3a3-71d5934a266e')\"\n",
              "              title=\"Convert this dataframe to an interactive table.\"\n",
              "              style=\"display:none;\">\n",
              "        \n",
              "  <svg xmlns=\"http://www.w3.org/2000/svg\" height=\"24px\"viewBox=\"0 0 24 24\"\n",
              "       width=\"24px\">\n",
              "    <path d=\"M0 0h24v24H0V0z\" fill=\"none\"/>\n",
              "    <path d=\"M18.56 5.44l.94 2.06.94-2.06 2.06-.94-2.06-.94-.94-2.06-.94 2.06-2.06.94zm-11 1L8.5 8.5l.94-2.06 2.06-.94-2.06-.94L8.5 2.5l-.94 2.06-2.06.94zm10 10l.94 2.06.94-2.06 2.06-.94-2.06-.94-.94-2.06-.94 2.06-2.06.94z\"/><path d=\"M17.41 7.96l-1.37-1.37c-.4-.4-.92-.59-1.43-.59-.52 0-1.04.2-1.43.59L10.3 9.45l-7.72 7.72c-.78.78-.78 2.05 0 2.83L4 21.41c.39.39.9.59 1.41.59.51 0 1.02-.2 1.41-.59l7.78-7.78 2.81-2.81c.8-.78.8-2.07 0-2.86zM5.41 20L4 18.59l7.72-7.72 1.47 1.35L5.41 20z\"/>\n",
              "  </svg>\n",
              "      </button>\n",
              "      \n",
              "  <style>\n",
              "    .colab-df-container {\n",
              "      display:flex;\n",
              "      flex-wrap:wrap;\n",
              "      gap: 12px;\n",
              "    }\n",
              "\n",
              "    .colab-df-convert {\n",
              "      background-color: #E8F0FE;\n",
              "      border: none;\n",
              "      border-radius: 50%;\n",
              "      cursor: pointer;\n",
              "      display: none;\n",
              "      fill: #1967D2;\n",
              "      height: 32px;\n",
              "      padding: 0 0 0 0;\n",
              "      width: 32px;\n",
              "    }\n",
              "\n",
              "    .colab-df-convert:hover {\n",
              "      background-color: #E2EBFA;\n",
              "      box-shadow: 0px 1px 2px rgba(60, 64, 67, 0.3), 0px 1px 3px 1px rgba(60, 64, 67, 0.15);\n",
              "      fill: #174EA6;\n",
              "    }\n",
              "\n",
              "    [theme=dark] .colab-df-convert {\n",
              "      background-color: #3B4455;\n",
              "      fill: #D2E3FC;\n",
              "    }\n",
              "\n",
              "    [theme=dark] .colab-df-convert:hover {\n",
              "      background-color: #434B5C;\n",
              "      box-shadow: 0px 1px 3px 1px rgba(0, 0, 0, 0.15);\n",
              "      filter: drop-shadow(0px 1px 2px rgba(0, 0, 0, 0.3));\n",
              "      fill: #FFFFFF;\n",
              "    }\n",
              "  </style>\n",
              "\n",
              "      <script>\n",
              "        const buttonEl =\n",
              "          document.querySelector('#df-950d20a4-d4b4-4c8d-a3a3-71d5934a266e button.colab-df-convert');\n",
              "        buttonEl.style.display =\n",
              "          google.colab.kernel.accessAllowed ? 'block' : 'none';\n",
              "\n",
              "        async function convertToInteractive(key) {\n",
              "          const element = document.querySelector('#df-950d20a4-d4b4-4c8d-a3a3-71d5934a266e');\n",
              "          const dataTable =\n",
              "            await google.colab.kernel.invokeFunction('convertToInteractive',\n",
              "                                                     [key], {});\n",
              "          if (!dataTable) return;\n",
              "\n",
              "          const docLinkHtml = 'Like what you see? Visit the ' +\n",
              "            '<a target=\"_blank\" href=https://colab.research.google.com/notebooks/data_table.ipynb>data table notebook</a>'\n",
              "            + ' to learn more about interactive tables.';\n",
              "          element.innerHTML = '';\n",
              "          dataTable['output_type'] = 'display_data';\n",
              "          await google.colab.output.renderOutput(dataTable, element);\n",
              "          const docLink = document.createElement('div');\n",
              "          docLink.innerHTML = docLinkHtml;\n",
              "          element.appendChild(docLink);\n",
              "        }\n",
              "      </script>\n",
              "    </div>\n",
              "  </div>\n",
              "  "
            ]
          },
          "metadata": {},
          "execution_count": 19
        }
      ]
    },
    {
      "cell_type": "code",
      "source": [
        "cols=df_all.select_dtypes(\"object\").columns\n",
        "cols"
      ],
      "metadata": {
        "colab": {
          "base_uri": "https://localhost:8080/"
        },
        "id": "KktDDQIkELE5",
        "outputId": "6f1ee615-c8db-4c1a-fff9-3a5eafa32816"
      },
      "execution_count": 20,
      "outputs": [
        {
          "output_type": "execute_result",
          "data": {
            "text/plain": [
              "Index(['DistArea_ID', 'Medicine_Type', 'SidEffect_Level', 'Area_Type',\n",
              "       'Area_City_Type', 'Area_dist_level', 'data'],\n",
              "      dtype='object')"
            ]
          },
          "metadata": {},
          "execution_count": 20
        }
      ]
    },
    {
      "cell_type": "code",
      "source": [
        "for col in cols[:-1]:\n",
        "    dummy=pd.get_dummies(df_all[col],drop_first=True,prefix=col)\n",
        "    df_all=pd.concat([df_all,dummy],axis=1)\n",
        "    print(col)\n",
        "    del df_all[col]\n",
        "del dummy  "
      ],
      "metadata": {
        "colab": {
          "base_uri": "https://localhost:8080/"
        },
        "id": "aV3euLNvEMx7",
        "outputId": "1be6d580-2d50-469b-9a72-b54b1e0cd0cd"
      },
      "execution_count": 21,
      "outputs": [
        {
          "output_type": "stream",
          "name": "stdout",
          "text": [
            "DistArea_ID\n",
            "Medicine_Type\n",
            "SidEffect_Level\n",
            "Area_Type\n",
            "Area_City_Type\n",
            "Area_dist_level\n"
          ]
        }
      ]
    },
    {
      "cell_type": "code",
      "source": [
        "list(zip(df_all.columns,df_all.dtypes,df_all.nunique(),df_all.isnull().sum()))"
      ],
      "metadata": {
        "colab": {
          "base_uri": "https://localhost:8080/"
        },
        "id": "REoqoUM-ERH3",
        "outputId": "b18faf21-13f9-4189-d367-f61b72d44ea4"
      },
      "execution_count": 22,
      "outputs": [
        {
          "output_type": "execute_result",
          "data": {
            "text/plain": [
              "[('Counterfeit_Weight', dtype('float64'), 416, 0),\n",
              " ('Medicine_MRP', dtype('float64'), 5949, 0),\n",
              " ('Availability_rating', dtype('float64'), 7882, 0),\n",
              " ('Counterfeit_Sales', dtype('float64'), 3142, 1705),\n",
              " ('data', dtype('O'), 2, 0),\n",
              " ('year', dtype('int64'), 9, 0),\n",
              " ('DistArea_ID_Area013', dtype('uint8'), 2, 0),\n",
              " ('DistArea_ID_Area017', dtype('uint8'), 2, 0),\n",
              " ('DistArea_ID_Area018', dtype('uint8'), 2, 0),\n",
              " ('DistArea_ID_Area019', dtype('uint8'), 2, 0),\n",
              " ('DistArea_ID_Area027', dtype('uint8'), 2, 0),\n",
              " ('DistArea_ID_Area035', dtype('uint8'), 2, 0),\n",
              " ('DistArea_ID_Area045', dtype('uint8'), 2, 0),\n",
              " ('DistArea_ID_Area046', dtype('uint8'), 2, 0),\n",
              " ('DistArea_ID_Area049', dtype('uint8'), 2, 0),\n",
              " ('Medicine_Type_Antacids', dtype('uint8'), 2, 0),\n",
              " ('Medicine_Type_Antibiotics', dtype('uint8'), 2, 0),\n",
              " ('Medicine_Type_Antifungal', dtype('uint8'), 2, 0),\n",
              " ('Medicine_Type_Antimalarial', dtype('uint8'), 2, 0),\n",
              " ('Medicine_Type_Antipyretics', dtype('uint8'), 2, 0),\n",
              " ('Medicine_Type_Antiseptics', dtype('uint8'), 2, 0),\n",
              " ('Medicine_Type_Antiviral', dtype('uint8'), 2, 0),\n",
              " ('Medicine_Type_Cardiac', dtype('uint8'), 2, 0),\n",
              " ('Medicine_Type_Hreplacements', dtype('uint8'), 2, 0),\n",
              " ('Medicine_Type_Mstablizers', dtype('uint8'), 2, 0),\n",
              " ('Medicine_Type_MuscleRelaxants', dtype('uint8'), 2, 0),\n",
              " ('Medicine_Type_OralContraceptives', dtype('uint8'), 2, 0),\n",
              " ('Medicine_Type_Statins', dtype('uint8'), 2, 0),\n",
              " ('Medicine_Type_Stimulants', dtype('uint8'), 2, 0),\n",
              " ('Medicine_Type_Tranquilizers', dtype('uint8'), 2, 0),\n",
              " ('SidEffect_Level_mild', dtype('uint8'), 2, 0),\n",
              " ('Area_Type_DownTown', dtype('uint8'), 2, 0),\n",
              " ('Area_Type_Industrial', dtype('uint8'), 2, 0),\n",
              " ('Area_Type_MidTownResidential', dtype('uint8'), 2, 0),\n",
              " ('Area_City_Type_Tier 2', dtype('uint8'), 2, 0),\n",
              " ('Area_City_Type_Tier 3', dtype('uint8'), 2, 0),\n",
              " ('Area_dist_level_Medium', dtype('uint8'), 2, 0),\n",
              " ('Area_dist_level_Small', dtype('uint8'), 2, 0),\n",
              " ('Area_dist_level_Unknown', dtype('uint8'), 2, 0)]"
            ]
          },
          "metadata": {},
          "execution_count": 22
        }
      ]
    },
    {
      "cell_type": "code",
      "source": [
        "df_all.shape"
      ],
      "metadata": {
        "colab": {
          "base_uri": "https://localhost:8080/"
        },
        "id": "guOeHPhzEYh8",
        "outputId": "e6be43a9-df3c-4887-d040-4925b8799f37"
      },
      "execution_count": 23,
      "outputs": [
        {
          "output_type": "execute_result",
          "data": {
            "text/plain": [
              "(8523, 39)"
            ]
          },
          "metadata": {},
          "execution_count": 23
        }
      ]
    },
    {
      "cell_type": "code",
      "source": [
        "df_all.head()"
      ],
      "metadata": {
        "colab": {
          "base_uri": "https://localhost:8080/",
          "height": 317
        },
        "id": "m-2lnV3mETLU",
        "outputId": "a103ec82-da46-4cdc-8470-cd5e915c9bf1"
      },
      "execution_count": 24,
      "outputs": [
        {
          "output_type": "execute_result",
          "data": {
            "text/plain": [
              "   Counterfeit_Weight  Medicine_MRP  Availability_rating  Counterfeit_Sales  \\\n",
              "0           13.100000      160.2366             0.070422          1775.5026   \n",
              "1           14.115057      110.4384             0.013000          3069.1520   \n",
              "2            9.025000      259.4092             0.060783          2603.0920   \n",
              "3           11.800000       99.9830             0.065555          1101.7130   \n",
              "4           14.115057       56.4402             0.248859           158.9402   \n",
              "\n",
              "    data  year  DistArea_ID_Area013  DistArea_ID_Area017  DistArea_ID_Area018  \\\n",
              "0  train    28                    0                    0                    0   \n",
              "1  train    40                    0                    0                    0   \n",
              "2  train    28                    0                    0                    0   \n",
              "3  train    28                    0                    0                    0   \n",
              "4  train    40                    0                    0                    0   \n",
              "\n",
              "   DistArea_ID_Area019  ...  Medicine_Type_Tranquilizers  \\\n",
              "0                    0  ...                            0   \n",
              "1                    0  ...                            0   \n",
              "2                    0  ...                            0   \n",
              "3                    0  ...                            0   \n",
              "4                    1  ...                            0   \n",
              "\n",
              "   SidEffect_Level_mild  Area_Type_DownTown  Area_Type_Industrial  \\\n",
              "0                     0                   1                     0   \n",
              "1                     1                   0                     0   \n",
              "2                     1                   1                     0   \n",
              "3                     1                   1                     0   \n",
              "4                     0                   0                     0   \n",
              "\n",
              "   Area_Type_MidTownResidential  Area_City_Type_Tier 2  Area_City_Type_Tier 3  \\\n",
              "0                             0                      0                      0   \n",
              "1                             0                      0                      1   \n",
              "2                             0                      0                      0   \n",
              "3                             0                      0                      0   \n",
              "4                             1                      0                      0   \n",
              "\n",
              "   Area_dist_level_Medium  Area_dist_level_Small  Area_dist_level_Unknown  \n",
              "0                       0                      1                        0  \n",
              "1                       1                      0                        0  \n",
              "2                       0                      1                        0  \n",
              "3                       0                      1                        0  \n",
              "4                       0                      1                        0  \n",
              "\n",
              "[5 rows x 39 columns]"
            ],
            "text/html": [
              "\n",
              "  <div id=\"df-e4244a00-5b57-4c7a-916d-85c5814a03b9\">\n",
              "    <div class=\"colab-df-container\">\n",
              "      <div>\n",
              "<style scoped>\n",
              "    .dataframe tbody tr th:only-of-type {\n",
              "        vertical-align: middle;\n",
              "    }\n",
              "\n",
              "    .dataframe tbody tr th {\n",
              "        vertical-align: top;\n",
              "    }\n",
              "\n",
              "    .dataframe thead th {\n",
              "        text-align: right;\n",
              "    }\n",
              "</style>\n",
              "<table border=\"1\" class=\"dataframe\">\n",
              "  <thead>\n",
              "    <tr style=\"text-align: right;\">\n",
              "      <th></th>\n",
              "      <th>Counterfeit_Weight</th>\n",
              "      <th>Medicine_MRP</th>\n",
              "      <th>Availability_rating</th>\n",
              "      <th>Counterfeit_Sales</th>\n",
              "      <th>data</th>\n",
              "      <th>year</th>\n",
              "      <th>DistArea_ID_Area013</th>\n",
              "      <th>DistArea_ID_Area017</th>\n",
              "      <th>DistArea_ID_Area018</th>\n",
              "      <th>DistArea_ID_Area019</th>\n",
              "      <th>...</th>\n",
              "      <th>Medicine_Type_Tranquilizers</th>\n",
              "      <th>SidEffect_Level_mild</th>\n",
              "      <th>Area_Type_DownTown</th>\n",
              "      <th>Area_Type_Industrial</th>\n",
              "      <th>Area_Type_MidTownResidential</th>\n",
              "      <th>Area_City_Type_Tier 2</th>\n",
              "      <th>Area_City_Type_Tier 3</th>\n",
              "      <th>Area_dist_level_Medium</th>\n",
              "      <th>Area_dist_level_Small</th>\n",
              "      <th>Area_dist_level_Unknown</th>\n",
              "    </tr>\n",
              "  </thead>\n",
              "  <tbody>\n",
              "    <tr>\n",
              "      <th>0</th>\n",
              "      <td>13.100000</td>\n",
              "      <td>160.2366</td>\n",
              "      <td>0.070422</td>\n",
              "      <td>1775.5026</td>\n",
              "      <td>train</td>\n",
              "      <td>28</td>\n",
              "      <td>0</td>\n",
              "      <td>0</td>\n",
              "      <td>0</td>\n",
              "      <td>0</td>\n",
              "      <td>...</td>\n",
              "      <td>0</td>\n",
              "      <td>0</td>\n",
              "      <td>1</td>\n",
              "      <td>0</td>\n",
              "      <td>0</td>\n",
              "      <td>0</td>\n",
              "      <td>0</td>\n",
              "      <td>0</td>\n",
              "      <td>1</td>\n",
              "      <td>0</td>\n",
              "    </tr>\n",
              "    <tr>\n",
              "      <th>1</th>\n",
              "      <td>14.115057</td>\n",
              "      <td>110.4384</td>\n",
              "      <td>0.013000</td>\n",
              "      <td>3069.1520</td>\n",
              "      <td>train</td>\n",
              "      <td>40</td>\n",
              "      <td>0</td>\n",
              "      <td>0</td>\n",
              "      <td>0</td>\n",
              "      <td>0</td>\n",
              "      <td>...</td>\n",
              "      <td>0</td>\n",
              "      <td>1</td>\n",
              "      <td>0</td>\n",
              "      <td>0</td>\n",
              "      <td>0</td>\n",
              "      <td>0</td>\n",
              "      <td>1</td>\n",
              "      <td>1</td>\n",
              "      <td>0</td>\n",
              "      <td>0</td>\n",
              "    </tr>\n",
              "    <tr>\n",
              "      <th>2</th>\n",
              "      <td>9.025000</td>\n",
              "      <td>259.4092</td>\n",
              "      <td>0.060783</td>\n",
              "      <td>2603.0920</td>\n",
              "      <td>train</td>\n",
              "      <td>28</td>\n",
              "      <td>0</td>\n",
              "      <td>0</td>\n",
              "      <td>0</td>\n",
              "      <td>0</td>\n",
              "      <td>...</td>\n",
              "      <td>0</td>\n",
              "      <td>1</td>\n",
              "      <td>1</td>\n",
              "      <td>0</td>\n",
              "      <td>0</td>\n",
              "      <td>0</td>\n",
              "      <td>0</td>\n",
              "      <td>0</td>\n",
              "      <td>1</td>\n",
              "      <td>0</td>\n",
              "    </tr>\n",
              "    <tr>\n",
              "      <th>3</th>\n",
              "      <td>11.800000</td>\n",
              "      <td>99.9830</td>\n",
              "      <td>0.065555</td>\n",
              "      <td>1101.7130</td>\n",
              "      <td>train</td>\n",
              "      <td>28</td>\n",
              "      <td>0</td>\n",
              "      <td>0</td>\n",
              "      <td>0</td>\n",
              "      <td>0</td>\n",
              "      <td>...</td>\n",
              "      <td>0</td>\n",
              "      <td>1</td>\n",
              "      <td>1</td>\n",
              "      <td>0</td>\n",
              "      <td>0</td>\n",
              "      <td>0</td>\n",
              "      <td>0</td>\n",
              "      <td>0</td>\n",
              "      <td>1</td>\n",
              "      <td>0</td>\n",
              "    </tr>\n",
              "    <tr>\n",
              "      <th>4</th>\n",
              "      <td>14.115057</td>\n",
              "      <td>56.4402</td>\n",
              "      <td>0.248859</td>\n",
              "      <td>158.9402</td>\n",
              "      <td>train</td>\n",
              "      <td>40</td>\n",
              "      <td>0</td>\n",
              "      <td>0</td>\n",
              "      <td>0</td>\n",
              "      <td>1</td>\n",
              "      <td>...</td>\n",
              "      <td>0</td>\n",
              "      <td>0</td>\n",
              "      <td>0</td>\n",
              "      <td>0</td>\n",
              "      <td>1</td>\n",
              "      <td>0</td>\n",
              "      <td>0</td>\n",
              "      <td>0</td>\n",
              "      <td>1</td>\n",
              "      <td>0</td>\n",
              "    </tr>\n",
              "  </tbody>\n",
              "</table>\n",
              "<p>5 rows × 39 columns</p>\n",
              "</div>\n",
              "      <button class=\"colab-df-convert\" onclick=\"convertToInteractive('df-e4244a00-5b57-4c7a-916d-85c5814a03b9')\"\n",
              "              title=\"Convert this dataframe to an interactive table.\"\n",
              "              style=\"display:none;\">\n",
              "        \n",
              "  <svg xmlns=\"http://www.w3.org/2000/svg\" height=\"24px\"viewBox=\"0 0 24 24\"\n",
              "       width=\"24px\">\n",
              "    <path d=\"M0 0h24v24H0V0z\" fill=\"none\"/>\n",
              "    <path d=\"M18.56 5.44l.94 2.06.94-2.06 2.06-.94-2.06-.94-.94-2.06-.94 2.06-2.06.94zm-11 1L8.5 8.5l.94-2.06 2.06-.94-2.06-.94L8.5 2.5l-.94 2.06-2.06.94zm10 10l.94 2.06.94-2.06 2.06-.94-2.06-.94-.94-2.06-.94 2.06-2.06.94z\"/><path d=\"M17.41 7.96l-1.37-1.37c-.4-.4-.92-.59-1.43-.59-.52 0-1.04.2-1.43.59L10.3 9.45l-7.72 7.72c-.78.78-.78 2.05 0 2.83L4 21.41c.39.39.9.59 1.41.59.51 0 1.02-.2 1.41-.59l7.78-7.78 2.81-2.81c.8-.78.8-2.07 0-2.86zM5.41 20L4 18.59l7.72-7.72 1.47 1.35L5.41 20z\"/>\n",
              "  </svg>\n",
              "      </button>\n",
              "      \n",
              "  <style>\n",
              "    .colab-df-container {\n",
              "      display:flex;\n",
              "      flex-wrap:wrap;\n",
              "      gap: 12px;\n",
              "    }\n",
              "\n",
              "    .colab-df-convert {\n",
              "      background-color: #E8F0FE;\n",
              "      border: none;\n",
              "      border-radius: 50%;\n",
              "      cursor: pointer;\n",
              "      display: none;\n",
              "      fill: #1967D2;\n",
              "      height: 32px;\n",
              "      padding: 0 0 0 0;\n",
              "      width: 32px;\n",
              "    }\n",
              "\n",
              "    .colab-df-convert:hover {\n",
              "      background-color: #E2EBFA;\n",
              "      box-shadow: 0px 1px 2px rgba(60, 64, 67, 0.3), 0px 1px 3px 1px rgba(60, 64, 67, 0.15);\n",
              "      fill: #174EA6;\n",
              "    }\n",
              "\n",
              "    [theme=dark] .colab-df-convert {\n",
              "      background-color: #3B4455;\n",
              "      fill: #D2E3FC;\n",
              "    }\n",
              "\n",
              "    [theme=dark] .colab-df-convert:hover {\n",
              "      background-color: #434B5C;\n",
              "      box-shadow: 0px 1px 3px 1px rgba(0, 0, 0, 0.15);\n",
              "      filter: drop-shadow(0px 1px 2px rgba(0, 0, 0, 0.3));\n",
              "      fill: #FFFFFF;\n",
              "    }\n",
              "  </style>\n",
              "\n",
              "      <script>\n",
              "        const buttonEl =\n",
              "          document.querySelector('#df-e4244a00-5b57-4c7a-916d-85c5814a03b9 button.colab-df-convert');\n",
              "        buttonEl.style.display =\n",
              "          google.colab.kernel.accessAllowed ? 'block' : 'none';\n",
              "\n",
              "        async function convertToInteractive(key) {\n",
              "          const element = document.querySelector('#df-e4244a00-5b57-4c7a-916d-85c5814a03b9');\n",
              "          const dataTable =\n",
              "            await google.colab.kernel.invokeFunction('convertToInteractive',\n",
              "                                                     [key], {});\n",
              "          if (!dataTable) return;\n",
              "\n",
              "          const docLinkHtml = 'Like what you see? Visit the ' +\n",
              "            '<a target=\"_blank\" href=https://colab.research.google.com/notebooks/data_table.ipynb>data table notebook</a>'\n",
              "            + ' to learn more about interactive tables.';\n",
              "          element.innerHTML = '';\n",
              "          dataTable['output_type'] = 'display_data';\n",
              "          await google.colab.output.renderOutput(dataTable, element);\n",
              "          const docLink = document.createElement('div');\n",
              "          docLink.innerHTML = docLinkHtml;\n",
              "          element.appendChild(docLink);\n",
              "        }\n",
              "      </script>\n",
              "    </div>\n",
              "  </div>\n",
              "  "
            ]
          },
          "metadata": {},
          "execution_count": 24
        }
      ]
    },
    {
      "cell_type": "code",
      "source": [
        "df_train=(df_all[df_all[\"data\"]==\"train\"]).copy()\n",
        "df_train.drop([\"data\"],axis=1,inplace=True)\n",
        "df_test=(df_all[df_all[\"data\"]==\"test\"]).copy()\n",
        "df_test.drop([\"data\",\"Counterfeit_Sales\"],axis=1,inplace=True)"
      ],
      "metadata": {
        "id": "MJyST00DEcZv"
      },
      "execution_count": 25,
      "outputs": []
    },
    {
      "cell_type": "code",
      "source": [
        "df_train.head()"
      ],
      "metadata": {
        "colab": {
          "base_uri": "https://localhost:8080/",
          "height": 317
        },
        "id": "qMB3eUFKE9MT",
        "outputId": "b0f5ad95-8de2-450d-c523-38fdf2e99a26"
      },
      "execution_count": 26,
      "outputs": [
        {
          "output_type": "execute_result",
          "data": {
            "text/plain": [
              "   Counterfeit_Weight  Medicine_MRP  Availability_rating  Counterfeit_Sales  \\\n",
              "0           13.100000      160.2366             0.070422          1775.5026   \n",
              "1           14.115057      110.4384             0.013000          3069.1520   \n",
              "2            9.025000      259.4092             0.060783          2603.0920   \n",
              "3           11.800000       99.9830             0.065555          1101.7130   \n",
              "4           14.115057       56.4402             0.248859           158.9402   \n",
              "\n",
              "   year  DistArea_ID_Area013  DistArea_ID_Area017  DistArea_ID_Area018  \\\n",
              "0    28                    0                    0                    0   \n",
              "1    40                    0                    0                    0   \n",
              "2    28                    0                    0                    0   \n",
              "3    28                    0                    0                    0   \n",
              "4    40                    0                    0                    0   \n",
              "\n",
              "   DistArea_ID_Area019  DistArea_ID_Area027  ...  Medicine_Type_Tranquilizers  \\\n",
              "0                    0                    0  ...                            0   \n",
              "1                    0                    1  ...                            0   \n",
              "2                    0                    0  ...                            0   \n",
              "3                    0                    0  ...                            0   \n",
              "4                    1                    0  ...                            0   \n",
              "\n",
              "   SidEffect_Level_mild  Area_Type_DownTown  Area_Type_Industrial  \\\n",
              "0                     0                   1                     0   \n",
              "1                     1                   0                     0   \n",
              "2                     1                   1                     0   \n",
              "3                     1                   1                     0   \n",
              "4                     0                   0                     0   \n",
              "\n",
              "   Area_Type_MidTownResidential  Area_City_Type_Tier 2  Area_City_Type_Tier 3  \\\n",
              "0                             0                      0                      0   \n",
              "1                             0                      0                      1   \n",
              "2                             0                      0                      0   \n",
              "3                             0                      0                      0   \n",
              "4                             1                      0                      0   \n",
              "\n",
              "   Area_dist_level_Medium  Area_dist_level_Small  Area_dist_level_Unknown  \n",
              "0                       0                      1                        0  \n",
              "1                       1                      0                        0  \n",
              "2                       0                      1                        0  \n",
              "3                       0                      1                        0  \n",
              "4                       0                      1                        0  \n",
              "\n",
              "[5 rows x 38 columns]"
            ],
            "text/html": [
              "\n",
              "  <div id=\"df-5cc12c79-fc31-4777-821e-80d2896d5844\">\n",
              "    <div class=\"colab-df-container\">\n",
              "      <div>\n",
              "<style scoped>\n",
              "    .dataframe tbody tr th:only-of-type {\n",
              "        vertical-align: middle;\n",
              "    }\n",
              "\n",
              "    .dataframe tbody tr th {\n",
              "        vertical-align: top;\n",
              "    }\n",
              "\n",
              "    .dataframe thead th {\n",
              "        text-align: right;\n",
              "    }\n",
              "</style>\n",
              "<table border=\"1\" class=\"dataframe\">\n",
              "  <thead>\n",
              "    <tr style=\"text-align: right;\">\n",
              "      <th></th>\n",
              "      <th>Counterfeit_Weight</th>\n",
              "      <th>Medicine_MRP</th>\n",
              "      <th>Availability_rating</th>\n",
              "      <th>Counterfeit_Sales</th>\n",
              "      <th>year</th>\n",
              "      <th>DistArea_ID_Area013</th>\n",
              "      <th>DistArea_ID_Area017</th>\n",
              "      <th>DistArea_ID_Area018</th>\n",
              "      <th>DistArea_ID_Area019</th>\n",
              "      <th>DistArea_ID_Area027</th>\n",
              "      <th>...</th>\n",
              "      <th>Medicine_Type_Tranquilizers</th>\n",
              "      <th>SidEffect_Level_mild</th>\n",
              "      <th>Area_Type_DownTown</th>\n",
              "      <th>Area_Type_Industrial</th>\n",
              "      <th>Area_Type_MidTownResidential</th>\n",
              "      <th>Area_City_Type_Tier 2</th>\n",
              "      <th>Area_City_Type_Tier 3</th>\n",
              "      <th>Area_dist_level_Medium</th>\n",
              "      <th>Area_dist_level_Small</th>\n",
              "      <th>Area_dist_level_Unknown</th>\n",
              "    </tr>\n",
              "  </thead>\n",
              "  <tbody>\n",
              "    <tr>\n",
              "      <th>0</th>\n",
              "      <td>13.100000</td>\n",
              "      <td>160.2366</td>\n",
              "      <td>0.070422</td>\n",
              "      <td>1775.5026</td>\n",
              "      <td>28</td>\n",
              "      <td>0</td>\n",
              "      <td>0</td>\n",
              "      <td>0</td>\n",
              "      <td>0</td>\n",
              "      <td>0</td>\n",
              "      <td>...</td>\n",
              "      <td>0</td>\n",
              "      <td>0</td>\n",
              "      <td>1</td>\n",
              "      <td>0</td>\n",
              "      <td>0</td>\n",
              "      <td>0</td>\n",
              "      <td>0</td>\n",
              "      <td>0</td>\n",
              "      <td>1</td>\n",
              "      <td>0</td>\n",
              "    </tr>\n",
              "    <tr>\n",
              "      <th>1</th>\n",
              "      <td>14.115057</td>\n",
              "      <td>110.4384</td>\n",
              "      <td>0.013000</td>\n",
              "      <td>3069.1520</td>\n",
              "      <td>40</td>\n",
              "      <td>0</td>\n",
              "      <td>0</td>\n",
              "      <td>0</td>\n",
              "      <td>0</td>\n",
              "      <td>1</td>\n",
              "      <td>...</td>\n",
              "      <td>0</td>\n",
              "      <td>1</td>\n",
              "      <td>0</td>\n",
              "      <td>0</td>\n",
              "      <td>0</td>\n",
              "      <td>0</td>\n",
              "      <td>1</td>\n",
              "      <td>1</td>\n",
              "      <td>0</td>\n",
              "      <td>0</td>\n",
              "    </tr>\n",
              "    <tr>\n",
              "      <th>2</th>\n",
              "      <td>9.025000</td>\n",
              "      <td>259.4092</td>\n",
              "      <td>0.060783</td>\n",
              "      <td>2603.0920</td>\n",
              "      <td>28</td>\n",
              "      <td>0</td>\n",
              "      <td>0</td>\n",
              "      <td>0</td>\n",
              "      <td>0</td>\n",
              "      <td>0</td>\n",
              "      <td>...</td>\n",
              "      <td>0</td>\n",
              "      <td>1</td>\n",
              "      <td>1</td>\n",
              "      <td>0</td>\n",
              "      <td>0</td>\n",
              "      <td>0</td>\n",
              "      <td>0</td>\n",
              "      <td>0</td>\n",
              "      <td>1</td>\n",
              "      <td>0</td>\n",
              "    </tr>\n",
              "    <tr>\n",
              "      <th>3</th>\n",
              "      <td>11.800000</td>\n",
              "      <td>99.9830</td>\n",
              "      <td>0.065555</td>\n",
              "      <td>1101.7130</td>\n",
              "      <td>28</td>\n",
              "      <td>0</td>\n",
              "      <td>0</td>\n",
              "      <td>0</td>\n",
              "      <td>0</td>\n",
              "      <td>0</td>\n",
              "      <td>...</td>\n",
              "      <td>0</td>\n",
              "      <td>1</td>\n",
              "      <td>1</td>\n",
              "      <td>0</td>\n",
              "      <td>0</td>\n",
              "      <td>0</td>\n",
              "      <td>0</td>\n",
              "      <td>0</td>\n",
              "      <td>1</td>\n",
              "      <td>0</td>\n",
              "    </tr>\n",
              "    <tr>\n",
              "      <th>4</th>\n",
              "      <td>14.115057</td>\n",
              "      <td>56.4402</td>\n",
              "      <td>0.248859</td>\n",
              "      <td>158.9402</td>\n",
              "      <td>40</td>\n",
              "      <td>0</td>\n",
              "      <td>0</td>\n",
              "      <td>0</td>\n",
              "      <td>1</td>\n",
              "      <td>0</td>\n",
              "      <td>...</td>\n",
              "      <td>0</td>\n",
              "      <td>0</td>\n",
              "      <td>0</td>\n",
              "      <td>0</td>\n",
              "      <td>1</td>\n",
              "      <td>0</td>\n",
              "      <td>0</td>\n",
              "      <td>0</td>\n",
              "      <td>1</td>\n",
              "      <td>0</td>\n",
              "    </tr>\n",
              "  </tbody>\n",
              "</table>\n",
              "<p>5 rows × 38 columns</p>\n",
              "</div>\n",
              "      <button class=\"colab-df-convert\" onclick=\"convertToInteractive('df-5cc12c79-fc31-4777-821e-80d2896d5844')\"\n",
              "              title=\"Convert this dataframe to an interactive table.\"\n",
              "              style=\"display:none;\">\n",
              "        \n",
              "  <svg xmlns=\"http://www.w3.org/2000/svg\" height=\"24px\"viewBox=\"0 0 24 24\"\n",
              "       width=\"24px\">\n",
              "    <path d=\"M0 0h24v24H0V0z\" fill=\"none\"/>\n",
              "    <path d=\"M18.56 5.44l.94 2.06.94-2.06 2.06-.94-2.06-.94-.94-2.06-.94 2.06-2.06.94zm-11 1L8.5 8.5l.94-2.06 2.06-.94-2.06-.94L8.5 2.5l-.94 2.06-2.06.94zm10 10l.94 2.06.94-2.06 2.06-.94-2.06-.94-.94-2.06-.94 2.06-2.06.94z\"/><path d=\"M17.41 7.96l-1.37-1.37c-.4-.4-.92-.59-1.43-.59-.52 0-1.04.2-1.43.59L10.3 9.45l-7.72 7.72c-.78.78-.78 2.05 0 2.83L4 21.41c.39.39.9.59 1.41.59.51 0 1.02-.2 1.41-.59l7.78-7.78 2.81-2.81c.8-.78.8-2.07 0-2.86zM5.41 20L4 18.59l7.72-7.72 1.47 1.35L5.41 20z\"/>\n",
              "  </svg>\n",
              "      </button>\n",
              "      \n",
              "  <style>\n",
              "    .colab-df-container {\n",
              "      display:flex;\n",
              "      flex-wrap:wrap;\n",
              "      gap: 12px;\n",
              "    }\n",
              "\n",
              "    .colab-df-convert {\n",
              "      background-color: #E8F0FE;\n",
              "      border: none;\n",
              "      border-radius: 50%;\n",
              "      cursor: pointer;\n",
              "      display: none;\n",
              "      fill: #1967D2;\n",
              "      height: 32px;\n",
              "      padding: 0 0 0 0;\n",
              "      width: 32px;\n",
              "    }\n",
              "\n",
              "    .colab-df-convert:hover {\n",
              "      background-color: #E2EBFA;\n",
              "      box-shadow: 0px 1px 2px rgba(60, 64, 67, 0.3), 0px 1px 3px 1px rgba(60, 64, 67, 0.15);\n",
              "      fill: #174EA6;\n",
              "    }\n",
              "\n",
              "    [theme=dark] .colab-df-convert {\n",
              "      background-color: #3B4455;\n",
              "      fill: #D2E3FC;\n",
              "    }\n",
              "\n",
              "    [theme=dark] .colab-df-convert:hover {\n",
              "      background-color: #434B5C;\n",
              "      box-shadow: 0px 1px 3px 1px rgba(0, 0, 0, 0.15);\n",
              "      filter: drop-shadow(0px 1px 2px rgba(0, 0, 0, 0.3));\n",
              "      fill: #FFFFFF;\n",
              "    }\n",
              "  </style>\n",
              "\n",
              "      <script>\n",
              "        const buttonEl =\n",
              "          document.querySelector('#df-5cc12c79-fc31-4777-821e-80d2896d5844 button.colab-df-convert');\n",
              "        buttonEl.style.display =\n",
              "          google.colab.kernel.accessAllowed ? 'block' : 'none';\n",
              "\n",
              "        async function convertToInteractive(key) {\n",
              "          const element = document.querySelector('#df-5cc12c79-fc31-4777-821e-80d2896d5844');\n",
              "          const dataTable =\n",
              "            await google.colab.kernel.invokeFunction('convertToInteractive',\n",
              "                                                     [key], {});\n",
              "          if (!dataTable) return;\n",
              "\n",
              "          const docLinkHtml = 'Like what you see? Visit the ' +\n",
              "            '<a target=\"_blank\" href=https://colab.research.google.com/notebooks/data_table.ipynb>data table notebook</a>'\n",
              "            + ' to learn more about interactive tables.';\n",
              "          element.innerHTML = '';\n",
              "          dataTable['output_type'] = 'display_data';\n",
              "          await google.colab.output.renderOutput(dataTable, element);\n",
              "          const docLink = document.createElement('div');\n",
              "          docLink.innerHTML = docLinkHtml;\n",
              "          element.appendChild(docLink);\n",
              "        }\n",
              "      </script>\n",
              "    </div>\n",
              "  </div>\n",
              "  "
            ]
          },
          "metadata": {},
          "execution_count": 26
        }
      ]
    },
    {
      "cell_type": "code",
      "source": [
        "from sklearn.model_selection import GridSearchCV,RandomizedSearchCV,cross_val_score,train_test_split,KFold\n",
        "from sklearn.metrics import mean_absolute_error"
      ],
      "metadata": {
        "id": "-Ra1Yf5HFCsx"
      },
      "execution_count": 27,
      "outputs": []
    },
    {
      "cell_type": "code",
      "source": [
        "ld_train,ld_test=train_test_split(df_train,test_size=0.2,random_state=2)"
      ],
      "metadata": {
        "id": "A5We3xGRFCk-"
      },
      "execution_count": 28,
      "outputs": []
    },
    {
      "cell_type": "code",
      "source": [
        "ld_train.reset_index(drop=True,inplace=True)\n",
        "ld_test.reset_index(drop=True,inplace=True)"
      ],
      "metadata": {
        "id": "jO2VVxt7FCW6"
      },
      "execution_count": 29,
      "outputs": []
    },
    {
      "cell_type": "code",
      "source": [
        "x_train1=ld_train.drop([\"Counterfeit_Sales\"],axis=1)\n",
        "y_train1=ld_train[\"Counterfeit_Sales\"]\n",
        "x_test1=ld_test.drop([\"Counterfeit_Sales\"],axis=1)\n",
        "y_test1=ld_test[\"Counterfeit_Sales\"]"
      ],
      "metadata": {
        "id": "323qXLkwFCJY"
      },
      "execution_count": 30,
      "outputs": []
    },
    {
      "cell_type": "code",
      "source": [
        "x_train2=df_train.drop([\"Counterfeit_Sales\"],axis=1)\n",
        "y_train2=df_train[\"Counterfeit_Sales\"]"
      ],
      "metadata": {
        "id": "76ikwnPEF2jB"
      },
      "execution_count": 31,
      "outputs": []
    },
    {
      "cell_type": "code",
      "source": [
        "def report(results,n_top=3):\n",
        "    for i in range(1,n_top+1):\n",
        "        candidates=np.flatnonzero(results[\"rank_test_score\"]==i)\n",
        "        for candidate in candidates:\n",
        "            print(\"Model with rank {0}\".format(i))\n",
        "            print(\"Mean validation score: {0:.3f}    Std:{1:.5f}\".format(results[\"mean_test_score\"][candidate],results[\"std_test_score\"][candidate]))\n",
        "            print(\"Parameters: {0}\".format(results[\"params\"][candidate]))\n",
        "            print(\"\")"
      ],
      "metadata": {
        "id": "sNlcx8FDF5T_"
      },
      "execution_count": 32,
      "outputs": []
    },
    {
      "cell_type": "code",
      "source": [
        "model_errors=[]"
      ],
      "metadata": {
        "id": "y44ddsh1GOS8"
      },
      "execution_count": 33,
      "outputs": []
    },
    {
      "cell_type": "markdown",
      "source": [
        "1.  Linear Regression "
      ],
      "metadata": {
        "id": "iPuJH4gWGRZ7"
      }
    },
    {
      "cell_type": "code",
      "source": [
        "from sklearn.linear_model import LinearRegression\n",
        "lr1=LinearRegression()"
      ],
      "metadata": {
        "id": "XZwY4EjfGQKb"
      },
      "execution_count": 34,
      "outputs": []
    },
    {
      "cell_type": "code",
      "source": [
        "lr1.fit(x_train1,y_train1)\n",
        "predictions=lr1.predict(x_test1)"
      ],
      "metadata": {
        "id": "BOuiL0IHGs3r"
      },
      "execution_count": 35,
      "outputs": []
    },
    {
      "cell_type": "code",
      "source": [
        "err=mean_absolute_error(y_test1,predictions)\n",
        "model_errors.append([\"LinearRegression\",err])\n",
        "err"
      ],
      "metadata": {
        "colab": {
          "base_uri": "https://localhost:8080/"
        },
        "id": "tCerFSuWGxa9",
        "outputId": "c7446c4c-0d5c-472c-dcbb-74e33330dd04"
      },
      "execution_count": 36,
      "outputs": [
        {
          "output_type": "execute_result",
          "data": {
            "text/plain": [
              "830.0501468413154"
            ]
          },
          "metadata": {},
          "execution_count": 36
        }
      ]
    },
    {
      "cell_type": "code",
      "source": [
        "lr1.fit(x_train2,y_train2)"
      ],
      "metadata": {
        "colab": {
          "base_uri": "https://localhost:8080/",
          "height": 74
        },
        "id": "tJTUYVkWG_wR",
        "outputId": "46ebfe16-e45d-49e1-c722-dfbb02b1b354"
      },
      "execution_count": 37,
      "outputs": [
        {
          "output_type": "execute_result",
          "data": {
            "text/plain": [
              "LinearRegression()"
            ],
            "text/html": [
              "<style>#sk-container-id-1 {color: black;background-color: white;}#sk-container-id-1 pre{padding: 0;}#sk-container-id-1 div.sk-toggleable {background-color: white;}#sk-container-id-1 label.sk-toggleable__label {cursor: pointer;display: block;width: 100%;margin-bottom: 0;padding: 0.3em;box-sizing: border-box;text-align: center;}#sk-container-id-1 label.sk-toggleable__label-arrow:before {content: \"▸\";float: left;margin-right: 0.25em;color: #696969;}#sk-container-id-1 label.sk-toggleable__label-arrow:hover:before {color: black;}#sk-container-id-1 div.sk-estimator:hover label.sk-toggleable__label-arrow:before {color: black;}#sk-container-id-1 div.sk-toggleable__content {max-height: 0;max-width: 0;overflow: hidden;text-align: left;background-color: #f0f8ff;}#sk-container-id-1 div.sk-toggleable__content pre {margin: 0.2em;color: black;border-radius: 0.25em;background-color: #f0f8ff;}#sk-container-id-1 input.sk-toggleable__control:checked~div.sk-toggleable__content {max-height: 200px;max-width: 100%;overflow: auto;}#sk-container-id-1 input.sk-toggleable__control:checked~label.sk-toggleable__label-arrow:before {content: \"▾\";}#sk-container-id-1 div.sk-estimator input.sk-toggleable__control:checked~label.sk-toggleable__label {background-color: #d4ebff;}#sk-container-id-1 div.sk-label input.sk-toggleable__control:checked~label.sk-toggleable__label {background-color: #d4ebff;}#sk-container-id-1 input.sk-hidden--visually {border: 0;clip: rect(1px 1px 1px 1px);clip: rect(1px, 1px, 1px, 1px);height: 1px;margin: -1px;overflow: hidden;padding: 0;position: absolute;width: 1px;}#sk-container-id-1 div.sk-estimator {font-family: monospace;background-color: #f0f8ff;border: 1px dotted black;border-radius: 0.25em;box-sizing: border-box;margin-bottom: 0.5em;}#sk-container-id-1 div.sk-estimator:hover {background-color: #d4ebff;}#sk-container-id-1 div.sk-parallel-item::after {content: \"\";width: 100%;border-bottom: 1px solid gray;flex-grow: 1;}#sk-container-id-1 div.sk-label:hover label.sk-toggleable__label {background-color: #d4ebff;}#sk-container-id-1 div.sk-serial::before {content: \"\";position: absolute;border-left: 1px solid gray;box-sizing: border-box;top: 0;bottom: 0;left: 50%;z-index: 0;}#sk-container-id-1 div.sk-serial {display: flex;flex-direction: column;align-items: center;background-color: white;padding-right: 0.2em;padding-left: 0.2em;position: relative;}#sk-container-id-1 div.sk-item {position: relative;z-index: 1;}#sk-container-id-1 div.sk-parallel {display: flex;align-items: stretch;justify-content: center;background-color: white;position: relative;}#sk-container-id-1 div.sk-item::before, #sk-container-id-1 div.sk-parallel-item::before {content: \"\";position: absolute;border-left: 1px solid gray;box-sizing: border-box;top: 0;bottom: 0;left: 50%;z-index: -1;}#sk-container-id-1 div.sk-parallel-item {display: flex;flex-direction: column;z-index: 1;position: relative;background-color: white;}#sk-container-id-1 div.sk-parallel-item:first-child::after {align-self: flex-end;width: 50%;}#sk-container-id-1 div.sk-parallel-item:last-child::after {align-self: flex-start;width: 50%;}#sk-container-id-1 div.sk-parallel-item:only-child::after {width: 0;}#sk-container-id-1 div.sk-dashed-wrapped {border: 1px dashed gray;margin: 0 0.4em 0.5em 0.4em;box-sizing: border-box;padding-bottom: 0.4em;background-color: white;}#sk-container-id-1 div.sk-label label {font-family: monospace;font-weight: bold;display: inline-block;line-height: 1.2em;}#sk-container-id-1 div.sk-label-container {text-align: center;}#sk-container-id-1 div.sk-container {/* jupyter's `normalize.less` sets `[hidden] { display: none; }` but bootstrap.min.css set `[hidden] { display: none !important; }` so we also need the `!important` here to be able to override the default hidden behavior on the sphinx rendered scikit-learn.org. See: https://github.com/scikit-learn/scikit-learn/issues/21755 */display: inline-block !important;position: relative;}#sk-container-id-1 div.sk-text-repr-fallback {display: none;}</style><div id=\"sk-container-id-1\" class=\"sk-top-container\"><div class=\"sk-text-repr-fallback\"><pre>LinearRegression()</pre><b>In a Jupyter environment, please rerun this cell to show the HTML representation or trust the notebook. <br />On GitHub, the HTML representation is unable to render, please try loading this page with nbviewer.org.</b></div><div class=\"sk-container\" hidden><div class=\"sk-item\"><div class=\"sk-estimator sk-toggleable\"><input class=\"sk-toggleable__control sk-hidden--visually\" id=\"sk-estimator-id-1\" type=\"checkbox\" checked><label for=\"sk-estimator-id-1\" class=\"sk-toggleable__label sk-toggleable__label-arrow\">LinearRegression</label><div class=\"sk-toggleable__content\"><pre>LinearRegression()</pre></div></div></div></div></div>"
            ]
          },
          "metadata": {},
          "execution_count": 37
        }
      ]
    },
    {
      "cell_type": "code",
      "source": [
        "lr1.intercept_"
      ],
      "metadata": {
        "colab": {
          "base_uri": "https://localhost:8080/"
        },
        "id": "ClflCeAmHEig",
        "outputId": "a25daa18-e5a2-4a99-dbe4-889296a22af1"
      },
      "execution_count": 38,
      "outputs": [
        {
          "output_type": "execute_result",
          "data": {
            "text/plain": [
              "-1220.0574876539263"
            ]
          },
          "metadata": {},
          "execution_count": 38
        }
      ]
    },
    {
      "cell_type": "code",
      "source": [
        "list(zip(df_test.columns,lr1.coef_))"
      ],
      "metadata": {
        "colab": {
          "base_uri": "https://localhost:8080/"
        },
        "id": "XvGcaw_qHGle",
        "outputId": "50b03db1-5b25-469f-fc66-9eb1240abcba"
      },
      "execution_count": 39,
      "outputs": [
        {
          "output_type": "execute_result",
          "data": {
            "text/plain": [
              "[('Counterfeit_Weight', -2.8762108939052173),\n",
              " ('Medicine_MRP', 15.56745671973274),\n",
              " ('Availability_rating', -259.28547950146884),\n",
              " ('year', 30.419921826257337),\n",
              " ('DistArea_ID_Area013', -175.9470820102709),\n",
              " ('DistArea_ID_Area017', 354.0877483292635),\n",
              " ('DistArea_ID_Area018', -35.41780941379028),\n",
              " ('DistArea_ID_Area019', -506.81562074915826),\n",
              " ('DistArea_ID_Area027', 896.8338754792366),\n",
              " ('DistArea_ID_Area035', 127.74836907042746),\n",
              " ('DistArea_ID_Area045', 20.195742994435022),\n",
              " ('DistArea_ID_Area046', 256.89608918611725),\n",
              " ('DistArea_ID_Area049', -283.1714410741023),\n",
              " ('Medicine_Type_Antacids', 18.346855585314582),\n",
              " ('Medicine_Type_Antibiotics', 53.46890543690339),\n",
              " ('Medicine_Type_Antifungal', -17.374326969228957),\n",
              " ('Medicine_Type_Antimalarial', -35.24254904256468),\n",
              " ('Medicine_Type_Antipyretics', -53.69636141229646),\n",
              " ('Medicine_Type_Antiseptics', -21.45874836768535),\n",
              " ('Medicine_Type_Antiviral', 293.1410509805927),\n",
              " ('Medicine_Type_Cardiac', 40.54733709611196),\n",
              " ('Medicine_Type_Hreplacements', -4.610861414396336),\n",
              " ('Medicine_Type_Mstablizers', -7.8670937965051095),\n",
              " ('Medicine_Type_MuscleRelaxants', 42.055821586674995),\n",
              " ('Medicine_Type_OralContraceptives', -15.59362457227517),\n",
              " ('Medicine_Type_Statins', 5.726988322531112),\n",
              " ('Medicine_Type_Stimulants', 53.012565124715884),\n",
              " ('Medicine_Type_Tranquilizers', -50.35855357574997),\n",
              " ('SidEffect_Level_mild', -17.533734487635297),\n",
              " ('Area_Type_DownTown', 299.8094264958701),\n",
              " ('Area_Type_Industrial', -35.41780941378996),\n",
              " ('Area_Type_MidTownResidential', -1161.2254925613151),\n",
              " ('Area_City_Type_Tier 2', 502.0318603941268),\n",
              " ('Area_City_Type_Tier 3', 31.059112243017026),\n",
              " ('Area_dist_level_Medium', 578.2446249913431),\n",
              " ('Area_dist_level_Small', -122.17116249261191),\n",
              " ('Area_dist_level_Unknown', -280.1263804884599)]"
            ]
          },
          "metadata": {},
          "execution_count": 39
        }
      ]
    },
    {
      "cell_type": "code",
      "source": [
        "predictions=lr1.predict(df_test)\n",
        "pd.DataFrame(predictions).to_csv(\"linear_regression_pred.csv\",index=False)"
      ],
      "metadata": {
        "id": "vyXPCWvLHKKC"
      },
      "execution_count": 40,
      "outputs": []
    },
    {
      "cell_type": "markdown",
      "source": [
        "1a)  Lasso Regression"
      ],
      "metadata": {
        "id": "gvic4xL3H8IY"
      }
    },
    {
      "cell_type": "code",
      "source": [
        "from sklearn.linear_model import Lasso\n",
        "lr1l=Lasso(fit_intercept=True)"
      ],
      "metadata": {
        "id": "n3nVJoVnH7Wq"
      },
      "execution_count": 41,
      "outputs": []
    },
    {
      "cell_type": "code",
      "source": [
        "alphas=np.linspace(0,101,100)\n",
        "params={\"alpha\":alphas}\n",
        "grid_search=GridSearchCV(lr1l,param_grid=params,cv=10,scoring=\"neg_mean_absolute_error\")\n",
        "grid_search.fit(x_train1,y_train1)"
      ],
      "metadata": {
        "colab": {
          "base_uri": "https://localhost:8080/",
          "height": 1000
        },
        "id": "7v5sFBdZIPgQ",
        "outputId": "61348985-b921-4919-9a0f-689fc8bd076b"
      },
      "execution_count": 42,
      "outputs": [
        {
          "output_type": "stream",
          "name": "stderr",
          "text": [
            "/usr/local/lib/python3.10/dist-packages/sklearn/model_selection/_validation.py:686: UserWarning: With alpha=0, this algorithm does not converge well. You are advised to use the LinearRegression estimator\n",
            "  estimator.fit(X_train, y_train, **fit_params)\n",
            "/usr/local/lib/python3.10/dist-packages/sklearn/linear_model/_coordinate_descent.py:631: UserWarning: Coordinate descent with no regularization may lead to unexpected results and is discouraged.\n",
            "  model = cd_fast.enet_coordinate_descent(\n",
            "/usr/local/lib/python3.10/dist-packages/sklearn/linear_model/_coordinate_descent.py:631: ConvergenceWarning: Objective did not converge. You might want to increase the number of iterations, check the scale of the features or consider increasing regularisation. Duality gap: 3.014e+09, tolerance: 1.423e+06 Linear regression models with null weight for the l1 regularization term are more efficiently fitted using one of the solvers implemented in sklearn.linear_model.Ridge/RidgeCV instead.\n",
            "  model = cd_fast.enet_coordinate_descent(\n",
            "/usr/local/lib/python3.10/dist-packages/sklearn/model_selection/_validation.py:686: UserWarning: With alpha=0, this algorithm does not converge well. You are advised to use the LinearRegression estimator\n",
            "  estimator.fit(X_train, y_train, **fit_params)\n",
            "/usr/local/lib/python3.10/dist-packages/sklearn/linear_model/_coordinate_descent.py:631: UserWarning: Coordinate descent with no regularization may lead to unexpected results and is discouraged.\n",
            "  model = cd_fast.enet_coordinate_descent(\n",
            "/usr/local/lib/python3.10/dist-packages/sklearn/linear_model/_coordinate_descent.py:631: ConvergenceWarning: Objective did not converge. You might want to increase the number of iterations, check the scale of the features or consider increasing regularisation. Duality gap: 2.980e+09, tolerance: 1.396e+06 Linear regression models with null weight for the l1 regularization term are more efficiently fitted using one of the solvers implemented in sklearn.linear_model.Ridge/RidgeCV instead.\n",
            "  model = cd_fast.enet_coordinate_descent(\n",
            "/usr/local/lib/python3.10/dist-packages/sklearn/model_selection/_validation.py:686: UserWarning: With alpha=0, this algorithm does not converge well. You are advised to use the LinearRegression estimator\n",
            "  estimator.fit(X_train, y_train, **fit_params)\n",
            "/usr/local/lib/python3.10/dist-packages/sklearn/linear_model/_coordinate_descent.py:631: UserWarning: Coordinate descent with no regularization may lead to unexpected results and is discouraged.\n",
            "  model = cd_fast.enet_coordinate_descent(\n",
            "/usr/local/lib/python3.10/dist-packages/sklearn/linear_model/_coordinate_descent.py:631: ConvergenceWarning: Objective did not converge. You might want to increase the number of iterations, check the scale of the features or consider increasing regularisation. Duality gap: 2.979e+09, tolerance: 1.388e+06 Linear regression models with null weight for the l1 regularization term are more efficiently fitted using one of the solvers implemented in sklearn.linear_model.Ridge/RidgeCV instead.\n",
            "  model = cd_fast.enet_coordinate_descent(\n",
            "/usr/local/lib/python3.10/dist-packages/sklearn/model_selection/_validation.py:686: UserWarning: With alpha=0, this algorithm does not converge well. You are advised to use the LinearRegression estimator\n",
            "  estimator.fit(X_train, y_train, **fit_params)\n",
            "/usr/local/lib/python3.10/dist-packages/sklearn/linear_model/_coordinate_descent.py:631: UserWarning: Coordinate descent with no regularization may lead to unexpected results and is discouraged.\n",
            "  model = cd_fast.enet_coordinate_descent(\n",
            "/usr/local/lib/python3.10/dist-packages/sklearn/linear_model/_coordinate_descent.py:631: ConvergenceWarning: Objective did not converge. You might want to increase the number of iterations, check the scale of the features or consider increasing regularisation. Duality gap: 3.000e+09, tolerance: 1.402e+06 Linear regression models with null weight for the l1 regularization term are more efficiently fitted using one of the solvers implemented in sklearn.linear_model.Ridge/RidgeCV instead.\n",
            "  model = cd_fast.enet_coordinate_descent(\n",
            "/usr/local/lib/python3.10/dist-packages/sklearn/model_selection/_validation.py:686: UserWarning: With alpha=0, this algorithm does not converge well. You are advised to use the LinearRegression estimator\n",
            "  estimator.fit(X_train, y_train, **fit_params)\n",
            "/usr/local/lib/python3.10/dist-packages/sklearn/linear_model/_coordinate_descent.py:631: UserWarning: Coordinate descent with no regularization may lead to unexpected results and is discouraged.\n",
            "  model = cd_fast.enet_coordinate_descent(\n",
            "/usr/local/lib/python3.10/dist-packages/sklearn/linear_model/_coordinate_descent.py:631: ConvergenceWarning: Objective did not converge. You might want to increase the number of iterations, check the scale of the features or consider increasing regularisation. Duality gap: 3.049e+09, tolerance: 1.405e+06 Linear regression models with null weight for the l1 regularization term are more efficiently fitted using one of the solvers implemented in sklearn.linear_model.Ridge/RidgeCV instead.\n",
            "  model = cd_fast.enet_coordinate_descent(\n",
            "/usr/local/lib/python3.10/dist-packages/sklearn/model_selection/_validation.py:686: UserWarning: With alpha=0, this algorithm does not converge well. You are advised to use the LinearRegression estimator\n",
            "  estimator.fit(X_train, y_train, **fit_params)\n",
            "/usr/local/lib/python3.10/dist-packages/sklearn/linear_model/_coordinate_descent.py:631: UserWarning: Coordinate descent with no regularization may lead to unexpected results and is discouraged.\n",
            "  model = cd_fast.enet_coordinate_descent(\n",
            "/usr/local/lib/python3.10/dist-packages/sklearn/linear_model/_coordinate_descent.py:631: ConvergenceWarning: Objective did not converge. You might want to increase the number of iterations, check the scale of the features or consider increasing regularisation. Duality gap: 3.023e+09, tolerance: 1.414e+06 Linear regression models with null weight for the l1 regularization term are more efficiently fitted using one of the solvers implemented in sklearn.linear_model.Ridge/RidgeCV instead.\n",
            "  model = cd_fast.enet_coordinate_descent(\n",
            "/usr/local/lib/python3.10/dist-packages/sklearn/model_selection/_validation.py:686: UserWarning: With alpha=0, this algorithm does not converge well. You are advised to use the LinearRegression estimator\n",
            "  estimator.fit(X_train, y_train, **fit_params)\n",
            "/usr/local/lib/python3.10/dist-packages/sklearn/linear_model/_coordinate_descent.py:631: UserWarning: Coordinate descent with no regularization may lead to unexpected results and is discouraged.\n",
            "  model = cd_fast.enet_coordinate_descent(\n",
            "/usr/local/lib/python3.10/dist-packages/sklearn/linear_model/_coordinate_descent.py:631: ConvergenceWarning: Objective did not converge. You might want to increase the number of iterations, check the scale of the features or consider increasing regularisation. Duality gap: 3.010e+09, tolerance: 1.404e+06 Linear regression models with null weight for the l1 regularization term are more efficiently fitted using one of the solvers implemented in sklearn.linear_model.Ridge/RidgeCV instead.\n",
            "  model = cd_fast.enet_coordinate_descent(\n",
            "/usr/local/lib/python3.10/dist-packages/sklearn/model_selection/_validation.py:686: UserWarning: With alpha=0, this algorithm does not converge well. You are advised to use the LinearRegression estimator\n",
            "  estimator.fit(X_train, y_train, **fit_params)\n",
            "/usr/local/lib/python3.10/dist-packages/sklearn/linear_model/_coordinate_descent.py:631: UserWarning: Coordinate descent with no regularization may lead to unexpected results and is discouraged.\n",
            "  model = cd_fast.enet_coordinate_descent(\n",
            "/usr/local/lib/python3.10/dist-packages/sklearn/linear_model/_coordinate_descent.py:631: ConvergenceWarning: Objective did not converge. You might want to increase the number of iterations, check the scale of the features or consider increasing regularisation. Duality gap: 2.995e+09, tolerance: 1.410e+06 Linear regression models with null weight for the l1 regularization term are more efficiently fitted using one of the solvers implemented in sklearn.linear_model.Ridge/RidgeCV instead.\n",
            "  model = cd_fast.enet_coordinate_descent(\n",
            "/usr/local/lib/python3.10/dist-packages/sklearn/model_selection/_validation.py:686: UserWarning: With alpha=0, this algorithm does not converge well. You are advised to use the LinearRegression estimator\n",
            "  estimator.fit(X_train, y_train, **fit_params)\n",
            "/usr/local/lib/python3.10/dist-packages/sklearn/linear_model/_coordinate_descent.py:631: UserWarning: Coordinate descent with no regularization may lead to unexpected results and is discouraged.\n",
            "  model = cd_fast.enet_coordinate_descent(\n",
            "/usr/local/lib/python3.10/dist-packages/sklearn/linear_model/_coordinate_descent.py:631: ConvergenceWarning: Objective did not converge. You might want to increase the number of iterations, check the scale of the features or consider increasing regularisation. Duality gap: 3.048e+09, tolerance: 1.424e+06 Linear regression models with null weight for the l1 regularization term are more efficiently fitted using one of the solvers implemented in sklearn.linear_model.Ridge/RidgeCV instead.\n",
            "  model = cd_fast.enet_coordinate_descent(\n",
            "/usr/local/lib/python3.10/dist-packages/sklearn/model_selection/_validation.py:686: UserWarning: With alpha=0, this algorithm does not converge well. You are advised to use the LinearRegression estimator\n",
            "  estimator.fit(X_train, y_train, **fit_params)\n",
            "/usr/local/lib/python3.10/dist-packages/sklearn/linear_model/_coordinate_descent.py:631: UserWarning: Coordinate descent with no regularization may lead to unexpected results and is discouraged.\n",
            "  model = cd_fast.enet_coordinate_descent(\n",
            "/usr/local/lib/python3.10/dist-packages/sklearn/linear_model/_coordinate_descent.py:631: ConvergenceWarning: Objective did not converge. You might want to increase the number of iterations, check the scale of the features or consider increasing regularisation. Duality gap: 3.018e+09, tolerance: 1.404e+06 Linear regression models with null weight for the l1 regularization term are more efficiently fitted using one of the solvers implemented in sklearn.linear_model.Ridge/RidgeCV instead.\n",
            "  model = cd_fast.enet_coordinate_descent(\n"
          ]
        },
        {
          "output_type": "execute_result",
          "data": {
            "text/plain": [
              "GridSearchCV(cv=10, estimator=Lasso(),\n",
              "             param_grid={'alpha': array([  0.        ,   1.02020202,   2.04040404,   3.06060606,\n",
              "         4.08080808,   5.1010101 ,   6.12121212,   7.14141414,\n",
              "         8.16161616,   9.18181818,  10.2020202 ,  11.22222222,\n",
              "        12.24242424,  13.26262626,  14.28282828,  15.3030303 ,\n",
              "        16.32323232,  17.34343434,  18.36363636,  19.38383838,\n",
              "        20.4040404 ,  21.42424242,  22.44444444,  23.46464646,\n",
              "        24.48484848,  25.50505...\n",
              "        73.45454545,  74.47474747,  75.49494949,  76.51515152,\n",
              "        77.53535354,  78.55555556,  79.57575758,  80.5959596 ,\n",
              "        81.61616162,  82.63636364,  83.65656566,  84.67676768,\n",
              "        85.6969697 ,  86.71717172,  87.73737374,  88.75757576,\n",
              "        89.77777778,  90.7979798 ,  91.81818182,  92.83838384,\n",
              "        93.85858586,  94.87878788,  95.8989899 ,  96.91919192,\n",
              "        97.93939394,  98.95959596,  99.97979798, 101.        ])},\n",
              "             scoring='neg_mean_absolute_error')"
            ],
            "text/html": [
              "<style>#sk-container-id-2 {color: black;background-color: white;}#sk-container-id-2 pre{padding: 0;}#sk-container-id-2 div.sk-toggleable {background-color: white;}#sk-container-id-2 label.sk-toggleable__label {cursor: pointer;display: block;width: 100%;margin-bottom: 0;padding: 0.3em;box-sizing: border-box;text-align: center;}#sk-container-id-2 label.sk-toggleable__label-arrow:before {content: \"▸\";float: left;margin-right: 0.25em;color: #696969;}#sk-container-id-2 label.sk-toggleable__label-arrow:hover:before {color: black;}#sk-container-id-2 div.sk-estimator:hover label.sk-toggleable__label-arrow:before {color: black;}#sk-container-id-2 div.sk-toggleable__content {max-height: 0;max-width: 0;overflow: hidden;text-align: left;background-color: #f0f8ff;}#sk-container-id-2 div.sk-toggleable__content pre {margin: 0.2em;color: black;border-radius: 0.25em;background-color: #f0f8ff;}#sk-container-id-2 input.sk-toggleable__control:checked~div.sk-toggleable__content {max-height: 200px;max-width: 100%;overflow: auto;}#sk-container-id-2 input.sk-toggleable__control:checked~label.sk-toggleable__label-arrow:before {content: \"▾\";}#sk-container-id-2 div.sk-estimator input.sk-toggleable__control:checked~label.sk-toggleable__label {background-color: #d4ebff;}#sk-container-id-2 div.sk-label input.sk-toggleable__control:checked~label.sk-toggleable__label {background-color: #d4ebff;}#sk-container-id-2 input.sk-hidden--visually {border: 0;clip: rect(1px 1px 1px 1px);clip: rect(1px, 1px, 1px, 1px);height: 1px;margin: -1px;overflow: hidden;padding: 0;position: absolute;width: 1px;}#sk-container-id-2 div.sk-estimator {font-family: monospace;background-color: #f0f8ff;border: 1px dotted black;border-radius: 0.25em;box-sizing: border-box;margin-bottom: 0.5em;}#sk-container-id-2 div.sk-estimator:hover {background-color: #d4ebff;}#sk-container-id-2 div.sk-parallel-item::after {content: \"\";width: 100%;border-bottom: 1px solid gray;flex-grow: 1;}#sk-container-id-2 div.sk-label:hover label.sk-toggleable__label {background-color: #d4ebff;}#sk-container-id-2 div.sk-serial::before {content: \"\";position: absolute;border-left: 1px solid gray;box-sizing: border-box;top: 0;bottom: 0;left: 50%;z-index: 0;}#sk-container-id-2 div.sk-serial {display: flex;flex-direction: column;align-items: center;background-color: white;padding-right: 0.2em;padding-left: 0.2em;position: relative;}#sk-container-id-2 div.sk-item {position: relative;z-index: 1;}#sk-container-id-2 div.sk-parallel {display: flex;align-items: stretch;justify-content: center;background-color: white;position: relative;}#sk-container-id-2 div.sk-item::before, #sk-container-id-2 div.sk-parallel-item::before {content: \"\";position: absolute;border-left: 1px solid gray;box-sizing: border-box;top: 0;bottom: 0;left: 50%;z-index: -1;}#sk-container-id-2 div.sk-parallel-item {display: flex;flex-direction: column;z-index: 1;position: relative;background-color: white;}#sk-container-id-2 div.sk-parallel-item:first-child::after {align-self: flex-end;width: 50%;}#sk-container-id-2 div.sk-parallel-item:last-child::after {align-self: flex-start;width: 50%;}#sk-container-id-2 div.sk-parallel-item:only-child::after {width: 0;}#sk-container-id-2 div.sk-dashed-wrapped {border: 1px dashed gray;margin: 0 0.4em 0.5em 0.4em;box-sizing: border-box;padding-bottom: 0.4em;background-color: white;}#sk-container-id-2 div.sk-label label {font-family: monospace;font-weight: bold;display: inline-block;line-height: 1.2em;}#sk-container-id-2 div.sk-label-container {text-align: center;}#sk-container-id-2 div.sk-container {/* jupyter's `normalize.less` sets `[hidden] { display: none; }` but bootstrap.min.css set `[hidden] { display: none !important; }` so we also need the `!important` here to be able to override the default hidden behavior on the sphinx rendered scikit-learn.org. See: https://github.com/scikit-learn/scikit-learn/issues/21755 */display: inline-block !important;position: relative;}#sk-container-id-2 div.sk-text-repr-fallback {display: none;}</style><div id=\"sk-container-id-2\" class=\"sk-top-container\"><div class=\"sk-text-repr-fallback\"><pre>GridSearchCV(cv=10, estimator=Lasso(),\n",
              "             param_grid={&#x27;alpha&#x27;: array([  0.        ,   1.02020202,   2.04040404,   3.06060606,\n",
              "         4.08080808,   5.1010101 ,   6.12121212,   7.14141414,\n",
              "         8.16161616,   9.18181818,  10.2020202 ,  11.22222222,\n",
              "        12.24242424,  13.26262626,  14.28282828,  15.3030303 ,\n",
              "        16.32323232,  17.34343434,  18.36363636,  19.38383838,\n",
              "        20.4040404 ,  21.42424242,  22.44444444,  23.46464646,\n",
              "        24.48484848,  25.50505...\n",
              "        73.45454545,  74.47474747,  75.49494949,  76.51515152,\n",
              "        77.53535354,  78.55555556,  79.57575758,  80.5959596 ,\n",
              "        81.61616162,  82.63636364,  83.65656566,  84.67676768,\n",
              "        85.6969697 ,  86.71717172,  87.73737374,  88.75757576,\n",
              "        89.77777778,  90.7979798 ,  91.81818182,  92.83838384,\n",
              "        93.85858586,  94.87878788,  95.8989899 ,  96.91919192,\n",
              "        97.93939394,  98.95959596,  99.97979798, 101.        ])},\n",
              "             scoring=&#x27;neg_mean_absolute_error&#x27;)</pre><b>In a Jupyter environment, please rerun this cell to show the HTML representation or trust the notebook. <br />On GitHub, the HTML representation is unable to render, please try loading this page with nbviewer.org.</b></div><div class=\"sk-container\" hidden><div class=\"sk-item sk-dashed-wrapped\"><div class=\"sk-label-container\"><div class=\"sk-label sk-toggleable\"><input class=\"sk-toggleable__control sk-hidden--visually\" id=\"sk-estimator-id-2\" type=\"checkbox\" ><label for=\"sk-estimator-id-2\" class=\"sk-toggleable__label sk-toggleable__label-arrow\">GridSearchCV</label><div class=\"sk-toggleable__content\"><pre>GridSearchCV(cv=10, estimator=Lasso(),\n",
              "             param_grid={&#x27;alpha&#x27;: array([  0.        ,   1.02020202,   2.04040404,   3.06060606,\n",
              "         4.08080808,   5.1010101 ,   6.12121212,   7.14141414,\n",
              "         8.16161616,   9.18181818,  10.2020202 ,  11.22222222,\n",
              "        12.24242424,  13.26262626,  14.28282828,  15.3030303 ,\n",
              "        16.32323232,  17.34343434,  18.36363636,  19.38383838,\n",
              "        20.4040404 ,  21.42424242,  22.44444444,  23.46464646,\n",
              "        24.48484848,  25.50505...\n",
              "        73.45454545,  74.47474747,  75.49494949,  76.51515152,\n",
              "        77.53535354,  78.55555556,  79.57575758,  80.5959596 ,\n",
              "        81.61616162,  82.63636364,  83.65656566,  84.67676768,\n",
              "        85.6969697 ,  86.71717172,  87.73737374,  88.75757576,\n",
              "        89.77777778,  90.7979798 ,  91.81818182,  92.83838384,\n",
              "        93.85858586,  94.87878788,  95.8989899 ,  96.91919192,\n",
              "        97.93939394,  98.95959596,  99.97979798, 101.        ])},\n",
              "             scoring=&#x27;neg_mean_absolute_error&#x27;)</pre></div></div></div><div class=\"sk-parallel\"><div class=\"sk-parallel-item\"><div class=\"sk-item\"><div class=\"sk-label-container\"><div class=\"sk-label sk-toggleable\"><input class=\"sk-toggleable__control sk-hidden--visually\" id=\"sk-estimator-id-3\" type=\"checkbox\" ><label for=\"sk-estimator-id-3\" class=\"sk-toggleable__label sk-toggleable__label-arrow\">estimator: Lasso</label><div class=\"sk-toggleable__content\"><pre>Lasso()</pre></div></div></div><div class=\"sk-serial\"><div class=\"sk-item\"><div class=\"sk-estimator sk-toggleable\"><input class=\"sk-toggleable__control sk-hidden--visually\" id=\"sk-estimator-id-4\" type=\"checkbox\" ><label for=\"sk-estimator-id-4\" class=\"sk-toggleable__label sk-toggleable__label-arrow\">Lasso</label><div class=\"sk-toggleable__content\"><pre>Lasso()</pre></div></div></div></div></div></div></div></div></div></div>"
            ]
          },
          "metadata": {},
          "execution_count": 42
        }
      ]
    },
    {
      "cell_type": "code",
      "source": [
        "report(grid_search.cv_results_,5)"
      ],
      "metadata": {
        "colab": {
          "base_uri": "https://localhost:8080/"
        },
        "id": "iCi-ImopIaiI",
        "outputId": "0f61cf04-2441-4a02-bfc4-c28495944d2d"
      },
      "execution_count": 43,
      "outputs": [
        {
          "output_type": "stream",
          "name": "stdout",
          "text": [
            "Model with rank 1\n",
            "Mean validation score: -825.351    Std:28.73957\n",
            "Parameters: {'alpha': 8.16161616161616}\n",
            "\n",
            "Model with rank 2\n",
            "Mean validation score: -825.364    Std:28.87628\n",
            "Parameters: {'alpha': 9.181818181818182}\n",
            "\n",
            "Model with rank 3\n",
            "Mean validation score: -825.396    Std:29.01029\n",
            "Parameters: {'alpha': 10.2020202020202}\n",
            "\n",
            "Model with rank 4\n",
            "Mean validation score: -825.442    Std:28.66118\n",
            "Parameters: {'alpha': 7.141414141414141}\n",
            "\n",
            "Model with rank 5\n",
            "Mean validation score: -825.451    Std:29.18334\n",
            "Parameters: {'alpha': 11.222222222222221}\n",
            "\n"
          ]
        }
      ]
    },
    {
      "cell_type": "code",
      "source": [
        "lr1l=grid_search.best_estimator_\n",
        "lr1l.fit(x_train1,y_train1)\n",
        "predictions=lr1l.predict(x_test1)"
      ],
      "metadata": {
        "id": "ZbhfVJBDIdCV"
      },
      "execution_count": 44,
      "outputs": []
    },
    {
      "cell_type": "code",
      "source": [
        "err=mean_absolute_error(y_test1,predictions)\n",
        "model_errors.append([\"Lasso\",err])\n",
        "err"
      ],
      "metadata": {
        "colab": {
          "base_uri": "https://localhost:8080/"
        },
        "id": "9v_m22fvIh32",
        "outputId": "515c1b80-3771-4d5d-ef55-8fcb9f2670c7"
      },
      "execution_count": 45,
      "outputs": [
        {
          "output_type": "execute_result",
          "data": {
            "text/plain": [
              "824.6251915497415"
            ]
          },
          "metadata": {},
          "execution_count": 45
        }
      ]
    },
    {
      "cell_type": "code",
      "source": [
        "lr1l.fit(x_train2,y_train2)\n",
        "lr1l.intercept_"
      ],
      "metadata": {
        "colab": {
          "base_uri": "https://localhost:8080/"
        },
        "id": "vxwWgwwFIjt1",
        "outputId": "48e81766-c87a-49ea-ebec-9b1b5af51320"
      },
      "execution_count": 46,
      "outputs": [
        {
          "output_type": "execute_result",
          "data": {
            "text/plain": [
              "-171.9387248863768"
            ]
          },
          "metadata": {},
          "execution_count": 46
        }
      ]
    },
    {
      "cell_type": "code",
      "source": [
        "list(zip(df_test.columns,lr1l.coef_))"
      ],
      "metadata": {
        "colab": {
          "base_uri": "https://localhost:8080/"
        },
        "id": "0pPN-mLZIl65",
        "outputId": "41767a36-1a5a-4dbc-9880-3aaeb3a2a368"
      },
      "execution_count": 47,
      "outputs": [
        {
          "output_type": "execute_result",
          "data": {
            "text/plain": [
              "[('Counterfeit_Weight', -2.676157457571113),\n",
              " ('Medicine_MRP', 15.567269661536816),\n",
              " ('Availability_rating', -0.0),\n",
              " ('year', 1.3659158501424595),\n",
              " ('DistArea_ID_Area013', -0.0),\n",
              " ('DistArea_ID_Area017', 4.299059504428446),\n",
              " ('DistArea_ID_Area018', -0.0),\n",
              " ('DistArea_ID_Area019', -0.0),\n",
              " ('DistArea_ID_Area027', 1512.2048769414776),\n",
              " ('DistArea_ID_Area035', 22.327795575386578),\n",
              " ('DistArea_ID_Area045', -31.87850943515053),\n",
              " ('DistArea_ID_Area046', -0.0),\n",
              " ('DistArea_ID_Area049', 0.0),\n",
              " ('Medicine_Type_Antacids', 0.0),\n",
              " ('Medicine_Type_Antibiotics', 0.0),\n",
              " ('Medicine_Type_Antifungal', -0.0),\n",
              " ('Medicine_Type_Antimalarial', -0.0),\n",
              " ('Medicine_Type_Antipyretics', -0.0),\n",
              " ('Medicine_Type_Antiseptics', -0.0),\n",
              " ('Medicine_Type_Antiviral', 0.0),\n",
              " ('Medicine_Type_Cardiac', 0.0),\n",
              " ('Medicine_Type_Hreplacements', -0.0),\n",
              " ('Medicine_Type_Mstablizers', -0.0),\n",
              " ('Medicine_Type_MuscleRelaxants', 0.0),\n",
              " ('Medicine_Type_OralContraceptives', -0.0),\n",
              " ('Medicine_Type_Statins', 0.0),\n",
              " ('Medicine_Type_Stimulants', 0.0),\n",
              " ('Medicine_Type_Tranquilizers', -0.0),\n",
              " ('SidEffect_Level_mild', -0.0),\n",
              " ('Area_Type_DownTown', 204.1684662604143),\n",
              " ('Area_Type_Industrial', -0.0),\n",
              " ('Area_Type_MidTownResidential', -1656.278325794939),\n",
              " ('Area_City_Type_Tier 2', 35.44786832536248),\n",
              " ('Area_City_Type_Tier 3', -0.0),\n",
              " ('Area_dist_level_Medium', 0.0),\n",
              " ('Area_dist_level_Small', -0.0),\n",
              " ('Area_dist_level_Unknown', -0.0)]"
            ]
          },
          "metadata": {},
          "execution_count": 47
        }
      ]
    },
    {
      "cell_type": "code",
      "source": [
        "predictions=lr1l.predict(df_test)\n",
        "pd.DataFrame(predictions).to_csv(\"lasso_pred.csv\",index=False)"
      ],
      "metadata": {
        "id": "cGYd_-pXIly2"
      },
      "execution_count": 48,
      "outputs": []
    },
    {
      "cell_type": "markdown",
      "source": [
        "1b.) Ridge Regression"
      ],
      "metadata": {
        "id": "6ZW0tY-xIrY2"
      }
    },
    {
      "cell_type": "code",
      "source": [
        "from sklearn.linear_model import Ridge\n",
        "lr1r=Ridge(fit_intercept=True)"
      ],
      "metadata": {
        "id": "Am75CCJYIlru"
      },
      "execution_count": 49,
      "outputs": []
    },
    {
      "cell_type": "code",
      "source": [
        "lambdas=np.linspace(0,101,100)\n",
        "params={\"alpha\":lambdas}\n",
        "grid_search=GridSearchCV(lr1r,cv=10,scoring=\"neg_mean_absolute_error\",param_grid=params)\n",
        "grid_search.fit(x_train1,y_train1)"
      ],
      "metadata": {
        "colab": {
          "base_uri": "https://localhost:8080/",
          "height": 117
        },
        "id": "xS0fzB-3Iljt",
        "outputId": "468a4b32-eede-44ba-86b3-11656ea64194"
      },
      "execution_count": 50,
      "outputs": [
        {
          "output_type": "execute_result",
          "data": {
            "text/plain": [
              "GridSearchCV(cv=10, estimator=Ridge(),\n",
              "             param_grid={'alpha': array([  0.        ,   1.02020202,   2.04040404,   3.06060606,\n",
              "         4.08080808,   5.1010101 ,   6.12121212,   7.14141414,\n",
              "         8.16161616,   9.18181818,  10.2020202 ,  11.22222222,\n",
              "        12.24242424,  13.26262626,  14.28282828,  15.3030303 ,\n",
              "        16.32323232,  17.34343434,  18.36363636,  19.38383838,\n",
              "        20.4040404 ,  21.42424242,  22.44444444,  23.46464646,\n",
              "        24.48484848,  25.50505...\n",
              "        73.45454545,  74.47474747,  75.49494949,  76.51515152,\n",
              "        77.53535354,  78.55555556,  79.57575758,  80.5959596 ,\n",
              "        81.61616162,  82.63636364,  83.65656566,  84.67676768,\n",
              "        85.6969697 ,  86.71717172,  87.73737374,  88.75757576,\n",
              "        89.77777778,  90.7979798 ,  91.81818182,  92.83838384,\n",
              "        93.85858586,  94.87878788,  95.8989899 ,  96.91919192,\n",
              "        97.93939394,  98.95959596,  99.97979798, 101.        ])},\n",
              "             scoring='neg_mean_absolute_error')"
            ],
            "text/html": [
              "<style>#sk-container-id-3 {color: black;background-color: white;}#sk-container-id-3 pre{padding: 0;}#sk-container-id-3 div.sk-toggleable {background-color: white;}#sk-container-id-3 label.sk-toggleable__label {cursor: pointer;display: block;width: 100%;margin-bottom: 0;padding: 0.3em;box-sizing: border-box;text-align: center;}#sk-container-id-3 label.sk-toggleable__label-arrow:before {content: \"▸\";float: left;margin-right: 0.25em;color: #696969;}#sk-container-id-3 label.sk-toggleable__label-arrow:hover:before {color: black;}#sk-container-id-3 div.sk-estimator:hover label.sk-toggleable__label-arrow:before {color: black;}#sk-container-id-3 div.sk-toggleable__content {max-height: 0;max-width: 0;overflow: hidden;text-align: left;background-color: #f0f8ff;}#sk-container-id-3 div.sk-toggleable__content pre {margin: 0.2em;color: black;border-radius: 0.25em;background-color: #f0f8ff;}#sk-container-id-3 input.sk-toggleable__control:checked~div.sk-toggleable__content {max-height: 200px;max-width: 100%;overflow: auto;}#sk-container-id-3 input.sk-toggleable__control:checked~label.sk-toggleable__label-arrow:before {content: \"▾\";}#sk-container-id-3 div.sk-estimator input.sk-toggleable__control:checked~label.sk-toggleable__label {background-color: #d4ebff;}#sk-container-id-3 div.sk-label input.sk-toggleable__control:checked~label.sk-toggleable__label {background-color: #d4ebff;}#sk-container-id-3 input.sk-hidden--visually {border: 0;clip: rect(1px 1px 1px 1px);clip: rect(1px, 1px, 1px, 1px);height: 1px;margin: -1px;overflow: hidden;padding: 0;position: absolute;width: 1px;}#sk-container-id-3 div.sk-estimator {font-family: monospace;background-color: #f0f8ff;border: 1px dotted black;border-radius: 0.25em;box-sizing: border-box;margin-bottom: 0.5em;}#sk-container-id-3 div.sk-estimator:hover {background-color: #d4ebff;}#sk-container-id-3 div.sk-parallel-item::after {content: \"\";width: 100%;border-bottom: 1px solid gray;flex-grow: 1;}#sk-container-id-3 div.sk-label:hover label.sk-toggleable__label {background-color: #d4ebff;}#sk-container-id-3 div.sk-serial::before {content: \"\";position: absolute;border-left: 1px solid gray;box-sizing: border-box;top: 0;bottom: 0;left: 50%;z-index: 0;}#sk-container-id-3 div.sk-serial {display: flex;flex-direction: column;align-items: center;background-color: white;padding-right: 0.2em;padding-left: 0.2em;position: relative;}#sk-container-id-3 div.sk-item {position: relative;z-index: 1;}#sk-container-id-3 div.sk-parallel {display: flex;align-items: stretch;justify-content: center;background-color: white;position: relative;}#sk-container-id-3 div.sk-item::before, #sk-container-id-3 div.sk-parallel-item::before {content: \"\";position: absolute;border-left: 1px solid gray;box-sizing: border-box;top: 0;bottom: 0;left: 50%;z-index: -1;}#sk-container-id-3 div.sk-parallel-item {display: flex;flex-direction: column;z-index: 1;position: relative;background-color: white;}#sk-container-id-3 div.sk-parallel-item:first-child::after {align-self: flex-end;width: 50%;}#sk-container-id-3 div.sk-parallel-item:last-child::after {align-self: flex-start;width: 50%;}#sk-container-id-3 div.sk-parallel-item:only-child::after {width: 0;}#sk-container-id-3 div.sk-dashed-wrapped {border: 1px dashed gray;margin: 0 0.4em 0.5em 0.4em;box-sizing: border-box;padding-bottom: 0.4em;background-color: white;}#sk-container-id-3 div.sk-label label {font-family: monospace;font-weight: bold;display: inline-block;line-height: 1.2em;}#sk-container-id-3 div.sk-label-container {text-align: center;}#sk-container-id-3 div.sk-container {/* jupyter's `normalize.less` sets `[hidden] { display: none; }` but bootstrap.min.css set `[hidden] { display: none !important; }` so we also need the `!important` here to be able to override the default hidden behavior on the sphinx rendered scikit-learn.org. See: https://github.com/scikit-learn/scikit-learn/issues/21755 */display: inline-block !important;position: relative;}#sk-container-id-3 div.sk-text-repr-fallback {display: none;}</style><div id=\"sk-container-id-3\" class=\"sk-top-container\"><div class=\"sk-text-repr-fallback\"><pre>GridSearchCV(cv=10, estimator=Ridge(),\n",
              "             param_grid={&#x27;alpha&#x27;: array([  0.        ,   1.02020202,   2.04040404,   3.06060606,\n",
              "         4.08080808,   5.1010101 ,   6.12121212,   7.14141414,\n",
              "         8.16161616,   9.18181818,  10.2020202 ,  11.22222222,\n",
              "        12.24242424,  13.26262626,  14.28282828,  15.3030303 ,\n",
              "        16.32323232,  17.34343434,  18.36363636,  19.38383838,\n",
              "        20.4040404 ,  21.42424242,  22.44444444,  23.46464646,\n",
              "        24.48484848,  25.50505...\n",
              "        73.45454545,  74.47474747,  75.49494949,  76.51515152,\n",
              "        77.53535354,  78.55555556,  79.57575758,  80.5959596 ,\n",
              "        81.61616162,  82.63636364,  83.65656566,  84.67676768,\n",
              "        85.6969697 ,  86.71717172,  87.73737374,  88.75757576,\n",
              "        89.77777778,  90.7979798 ,  91.81818182,  92.83838384,\n",
              "        93.85858586,  94.87878788,  95.8989899 ,  96.91919192,\n",
              "        97.93939394,  98.95959596,  99.97979798, 101.        ])},\n",
              "             scoring=&#x27;neg_mean_absolute_error&#x27;)</pre><b>In a Jupyter environment, please rerun this cell to show the HTML representation or trust the notebook. <br />On GitHub, the HTML representation is unable to render, please try loading this page with nbviewer.org.</b></div><div class=\"sk-container\" hidden><div class=\"sk-item sk-dashed-wrapped\"><div class=\"sk-label-container\"><div class=\"sk-label sk-toggleable\"><input class=\"sk-toggleable__control sk-hidden--visually\" id=\"sk-estimator-id-5\" type=\"checkbox\" ><label for=\"sk-estimator-id-5\" class=\"sk-toggleable__label sk-toggleable__label-arrow\">GridSearchCV</label><div class=\"sk-toggleable__content\"><pre>GridSearchCV(cv=10, estimator=Ridge(),\n",
              "             param_grid={&#x27;alpha&#x27;: array([  0.        ,   1.02020202,   2.04040404,   3.06060606,\n",
              "         4.08080808,   5.1010101 ,   6.12121212,   7.14141414,\n",
              "         8.16161616,   9.18181818,  10.2020202 ,  11.22222222,\n",
              "        12.24242424,  13.26262626,  14.28282828,  15.3030303 ,\n",
              "        16.32323232,  17.34343434,  18.36363636,  19.38383838,\n",
              "        20.4040404 ,  21.42424242,  22.44444444,  23.46464646,\n",
              "        24.48484848,  25.50505...\n",
              "        73.45454545,  74.47474747,  75.49494949,  76.51515152,\n",
              "        77.53535354,  78.55555556,  79.57575758,  80.5959596 ,\n",
              "        81.61616162,  82.63636364,  83.65656566,  84.67676768,\n",
              "        85.6969697 ,  86.71717172,  87.73737374,  88.75757576,\n",
              "        89.77777778,  90.7979798 ,  91.81818182,  92.83838384,\n",
              "        93.85858586,  94.87878788,  95.8989899 ,  96.91919192,\n",
              "        97.93939394,  98.95959596,  99.97979798, 101.        ])},\n",
              "             scoring=&#x27;neg_mean_absolute_error&#x27;)</pre></div></div></div><div class=\"sk-parallel\"><div class=\"sk-parallel-item\"><div class=\"sk-item\"><div class=\"sk-label-container\"><div class=\"sk-label sk-toggleable\"><input class=\"sk-toggleable__control sk-hidden--visually\" id=\"sk-estimator-id-6\" type=\"checkbox\" ><label for=\"sk-estimator-id-6\" class=\"sk-toggleable__label sk-toggleable__label-arrow\">estimator: Ridge</label><div class=\"sk-toggleable__content\"><pre>Ridge()</pre></div></div></div><div class=\"sk-serial\"><div class=\"sk-item\"><div class=\"sk-estimator sk-toggleable\"><input class=\"sk-toggleable__control sk-hidden--visually\" id=\"sk-estimator-id-7\" type=\"checkbox\" ><label for=\"sk-estimator-id-7\" class=\"sk-toggleable__label sk-toggleable__label-arrow\">Ridge</label><div class=\"sk-toggleable__content\"><pre>Ridge()</pre></div></div></div></div></div></div></div></div></div></div>"
            ]
          },
          "metadata": {},
          "execution_count": 50
        }
      ]
    },
    {
      "cell_type": "code",
      "source": [
        "report(grid_search.cv_results_,5)"
      ],
      "metadata": {
        "colab": {
          "base_uri": "https://localhost:8080/"
        },
        "id": "xq4Was5zIlby",
        "outputId": "917ac69e-b4d0-4581-f83c-caa82737e20d"
      },
      "execution_count": 51,
      "outputs": [
        {
          "output_type": "stream",
          "name": "stdout",
          "text": [
            "Model with rank 1\n",
            "Mean validation score: -827.312    Std:29.58018\n",
            "Parameters: {'alpha': 82.63636363636363}\n",
            "\n",
            "Model with rank 2\n",
            "Mean validation score: -827.312    Std:29.59271\n",
            "Parameters: {'alpha': 83.65656565656565}\n",
            "\n",
            "Model with rank 3\n",
            "Mean validation score: -827.312    Std:29.56740\n",
            "Parameters: {'alpha': 81.6161616161616}\n",
            "\n",
            "Model with rank 4\n",
            "Mean validation score: -827.313    Std:29.60418\n",
            "Parameters: {'alpha': 84.67676767676767}\n",
            "\n",
            "Model with rank 5\n",
            "Mean validation score: -827.313    Std:29.55433\n",
            "Parameters: {'alpha': 80.59595959595958}\n",
            "\n"
          ]
        }
      ]
    },
    {
      "cell_type": "code",
      "source": [
        "lr1r=grid_search.best_estimator_\n",
        "predictions=lr1r.predict(x_test1)"
      ],
      "metadata": {
        "id": "51e29ttbIlT0"
      },
      "execution_count": 52,
      "outputs": []
    },
    {
      "cell_type": "code",
      "source": [
        "err=mean_absolute_error(y_test1,predictions)\n",
        "model_errors.append([\"Ridge\",err])\n",
        "err"
      ],
      "metadata": {
        "colab": {
          "base_uri": "https://localhost:8080/"
        },
        "id": "UJculcw9IlM6",
        "outputId": "2f121ff2-45c3-4dcf-e486-611daa5293ab"
      },
      "execution_count": 53,
      "outputs": [
        {
          "output_type": "execute_result",
          "data": {
            "text/plain": [
              "826.508069042551"
            ]
          },
          "metadata": {},
          "execution_count": 53
        }
      ]
    },
    {
      "cell_type": "code",
      "source": [
        "lr1r.fit(x_train2,y_train2)\n",
        "lr1r.intercept_"
      ],
      "metadata": {
        "colab": {
          "base_uri": "https://localhost:8080/"
        },
        "id": "sgUwy1V8JHbe",
        "outputId": "61487fa3-1a4f-438f-d8b2-c62c1fde33fd"
      },
      "execution_count": 54,
      "outputs": [
        {
          "output_type": "execute_result",
          "data": {
            "text/plain": [
              "-1162.3405128826503"
            ]
          },
          "metadata": {},
          "execution_count": 54
        }
      ]
    },
    {
      "cell_type": "code",
      "source": [
        "list(zip(df_test.columns,lr1r.coef_))"
      ],
      "metadata": {
        "colab": {
          "base_uri": "https://localhost:8080/"
        },
        "id": "f1zcTV1rJKvk",
        "outputId": "876c5307-e9c7-43a0-8325-45caa81b687a"
      },
      "execution_count": 55,
      "outputs": [
        {
          "output_type": "execute_result",
          "data": {
            "text/plain": [
              "[('Counterfeit_Weight', -2.928344336736303),\n",
              " ('Medicine_MRP', 15.570652244471287),\n",
              " ('Availability_rating', -80.66373036892907),\n",
              " ('year', 28.669936013768208),\n",
              " ('DistArea_ID_Area013', -155.4961683232719),\n",
              " ('DistArea_ID_Area017', 314.05326493530896),\n",
              " ('DistArea_ID_Area018', -39.4255763489109),\n",
              " ('DistArea_ID_Area019', -484.2523759745838),\n",
              " ('DistArea_ID_Area027', 833.0850525457838),\n",
              " ('DistArea_ID_Area035', 130.63160838572466),\n",
              " ('DistArea_ID_Area045', 22.08799640147089),\n",
              " ('DistArea_ID_Area046', 226.35596849309093),\n",
              " ('DistArea_ID_Area049', -242.8867041518689),\n",
              " ('Medicine_Type_Antacids', 8.403450876740045),\n",
              " ('Medicine_Type_Antibiotics', 43.08974691951333),\n",
              " ('Medicine_Type_Antifungal', -9.556172566356269),\n",
              " ('Medicine_Type_Antimalarial', -33.54255504255701),\n",
              " ('Medicine_Type_Antipyretics', -54.755139792136276),\n",
              " ('Medicine_Type_Antiseptics', -23.496131141926455),\n",
              " ('Medicine_Type_Antiviral', 107.7561618830498),\n",
              " ('Medicine_Type_Cardiac', 32.77880260038687),\n",
              " ('Medicine_Type_Hreplacements', -9.20117367902887),\n",
              " ('Medicine_Type_Mstablizers', -11.528424193071102),\n",
              " ('Medicine_Type_MuscleRelaxants', 19.769938368654778),\n",
              " ('Medicine_Type_OralContraceptives', -18.650724304031783),\n",
              " ('Medicine_Type_Statins', 2.8912165630436575),\n",
              " ('Medicine_Type_Stimulants', 20.154431680592154),\n",
              " ('Medicine_Type_Tranquilizers', -44.49352543956977),\n",
              " ('SidEffect_Level_mild', -17.67952958184555),\n",
              " ('Area_Type_DownTown', 294.7459657404306),\n",
              " ('Area_Type_Industrial', -39.42557634891096),\n",
              " ('Area_Type_MidTownResidential', -1088.4054419373306),\n",
              " ('Area_City_Type_Tier 2', 466.77286972252705),\n",
              " ('Area_City_Type_Tier 3', 34.01024191082126),\n",
              " ('Area_dist_level_Medium', 550.7727720449908),\n",
              " ('Area_dist_level_Small', -127.26479909574326),\n",
              " ('Area_dist_level_Unknown', -268.01180462594795)]"
            ]
          },
          "metadata": {},
          "execution_count": 55
        }
      ]
    },
    {
      "cell_type": "code",
      "source": [
        "predictions=lr1r.predict(df_test)\n",
        "pd.DataFrame(predictions).to_csv(\"Ridge_pred.csv\",index=False)"
      ],
      "metadata": {
        "id": "7xKjPoGFJN8o"
      },
      "execution_count": 56,
      "outputs": []
    },
    {
      "cell_type": "markdown",
      "source": [
        "2. Decision Tree"
      ],
      "metadata": {
        "id": "VQLqnYjNJRPz"
      }
    },
    {
      "cell_type": "code",
      "source": [
        "from sklearn.tree import DecisionTreeRegressor\n",
        "from sklearn import tree\n",
        "dt2=DecisionTreeRegressor()"
      ],
      "metadata": {
        "id": "7BnZvnd_JPQq"
      },
      "execution_count": 57,
      "outputs": []
    },
    {
      "cell_type": "code",
      "source": [
        "params2={\"max_depth\":[None,5,10,15,20,30,50,70],\n",
        "        \"min_samples_split\":[2,5,10,15,20],\n",
        "        \"min_samples_leaf\":[1,2,5,10,15,20]}"
      ],
      "metadata": {
        "id": "ZU0iA8egJlZr"
      },
      "execution_count": 58,
      "outputs": []
    },
    {
      "cell_type": "code",
      "source": [
        "random_search2=RandomizedSearchCV(dt2,param_distributions=params2,cv=10,scoring=\"neg_mean_absolute_error\",n_iter=15)\n",
        "random_search2.fit(x_train1,y_train1)"
      ],
      "metadata": {
        "colab": {
          "base_uri": "https://localhost:8080/",
          "height": 117
        },
        "id": "BvivYfv8Jmt7",
        "outputId": "eb164c35-9ea6-4ddb-e8a3-c0df1b4c6977"
      },
      "execution_count": 59,
      "outputs": [
        {
          "output_type": "execute_result",
          "data": {
            "text/plain": [
              "RandomizedSearchCV(cv=10, estimator=DecisionTreeRegressor(), n_iter=15,\n",
              "                   param_distributions={'max_depth': [None, 5, 10, 15, 20, 30,\n",
              "                                                      50, 70],\n",
              "                                        'min_samples_leaf': [1, 2, 5, 10, 15,\n",
              "                                                             20],\n",
              "                                        'min_samples_split': [2, 5, 10, 15,\n",
              "                                                              20]},\n",
              "                   scoring='neg_mean_absolute_error')"
            ],
            "text/html": [
              "<style>#sk-container-id-4 {color: black;background-color: white;}#sk-container-id-4 pre{padding: 0;}#sk-container-id-4 div.sk-toggleable {background-color: white;}#sk-container-id-4 label.sk-toggleable__label {cursor: pointer;display: block;width: 100%;margin-bottom: 0;padding: 0.3em;box-sizing: border-box;text-align: center;}#sk-container-id-4 label.sk-toggleable__label-arrow:before {content: \"▸\";float: left;margin-right: 0.25em;color: #696969;}#sk-container-id-4 label.sk-toggleable__label-arrow:hover:before {color: black;}#sk-container-id-4 div.sk-estimator:hover label.sk-toggleable__label-arrow:before {color: black;}#sk-container-id-4 div.sk-toggleable__content {max-height: 0;max-width: 0;overflow: hidden;text-align: left;background-color: #f0f8ff;}#sk-container-id-4 div.sk-toggleable__content pre {margin: 0.2em;color: black;border-radius: 0.25em;background-color: #f0f8ff;}#sk-container-id-4 input.sk-toggleable__control:checked~div.sk-toggleable__content {max-height: 200px;max-width: 100%;overflow: auto;}#sk-container-id-4 input.sk-toggleable__control:checked~label.sk-toggleable__label-arrow:before {content: \"▾\";}#sk-container-id-4 div.sk-estimator input.sk-toggleable__control:checked~label.sk-toggleable__label {background-color: #d4ebff;}#sk-container-id-4 div.sk-label input.sk-toggleable__control:checked~label.sk-toggleable__label {background-color: #d4ebff;}#sk-container-id-4 input.sk-hidden--visually {border: 0;clip: rect(1px 1px 1px 1px);clip: rect(1px, 1px, 1px, 1px);height: 1px;margin: -1px;overflow: hidden;padding: 0;position: absolute;width: 1px;}#sk-container-id-4 div.sk-estimator {font-family: monospace;background-color: #f0f8ff;border: 1px dotted black;border-radius: 0.25em;box-sizing: border-box;margin-bottom: 0.5em;}#sk-container-id-4 div.sk-estimator:hover {background-color: #d4ebff;}#sk-container-id-4 div.sk-parallel-item::after {content: \"\";width: 100%;border-bottom: 1px solid gray;flex-grow: 1;}#sk-container-id-4 div.sk-label:hover label.sk-toggleable__label {background-color: #d4ebff;}#sk-container-id-4 div.sk-serial::before {content: \"\";position: absolute;border-left: 1px solid gray;box-sizing: border-box;top: 0;bottom: 0;left: 50%;z-index: 0;}#sk-container-id-4 div.sk-serial {display: flex;flex-direction: column;align-items: center;background-color: white;padding-right: 0.2em;padding-left: 0.2em;position: relative;}#sk-container-id-4 div.sk-item {position: relative;z-index: 1;}#sk-container-id-4 div.sk-parallel {display: flex;align-items: stretch;justify-content: center;background-color: white;position: relative;}#sk-container-id-4 div.sk-item::before, #sk-container-id-4 div.sk-parallel-item::before {content: \"\";position: absolute;border-left: 1px solid gray;box-sizing: border-box;top: 0;bottom: 0;left: 50%;z-index: -1;}#sk-container-id-4 div.sk-parallel-item {display: flex;flex-direction: column;z-index: 1;position: relative;background-color: white;}#sk-container-id-4 div.sk-parallel-item:first-child::after {align-self: flex-end;width: 50%;}#sk-container-id-4 div.sk-parallel-item:last-child::after {align-self: flex-start;width: 50%;}#sk-container-id-4 div.sk-parallel-item:only-child::after {width: 0;}#sk-container-id-4 div.sk-dashed-wrapped {border: 1px dashed gray;margin: 0 0.4em 0.5em 0.4em;box-sizing: border-box;padding-bottom: 0.4em;background-color: white;}#sk-container-id-4 div.sk-label label {font-family: monospace;font-weight: bold;display: inline-block;line-height: 1.2em;}#sk-container-id-4 div.sk-label-container {text-align: center;}#sk-container-id-4 div.sk-container {/* jupyter's `normalize.less` sets `[hidden] { display: none; }` but bootstrap.min.css set `[hidden] { display: none !important; }` so we also need the `!important` here to be able to override the default hidden behavior on the sphinx rendered scikit-learn.org. See: https://github.com/scikit-learn/scikit-learn/issues/21755 */display: inline-block !important;position: relative;}#sk-container-id-4 div.sk-text-repr-fallback {display: none;}</style><div id=\"sk-container-id-4\" class=\"sk-top-container\"><div class=\"sk-text-repr-fallback\"><pre>RandomizedSearchCV(cv=10, estimator=DecisionTreeRegressor(), n_iter=15,\n",
              "                   param_distributions={&#x27;max_depth&#x27;: [None, 5, 10, 15, 20, 30,\n",
              "                                                      50, 70],\n",
              "                                        &#x27;min_samples_leaf&#x27;: [1, 2, 5, 10, 15,\n",
              "                                                             20],\n",
              "                                        &#x27;min_samples_split&#x27;: [2, 5, 10, 15,\n",
              "                                                              20]},\n",
              "                   scoring=&#x27;neg_mean_absolute_error&#x27;)</pre><b>In a Jupyter environment, please rerun this cell to show the HTML representation or trust the notebook. <br />On GitHub, the HTML representation is unable to render, please try loading this page with nbviewer.org.</b></div><div class=\"sk-container\" hidden><div class=\"sk-item sk-dashed-wrapped\"><div class=\"sk-label-container\"><div class=\"sk-label sk-toggleable\"><input class=\"sk-toggleable__control sk-hidden--visually\" id=\"sk-estimator-id-8\" type=\"checkbox\" ><label for=\"sk-estimator-id-8\" class=\"sk-toggleable__label sk-toggleable__label-arrow\">RandomizedSearchCV</label><div class=\"sk-toggleable__content\"><pre>RandomizedSearchCV(cv=10, estimator=DecisionTreeRegressor(), n_iter=15,\n",
              "                   param_distributions={&#x27;max_depth&#x27;: [None, 5, 10, 15, 20, 30,\n",
              "                                                      50, 70],\n",
              "                                        &#x27;min_samples_leaf&#x27;: [1, 2, 5, 10, 15,\n",
              "                                                             20],\n",
              "                                        &#x27;min_samples_split&#x27;: [2, 5, 10, 15,\n",
              "                                                              20]},\n",
              "                   scoring=&#x27;neg_mean_absolute_error&#x27;)</pre></div></div></div><div class=\"sk-parallel\"><div class=\"sk-parallel-item\"><div class=\"sk-item\"><div class=\"sk-label-container\"><div class=\"sk-label sk-toggleable\"><input class=\"sk-toggleable__control sk-hidden--visually\" id=\"sk-estimator-id-9\" type=\"checkbox\" ><label for=\"sk-estimator-id-9\" class=\"sk-toggleable__label sk-toggleable__label-arrow\">estimator: DecisionTreeRegressor</label><div class=\"sk-toggleable__content\"><pre>DecisionTreeRegressor()</pre></div></div></div><div class=\"sk-serial\"><div class=\"sk-item\"><div class=\"sk-estimator sk-toggleable\"><input class=\"sk-toggleable__control sk-hidden--visually\" id=\"sk-estimator-id-10\" type=\"checkbox\" ><label for=\"sk-estimator-id-10\" class=\"sk-toggleable__label sk-toggleable__label-arrow\">DecisionTreeRegressor</label><div class=\"sk-toggleable__content\"><pre>DecisionTreeRegressor()</pre></div></div></div></div></div></div></div></div></div></div>"
            ]
          },
          "metadata": {},
          "execution_count": 59
        }
      ]
    },
    {
      "cell_type": "code",
      "source": [
        "report(random_search2.cv_results_,5)"
      ],
      "metadata": {
        "colab": {
          "base_uri": "https://localhost:8080/"
        },
        "id": "tHrraFHhJq60",
        "outputId": "cc55287d-c103-4b55-dd41-9c852f9732dd"
      },
      "execution_count": 60,
      "outputs": [
        {
          "output_type": "stream",
          "name": "stdout",
          "text": [
            "Model with rank 1\n",
            "Mean validation score: -760.783    Std:25.15096\n",
            "Parameters: {'min_samples_split': 15, 'min_samples_leaf': 15, 'max_depth': 5}\n",
            "\n",
            "Model with rank 2\n",
            "Mean validation score: -780.313    Std:32.29366\n",
            "Parameters: {'min_samples_split': 15, 'min_samples_leaf': 20, 'max_depth': 10}\n",
            "\n",
            "Model with rank 3\n",
            "Mean validation score: -799.658    Std:31.54371\n",
            "Parameters: {'min_samples_split': 10, 'min_samples_leaf': 10, 'max_depth': 10}\n",
            "\n",
            "Model with rank 4\n",
            "Mean validation score: -804.442    Std:27.43661\n",
            "Parameters: {'min_samples_split': 2, 'min_samples_leaf': 15, 'max_depth': 15}\n",
            "\n",
            "Model with rank 5\n",
            "Mean validation score: -805.195    Std:27.41712\n",
            "Parameters: {'min_samples_split': 10, 'min_samples_leaf': 15, 'max_depth': 50}\n",
            "\n"
          ]
        }
      ]
    },
    {
      "cell_type": "code",
      "source": [
        "dt2=random_search2.best_estimator_\n",
        "dt2.fit(x_train1,y_train1)\n",
        "predictions=dt2.predict(x_test1)"
      ],
      "metadata": {
        "id": "50BD9YX6Js-f"
      },
      "execution_count": 61,
      "outputs": []
    },
    {
      "cell_type": "code",
      "source": [
        "err=mean_absolute_error(y_test1,predictions)\n",
        "model_errors.append([\"DecisionTreeRegressor\",err])\n",
        "err"
      ],
      "metadata": {
        "colab": {
          "base_uri": "https://localhost:8080/"
        },
        "id": "AAVTG6NDJvUn",
        "outputId": "9f8d59cd-59a4-4fdc-f6e5-358578113bbd"
      },
      "execution_count": 62,
      "outputs": [
        {
          "output_type": "execute_result",
          "data": {
            "text/plain": [
              "768.2534880814219"
            ]
          },
          "metadata": {},
          "execution_count": 62
        }
      ]
    },
    {
      "cell_type": "code",
      "source": [
        "dt2.fit(x_train2,y_train2)\n",
        "predictions=dt2.predict(df_test)\n",
        "pd.DataFrame(predictions).to_csv(\"decision_pred.csv\",index=True)"
      ],
      "metadata": {
        "id": "4q_BTUDKJxoz"
      },
      "execution_count": 63,
      "outputs": []
    },
    {
      "cell_type": "code",
      "source": [
        "dotfile=open(\"mytree.dot\",\"w\")\n",
        "tree.export_graphviz(dt2,out_file=dotfile,feature_names=df_train.columns[:][:-1],proportion=True)\n",
        "dotfile.close()"
      ],
      "metadata": {
        "id": "LZqKsSSbJzyL"
      },
      "execution_count": 64,
      "outputs": []
    },
    {
      "cell_type": "markdown",
      "source": [
        "3. Random Forest"
      ],
      "metadata": {
        "id": "NDGsImEFJ1Mz"
      }
    },
    {
      "cell_type": "code",
      "source": [
        "from sklearn.ensemble import RandomForestRegressor\n",
        "rf3=RandomForestRegressor()\n",
        "df_train.shape"
      ],
      "metadata": {
        "colab": {
          "base_uri": "https://localhost:8080/"
        },
        "id": "r3Xw4qmXJ9EB",
        "outputId": "cf0f8c4f-d2bc-440b-b4e1-920c5ef20df6"
      },
      "execution_count": 65,
      "outputs": [
        {
          "output_type": "execute_result",
          "data": {
            "text/plain": [
              "(6818, 38)"
            ]
          },
          "metadata": {},
          "execution_count": 65
        }
      ]
    },
    {
      "cell_type": "code",
      "source": [
        "params3={\"n_estimators\":[100,200,300,500,700,1000],\n",
        "        \"max_features\":[2,5,10,15,20,25,35],\n",
        "        \"bootstrap\":[True,False],\n",
        "        \"max_depth\":[None,5,10,15,20,30,50,70],\n",
        "        \"min_samples_leaf\":[1,2,5,10,15,20,25],\n",
        "        \"min_samples_split\":[2,5,10,15,20,25]}"
      ],
      "metadata": {
        "id": "gerW56zFJ_fo"
      },
      "execution_count": 66,
      "outputs": []
    },
    {
      "cell_type": "code",
      "source": [
        "random_search3=RandomizedSearchCV(rf3,param_distributions=params3,n_iter=10,verbose=1,n_jobs=-1,scoring=\"neg_mean_absolute_error\",cv=10)\n",
        "random_search3.fit(x_train1,y_train1)"
      ],
      "metadata": {
        "colab": {
          "base_uri": "https://localhost:8080/",
          "height": 134
        },
        "id": "V2NKsNfBJ_ch",
        "outputId": "974c53cd-8884-4af1-a675-db93926998c9"
      },
      "execution_count": 67,
      "outputs": [
        {
          "output_type": "stream",
          "name": "stdout",
          "text": [
            "Fitting 10 folds for each of 10 candidates, totalling 100 fits\n"
          ]
        },
        {
          "output_type": "execute_result",
          "data": {
            "text/plain": [
              "RandomizedSearchCV(cv=10, estimator=RandomForestRegressor(), n_jobs=-1,\n",
              "                   param_distributions={'bootstrap': [True, False],\n",
              "                                        'max_depth': [None, 5, 10, 15, 20, 30,\n",
              "                                                      50, 70],\n",
              "                                        'max_features': [2, 5, 10, 15, 20, 25,\n",
              "                                                         35],\n",
              "                                        'min_samples_leaf': [1, 2, 5, 10, 15,\n",
              "                                                             20, 25],\n",
              "                                        'min_samples_split': [2, 5, 10, 15, 20,\n",
              "                                                              25],\n",
              "                                        'n_estimators': [100, 200, 300, 500,\n",
              "                                                         700, 1000]},\n",
              "                   scoring='neg_mean_absolute_error', verbose=1)"
            ],
            "text/html": [
              "<style>#sk-container-id-5 {color: black;background-color: white;}#sk-container-id-5 pre{padding: 0;}#sk-container-id-5 div.sk-toggleable {background-color: white;}#sk-container-id-5 label.sk-toggleable__label {cursor: pointer;display: block;width: 100%;margin-bottom: 0;padding: 0.3em;box-sizing: border-box;text-align: center;}#sk-container-id-5 label.sk-toggleable__label-arrow:before {content: \"▸\";float: left;margin-right: 0.25em;color: #696969;}#sk-container-id-5 label.sk-toggleable__label-arrow:hover:before {color: black;}#sk-container-id-5 div.sk-estimator:hover label.sk-toggleable__label-arrow:before {color: black;}#sk-container-id-5 div.sk-toggleable__content {max-height: 0;max-width: 0;overflow: hidden;text-align: left;background-color: #f0f8ff;}#sk-container-id-5 div.sk-toggleable__content pre {margin: 0.2em;color: black;border-radius: 0.25em;background-color: #f0f8ff;}#sk-container-id-5 input.sk-toggleable__control:checked~div.sk-toggleable__content {max-height: 200px;max-width: 100%;overflow: auto;}#sk-container-id-5 input.sk-toggleable__control:checked~label.sk-toggleable__label-arrow:before {content: \"▾\";}#sk-container-id-5 div.sk-estimator input.sk-toggleable__control:checked~label.sk-toggleable__label {background-color: #d4ebff;}#sk-container-id-5 div.sk-label input.sk-toggleable__control:checked~label.sk-toggleable__label {background-color: #d4ebff;}#sk-container-id-5 input.sk-hidden--visually {border: 0;clip: rect(1px 1px 1px 1px);clip: rect(1px, 1px, 1px, 1px);height: 1px;margin: -1px;overflow: hidden;padding: 0;position: absolute;width: 1px;}#sk-container-id-5 div.sk-estimator {font-family: monospace;background-color: #f0f8ff;border: 1px dotted black;border-radius: 0.25em;box-sizing: border-box;margin-bottom: 0.5em;}#sk-container-id-5 div.sk-estimator:hover {background-color: #d4ebff;}#sk-container-id-5 div.sk-parallel-item::after {content: \"\";width: 100%;border-bottom: 1px solid gray;flex-grow: 1;}#sk-container-id-5 div.sk-label:hover label.sk-toggleable__label {background-color: #d4ebff;}#sk-container-id-5 div.sk-serial::before {content: \"\";position: absolute;border-left: 1px solid gray;box-sizing: border-box;top: 0;bottom: 0;left: 50%;z-index: 0;}#sk-container-id-5 div.sk-serial {display: flex;flex-direction: column;align-items: center;background-color: white;padding-right: 0.2em;padding-left: 0.2em;position: relative;}#sk-container-id-5 div.sk-item {position: relative;z-index: 1;}#sk-container-id-5 div.sk-parallel {display: flex;align-items: stretch;justify-content: center;background-color: white;position: relative;}#sk-container-id-5 div.sk-item::before, #sk-container-id-5 div.sk-parallel-item::before {content: \"\";position: absolute;border-left: 1px solid gray;box-sizing: border-box;top: 0;bottom: 0;left: 50%;z-index: -1;}#sk-container-id-5 div.sk-parallel-item {display: flex;flex-direction: column;z-index: 1;position: relative;background-color: white;}#sk-container-id-5 div.sk-parallel-item:first-child::after {align-self: flex-end;width: 50%;}#sk-container-id-5 div.sk-parallel-item:last-child::after {align-self: flex-start;width: 50%;}#sk-container-id-5 div.sk-parallel-item:only-child::after {width: 0;}#sk-container-id-5 div.sk-dashed-wrapped {border: 1px dashed gray;margin: 0 0.4em 0.5em 0.4em;box-sizing: border-box;padding-bottom: 0.4em;background-color: white;}#sk-container-id-5 div.sk-label label {font-family: monospace;font-weight: bold;display: inline-block;line-height: 1.2em;}#sk-container-id-5 div.sk-label-container {text-align: center;}#sk-container-id-5 div.sk-container {/* jupyter's `normalize.less` sets `[hidden] { display: none; }` but bootstrap.min.css set `[hidden] { display: none !important; }` so we also need the `!important` here to be able to override the default hidden behavior on the sphinx rendered scikit-learn.org. See: https://github.com/scikit-learn/scikit-learn/issues/21755 */display: inline-block !important;position: relative;}#sk-container-id-5 div.sk-text-repr-fallback {display: none;}</style><div id=\"sk-container-id-5\" class=\"sk-top-container\"><div class=\"sk-text-repr-fallback\"><pre>RandomizedSearchCV(cv=10, estimator=RandomForestRegressor(), n_jobs=-1,\n",
              "                   param_distributions={&#x27;bootstrap&#x27;: [True, False],\n",
              "                                        &#x27;max_depth&#x27;: [None, 5, 10, 15, 20, 30,\n",
              "                                                      50, 70],\n",
              "                                        &#x27;max_features&#x27;: [2, 5, 10, 15, 20, 25,\n",
              "                                                         35],\n",
              "                                        &#x27;min_samples_leaf&#x27;: [1, 2, 5, 10, 15,\n",
              "                                                             20, 25],\n",
              "                                        &#x27;min_samples_split&#x27;: [2, 5, 10, 15, 20,\n",
              "                                                              25],\n",
              "                                        &#x27;n_estimators&#x27;: [100, 200, 300, 500,\n",
              "                                                         700, 1000]},\n",
              "                   scoring=&#x27;neg_mean_absolute_error&#x27;, verbose=1)</pre><b>In a Jupyter environment, please rerun this cell to show the HTML representation or trust the notebook. <br />On GitHub, the HTML representation is unable to render, please try loading this page with nbviewer.org.</b></div><div class=\"sk-container\" hidden><div class=\"sk-item sk-dashed-wrapped\"><div class=\"sk-label-container\"><div class=\"sk-label sk-toggleable\"><input class=\"sk-toggleable__control sk-hidden--visually\" id=\"sk-estimator-id-11\" type=\"checkbox\" ><label for=\"sk-estimator-id-11\" class=\"sk-toggleable__label sk-toggleable__label-arrow\">RandomizedSearchCV</label><div class=\"sk-toggleable__content\"><pre>RandomizedSearchCV(cv=10, estimator=RandomForestRegressor(), n_jobs=-1,\n",
              "                   param_distributions={&#x27;bootstrap&#x27;: [True, False],\n",
              "                                        &#x27;max_depth&#x27;: [None, 5, 10, 15, 20, 30,\n",
              "                                                      50, 70],\n",
              "                                        &#x27;max_features&#x27;: [2, 5, 10, 15, 20, 25,\n",
              "                                                         35],\n",
              "                                        &#x27;min_samples_leaf&#x27;: [1, 2, 5, 10, 15,\n",
              "                                                             20, 25],\n",
              "                                        &#x27;min_samples_split&#x27;: [2, 5, 10, 15, 20,\n",
              "                                                              25],\n",
              "                                        &#x27;n_estimators&#x27;: [100, 200, 300, 500,\n",
              "                                                         700, 1000]},\n",
              "                   scoring=&#x27;neg_mean_absolute_error&#x27;, verbose=1)</pre></div></div></div><div class=\"sk-parallel\"><div class=\"sk-parallel-item\"><div class=\"sk-item\"><div class=\"sk-label-container\"><div class=\"sk-label sk-toggleable\"><input class=\"sk-toggleable__control sk-hidden--visually\" id=\"sk-estimator-id-12\" type=\"checkbox\" ><label for=\"sk-estimator-id-12\" class=\"sk-toggleable__label sk-toggleable__label-arrow\">estimator: RandomForestRegressor</label><div class=\"sk-toggleable__content\"><pre>RandomForestRegressor()</pre></div></div></div><div class=\"sk-serial\"><div class=\"sk-item\"><div class=\"sk-estimator sk-toggleable\"><input class=\"sk-toggleable__control sk-hidden--visually\" id=\"sk-estimator-id-13\" type=\"checkbox\" ><label for=\"sk-estimator-id-13\" class=\"sk-toggleable__label sk-toggleable__label-arrow\">RandomForestRegressor</label><div class=\"sk-toggleable__content\"><pre>RandomForestRegressor()</pre></div></div></div></div></div></div></div></div></div></div>"
            ]
          },
          "metadata": {},
          "execution_count": 67
        }
      ]
    },
    {
      "cell_type": "code",
      "source": [
        "report(random_search3.cv_results_,5)"
      ],
      "metadata": {
        "colab": {
          "base_uri": "https://localhost:8080/"
        },
        "id": "8Sw9z9qbJ_ZS",
        "outputId": "6e9b67c7-cc4d-445c-d429-2ab0919a77cc"
      },
      "execution_count": 68,
      "outputs": [
        {
          "output_type": "stream",
          "name": "stdout",
          "text": [
            "Model with rank 1\n",
            "Mean validation score: -756.007    Std:25.59215\n",
            "Parameters: {'n_estimators': 500, 'min_samples_split': 10, 'min_samples_leaf': 25, 'max_features': 25, 'max_depth': 20, 'bootstrap': False}\n",
            "\n",
            "Model with rank 2\n",
            "Mean validation score: -756.417    Std:26.19429\n",
            "Parameters: {'n_estimators': 200, 'min_samples_split': 20, 'min_samples_leaf': 5, 'max_features': 25, 'max_depth': 20, 'bootstrap': True}\n",
            "\n",
            "Model with rank 3\n",
            "Mean validation score: -761.286    Std:22.99775\n",
            "Parameters: {'n_estimators': 1000, 'min_samples_split': 20, 'min_samples_leaf': 2, 'max_features': 10, 'max_depth': 30, 'bootstrap': False}\n",
            "\n",
            "Model with rank 4\n",
            "Mean validation score: -835.810    Std:23.61390\n",
            "Parameters: {'n_estimators': 300, 'min_samples_split': 2, 'min_samples_leaf': 10, 'max_features': 5, 'max_depth': 10, 'bootstrap': True}\n",
            "\n",
            "Model with rank 5\n",
            "Mean validation score: -886.605    Std:23.29942\n",
            "Parameters: {'n_estimators': 300, 'min_samples_split': 10, 'min_samples_leaf': 5, 'max_features': 2, 'max_depth': 20, 'bootstrap': True}\n",
            "\n"
          ]
        }
      ]
    },
    {
      "cell_type": "code",
      "source": [
        "rf3=random_search3.best_estimator_\n",
        "rf3.fit(x_train1,y_train1)\n",
        "predictions=rf3.predict(x_test1)"
      ],
      "metadata": {
        "id": "LvRA9K6vJ_Vm"
      },
      "execution_count": 69,
      "outputs": []
    },
    {
      "cell_type": "code",
      "source": [
        "err=mean_absolute_error(y_test1,predictions)\n",
        "model_errors.append([\"RandomForestRegressor\",err])\n",
        "err"
      ],
      "metadata": {
        "colab": {
          "base_uri": "https://localhost:8080/"
        },
        "id": "brT3xA_uJ_SY",
        "outputId": "f91d3f8e-a0de-445d-a217-cf548f58e4d9"
      },
      "execution_count": 70,
      "outputs": [
        {
          "output_type": "execute_result",
          "data": {
            "text/plain": [
              "771.2336366706551"
            ]
          },
          "metadata": {},
          "execution_count": 70
        }
      ]
    },
    {
      "cell_type": "code",
      "source": [
        "rf3.fit(x_train2,y_train2)\n",
        "predictions=rf3.predict(df_test)\n",
        "pd.DataFrame(predictions).to_csv(\"random_forest_pred.csv\",index=False)"
      ],
      "metadata": {
        "id": "-7w88fj2J_PL"
      },
      "execution_count": 71,
      "outputs": []
    },
    {
      "cell_type": "markdown",
      "source": [
        "4. Gradient Boosting"
      ],
      "metadata": {
        "id": "rCAUg2sTKqDc"
      }
    },
    {
      "cell_type": "code",
      "source": [
        "from sklearn.ensemble import GradientBoostingRegressor\n",
        "gbm4=GradientBoostingRegressor()"
      ],
      "metadata": {
        "id": "-BylyeneJ_MB"
      },
      "execution_count": 72,
      "outputs": []
    },
    {
      "cell_type": "code",
      "source": [
        "params4={\"n_estimators\":[50,100,200,500,700,1000],\n",
        "         \"learning_rate\":[0.001,0.005,0.01,0.05,0.1,0.4,0.8,1],\n",
        "         \"max_depth\":[1,2,3,4,5,6],\n",
        "         \"subsample\":[0.5,0.8,1],\n",
        "         \"max_features\":[2,5,10,15,20,25,30,35]}"
      ],
      "metadata": {
        "id": "wgl0uZmdJ_Iq"
      },
      "execution_count": 73,
      "outputs": []
    },
    {
      "cell_type": "code",
      "source": [
        "random_search4=RandomizedSearchCV(gbm4,scoring=\"neg_mean_absolute_error\",param_distributions=params4,cv=10,n_iter=10,n_jobs=-1)\n",
        "random_search4.fit(x_train1,y_train1)"
      ],
      "metadata": {
        "colab": {
          "base_uri": "https://localhost:8080/",
          "height": 117
        },
        "id": "LyreB87HJ_FZ",
        "outputId": "978b10ad-6da0-448d-988b-1edbd3c92b85"
      },
      "execution_count": 74,
      "outputs": [
        {
          "output_type": "execute_result",
          "data": {
            "text/plain": [
              "RandomizedSearchCV(cv=10, estimator=GradientBoostingRegressor(), n_jobs=-1,\n",
              "                   param_distributions={'learning_rate': [0.001, 0.005, 0.01,\n",
              "                                                          0.05, 0.1, 0.4, 0.8,\n",
              "                                                          1],\n",
              "                                        'max_depth': [1, 2, 3, 4, 5, 6],\n",
              "                                        'max_features': [2, 5, 10, 15, 20, 25,\n",
              "                                                         30, 35],\n",
              "                                        'n_estimators': [50, 100, 200, 500, 700,\n",
              "                                                         1000],\n",
              "                                        'subsample': [0.5, 0.8, 1]},\n",
              "                   scoring='neg_mean_absolute_error')"
            ],
            "text/html": [
              "<style>#sk-container-id-6 {color: black;background-color: white;}#sk-container-id-6 pre{padding: 0;}#sk-container-id-6 div.sk-toggleable {background-color: white;}#sk-container-id-6 label.sk-toggleable__label {cursor: pointer;display: block;width: 100%;margin-bottom: 0;padding: 0.3em;box-sizing: border-box;text-align: center;}#sk-container-id-6 label.sk-toggleable__label-arrow:before {content: \"▸\";float: left;margin-right: 0.25em;color: #696969;}#sk-container-id-6 label.sk-toggleable__label-arrow:hover:before {color: black;}#sk-container-id-6 div.sk-estimator:hover label.sk-toggleable__label-arrow:before {color: black;}#sk-container-id-6 div.sk-toggleable__content {max-height: 0;max-width: 0;overflow: hidden;text-align: left;background-color: #f0f8ff;}#sk-container-id-6 div.sk-toggleable__content pre {margin: 0.2em;color: black;border-radius: 0.25em;background-color: #f0f8ff;}#sk-container-id-6 input.sk-toggleable__control:checked~div.sk-toggleable__content {max-height: 200px;max-width: 100%;overflow: auto;}#sk-container-id-6 input.sk-toggleable__control:checked~label.sk-toggleable__label-arrow:before {content: \"▾\";}#sk-container-id-6 div.sk-estimator input.sk-toggleable__control:checked~label.sk-toggleable__label {background-color: #d4ebff;}#sk-container-id-6 div.sk-label input.sk-toggleable__control:checked~label.sk-toggleable__label {background-color: #d4ebff;}#sk-container-id-6 input.sk-hidden--visually {border: 0;clip: rect(1px 1px 1px 1px);clip: rect(1px, 1px, 1px, 1px);height: 1px;margin: -1px;overflow: hidden;padding: 0;position: absolute;width: 1px;}#sk-container-id-6 div.sk-estimator {font-family: monospace;background-color: #f0f8ff;border: 1px dotted black;border-radius: 0.25em;box-sizing: border-box;margin-bottom: 0.5em;}#sk-container-id-6 div.sk-estimator:hover {background-color: #d4ebff;}#sk-container-id-6 div.sk-parallel-item::after {content: \"\";width: 100%;border-bottom: 1px solid gray;flex-grow: 1;}#sk-container-id-6 div.sk-label:hover label.sk-toggleable__label {background-color: #d4ebff;}#sk-container-id-6 div.sk-serial::before {content: \"\";position: absolute;border-left: 1px solid gray;box-sizing: border-box;top: 0;bottom: 0;left: 50%;z-index: 0;}#sk-container-id-6 div.sk-serial {display: flex;flex-direction: column;align-items: center;background-color: white;padding-right: 0.2em;padding-left: 0.2em;position: relative;}#sk-container-id-6 div.sk-item {position: relative;z-index: 1;}#sk-container-id-6 div.sk-parallel {display: flex;align-items: stretch;justify-content: center;background-color: white;position: relative;}#sk-container-id-6 div.sk-item::before, #sk-container-id-6 div.sk-parallel-item::before {content: \"\";position: absolute;border-left: 1px solid gray;box-sizing: border-box;top: 0;bottom: 0;left: 50%;z-index: -1;}#sk-container-id-6 div.sk-parallel-item {display: flex;flex-direction: column;z-index: 1;position: relative;background-color: white;}#sk-container-id-6 div.sk-parallel-item:first-child::after {align-self: flex-end;width: 50%;}#sk-container-id-6 div.sk-parallel-item:last-child::after {align-self: flex-start;width: 50%;}#sk-container-id-6 div.sk-parallel-item:only-child::after {width: 0;}#sk-container-id-6 div.sk-dashed-wrapped {border: 1px dashed gray;margin: 0 0.4em 0.5em 0.4em;box-sizing: border-box;padding-bottom: 0.4em;background-color: white;}#sk-container-id-6 div.sk-label label {font-family: monospace;font-weight: bold;display: inline-block;line-height: 1.2em;}#sk-container-id-6 div.sk-label-container {text-align: center;}#sk-container-id-6 div.sk-container {/* jupyter's `normalize.less` sets `[hidden] { display: none; }` but bootstrap.min.css set `[hidden] { display: none !important; }` so we also need the `!important` here to be able to override the default hidden behavior on the sphinx rendered scikit-learn.org. See: https://github.com/scikit-learn/scikit-learn/issues/21755 */display: inline-block !important;position: relative;}#sk-container-id-6 div.sk-text-repr-fallback {display: none;}</style><div id=\"sk-container-id-6\" class=\"sk-top-container\"><div class=\"sk-text-repr-fallback\"><pre>RandomizedSearchCV(cv=10, estimator=GradientBoostingRegressor(), n_jobs=-1,\n",
              "                   param_distributions={&#x27;learning_rate&#x27;: [0.001, 0.005, 0.01,\n",
              "                                                          0.05, 0.1, 0.4, 0.8,\n",
              "                                                          1],\n",
              "                                        &#x27;max_depth&#x27;: [1, 2, 3, 4, 5, 6],\n",
              "                                        &#x27;max_features&#x27;: [2, 5, 10, 15, 20, 25,\n",
              "                                                         30, 35],\n",
              "                                        &#x27;n_estimators&#x27;: [50, 100, 200, 500, 700,\n",
              "                                                         1000],\n",
              "                                        &#x27;subsample&#x27;: [0.5, 0.8, 1]},\n",
              "                   scoring=&#x27;neg_mean_absolute_error&#x27;)</pre><b>In a Jupyter environment, please rerun this cell to show the HTML representation or trust the notebook. <br />On GitHub, the HTML representation is unable to render, please try loading this page with nbviewer.org.</b></div><div class=\"sk-container\" hidden><div class=\"sk-item sk-dashed-wrapped\"><div class=\"sk-label-container\"><div class=\"sk-label sk-toggleable\"><input class=\"sk-toggleable__control sk-hidden--visually\" id=\"sk-estimator-id-14\" type=\"checkbox\" ><label for=\"sk-estimator-id-14\" class=\"sk-toggleable__label sk-toggleable__label-arrow\">RandomizedSearchCV</label><div class=\"sk-toggleable__content\"><pre>RandomizedSearchCV(cv=10, estimator=GradientBoostingRegressor(), n_jobs=-1,\n",
              "                   param_distributions={&#x27;learning_rate&#x27;: [0.001, 0.005, 0.01,\n",
              "                                                          0.05, 0.1, 0.4, 0.8,\n",
              "                                                          1],\n",
              "                                        &#x27;max_depth&#x27;: [1, 2, 3, 4, 5, 6],\n",
              "                                        &#x27;max_features&#x27;: [2, 5, 10, 15, 20, 25,\n",
              "                                                         30, 35],\n",
              "                                        &#x27;n_estimators&#x27;: [50, 100, 200, 500, 700,\n",
              "                                                         1000],\n",
              "                                        &#x27;subsample&#x27;: [0.5, 0.8, 1]},\n",
              "                   scoring=&#x27;neg_mean_absolute_error&#x27;)</pre></div></div></div><div class=\"sk-parallel\"><div class=\"sk-parallel-item\"><div class=\"sk-item\"><div class=\"sk-label-container\"><div class=\"sk-label sk-toggleable\"><input class=\"sk-toggleable__control sk-hidden--visually\" id=\"sk-estimator-id-15\" type=\"checkbox\" ><label for=\"sk-estimator-id-15\" class=\"sk-toggleable__label sk-toggleable__label-arrow\">estimator: GradientBoostingRegressor</label><div class=\"sk-toggleable__content\"><pre>GradientBoostingRegressor()</pre></div></div></div><div class=\"sk-serial\"><div class=\"sk-item\"><div class=\"sk-estimator sk-toggleable\"><input class=\"sk-toggleable__control sk-hidden--visually\" id=\"sk-estimator-id-16\" type=\"checkbox\" ><label for=\"sk-estimator-id-16\" class=\"sk-toggleable__label sk-toggleable__label-arrow\">GradientBoostingRegressor</label><div class=\"sk-toggleable__content\"><pre>GradientBoostingRegressor()</pre></div></div></div></div></div></div></div></div></div></div>"
            ]
          },
          "metadata": {},
          "execution_count": 74
        }
      ]
    },
    {
      "cell_type": "code",
      "source": [
        "report(random_search4.cv_results_,5)"
      ],
      "metadata": {
        "colab": {
          "base_uri": "https://localhost:8080/"
        },
        "id": "T07SXb5cJ_CY",
        "outputId": "5960feb6-356e-4b6b-f4dd-5f91d2bec864"
      },
      "execution_count": 75,
      "outputs": [
        {
          "output_type": "stream",
          "name": "stdout",
          "text": [
            "Model with rank 1\n",
            "Mean validation score: -774.468    Std:27.05065\n",
            "Parameters: {'subsample': 1, 'n_estimators': 100, 'max_features': 15, 'max_depth': 2, 'learning_rate': 0.4}\n",
            "\n",
            "Model with rank 2\n",
            "Mean validation score: -778.998    Std:26.03601\n",
            "Parameters: {'subsample': 0.8, 'n_estimators': 200, 'max_features': 10, 'max_depth': 5, 'learning_rate': 0.1}\n",
            "\n",
            "Model with rank 3\n",
            "Mean validation score: -812.135    Std:26.32928\n",
            "Parameters: {'subsample': 1, 'n_estimators': 100, 'max_features': 2, 'max_depth': 2, 'learning_rate': 0.4}\n",
            "\n",
            "Model with rank 4\n",
            "Mean validation score: -816.476    Std:23.06617\n",
            "Parameters: {'subsample': 0.8, 'n_estimators': 1000, 'max_features': 30, 'max_depth': 5, 'learning_rate': 0.05}\n",
            "\n",
            "Model with rank 5\n",
            "Mean validation score: -835.470    Std:21.56174\n",
            "Parameters: {'subsample': 1, 'n_estimators': 700, 'max_features': 30, 'max_depth': 5, 'learning_rate': 0.1}\n",
            "\n"
          ]
        }
      ]
    },
    {
      "cell_type": "code",
      "source": [
        "gbm4=random_search4.best_estimator_\n",
        "gbm4.fit(x_train1,y_train1)\n",
        "predictions=gbm4.predict(x_test1)"
      ],
      "metadata": {
        "id": "N6_KtEeKJ-_b"
      },
      "execution_count": 76,
      "outputs": []
    },
    {
      "cell_type": "code",
      "source": [
        "err=mean_absolute_error(y_test1,predictions)\n",
        "model_errors.append([\"GradientBoostingRegressor\",err])\n",
        "err"
      ],
      "metadata": {
        "colab": {
          "base_uri": "https://localhost:8080/"
        },
        "id": "H_muYeu8J-8a",
        "outputId": "6a109679-5303-4313-d5d1-e450fdc7307c"
      },
      "execution_count": 77,
      "outputs": [
        {
          "output_type": "execute_result",
          "data": {
            "text/plain": [
              "780.5183501100718"
            ]
          },
          "metadata": {},
          "execution_count": 77
        }
      ]
    },
    {
      "cell_type": "code",
      "source": [
        "gbm4.fit(x_train2,y_train2)\n",
        "predictions=gbm4.predict(df_test)\n",
        "pd.DataFrame(predictions).to_csv(\"gradient_boosting_pred.csv\",index=False)"
      ],
      "metadata": {
        "id": "kUjRAyseJ-4U"
      },
      "execution_count": 78,
      "outputs": []
    },
    {
      "cell_type": "markdown",
      "source": [
        "5. XGBoost "
      ],
      "metadata": {
        "id": "IjraQ1DkLUXP"
      }
    },
    {
      "cell_type": "code",
      "source": [
        "from xgboost.sklearn import XGBRegressor\n",
        "xgb5=XGBRegressor(objective=\"reg:squarederror\")"
      ],
      "metadata": {
        "id": "JD4JRBdIJ-1O"
      },
      "execution_count": 79,
      "outputs": []
    },
    {
      "cell_type": "code",
      "source": [
        "params5={\"learning_rate\":[0.001,0.005,0.01,0.05,0.1,0.3,0.5,0.8,1],\n",
        "           \"gamma\":[i/10.0 for i in range(0,5)],\n",
        "           \"max_depth\":[2,3,4,5,6,7,8],\n",
        "           \"min_child_weight\":[1,2,5,10,15],\n",
        "           \"max_delta_step\":[0,1,2,5,10],\n",
        "           \"subsample\":[i/10.0 for i in range(5,10)],\n",
        "           \"cosample_bytree\":[i/10.0 for i in range(5,10)],\n",
        "           \"cosample_bylevel\":[i/10.0 for i in range(5,10)],\n",
        "           \"reg_lambda\":[1e-5,1e-2,0.1,1,100],\n",
        "           \"reg_alpha\":[1e-5,1e-2,0.1,1,100],\n",
        "           \"scale_pos_weight\":[1,2,3,4,5,6,7,8,9],\n",
        "           \"n_estimators\":[100,500,700,1000]\n",
        "           }"
      ],
      "metadata": {
        "id": "7jbJSbJiJ-x0"
      },
      "execution_count": 80,
      "outputs": []
    },
    {
      "cell_type": "code",
      "source": [
        "random_search5=RandomizedSearchCV(xgb5,n_iter=15,cv=10,param_distributions=params5,n_jobs=-1,scoring=\"neg_mean_absolute_error\")\n",
        "random_search5.fit(x_train1,y_train1)"
      ],
      "metadata": {
        "colab": {
          "base_uri": "https://localhost:8080/",
          "height": 169
        },
        "id": "BpdGIxeVJ-u5",
        "outputId": "bf422e4d-f937-405e-ee4a-6fd2aa7cf9a1"
      },
      "execution_count": 81,
      "outputs": [
        {
          "output_type": "stream",
          "name": "stdout",
          "text": [
            "[07:44:21] WARNING: ../src/learner.cc:767: \n",
            "Parameters: { \"cosample_bylevel\", \"cosample_bytree\" } are not used.\n",
            "\n"
          ]
        },
        {
          "output_type": "execute_result",
          "data": {
            "text/plain": [
              "RandomizedSearchCV(cv=10,\n",
              "                   estimator=XGBRegressor(base_score=None, booster=None,\n",
              "                                          callbacks=None,\n",
              "                                          colsample_bylevel=None,\n",
              "                                          colsample_bynode=None,\n",
              "                                          colsample_bytree=None,\n",
              "                                          early_stopping_rounds=None,\n",
              "                                          enable_categorical=False,\n",
              "                                          eval_metric=None, feature_types=None,\n",
              "                                          gamma=None, gpu_id=None,\n",
              "                                          grow_policy=None,\n",
              "                                          importance_type=None,\n",
              "                                          interaction_constraints=None,\n",
              "                                          learning_rate...\n",
              "                                        'learning_rate': [0.001, 0.005, 0.01,\n",
              "                                                          0.05, 0.1, 0.3, 0.5,\n",
              "                                                          0.8, 1],\n",
              "                                        'max_delta_step': [0, 1, 2, 5, 10],\n",
              "                                        'max_depth': [2, 3, 4, 5, 6, 7, 8],\n",
              "                                        'min_child_weight': [1, 2, 5, 10, 15],\n",
              "                                        'n_estimators': [100, 500, 700, 1000],\n",
              "                                        'reg_alpha': [1e-05, 0.01, 0.1, 1, 100],\n",
              "                                        'reg_lambda': [1e-05, 0.01, 0.1, 1,\n",
              "                                                       100],\n",
              "                                        'scale_pos_weight': [1, 2, 3, 4, 5, 6,\n",
              "                                                             7, 8, 9],\n",
              "                                        'subsample': [0.5, 0.6, 0.7, 0.8, 0.9]},\n",
              "                   scoring='neg_mean_absolute_error')"
            ],
            "text/html": [
              "<style>#sk-container-id-7 {color: black;background-color: white;}#sk-container-id-7 pre{padding: 0;}#sk-container-id-7 div.sk-toggleable {background-color: white;}#sk-container-id-7 label.sk-toggleable__label {cursor: pointer;display: block;width: 100%;margin-bottom: 0;padding: 0.3em;box-sizing: border-box;text-align: center;}#sk-container-id-7 label.sk-toggleable__label-arrow:before {content: \"▸\";float: left;margin-right: 0.25em;color: #696969;}#sk-container-id-7 label.sk-toggleable__label-arrow:hover:before {color: black;}#sk-container-id-7 div.sk-estimator:hover label.sk-toggleable__label-arrow:before {color: black;}#sk-container-id-7 div.sk-toggleable__content {max-height: 0;max-width: 0;overflow: hidden;text-align: left;background-color: #f0f8ff;}#sk-container-id-7 div.sk-toggleable__content pre {margin: 0.2em;color: black;border-radius: 0.25em;background-color: #f0f8ff;}#sk-container-id-7 input.sk-toggleable__control:checked~div.sk-toggleable__content {max-height: 200px;max-width: 100%;overflow: auto;}#sk-container-id-7 input.sk-toggleable__control:checked~label.sk-toggleable__label-arrow:before {content: \"▾\";}#sk-container-id-7 div.sk-estimator input.sk-toggleable__control:checked~label.sk-toggleable__label {background-color: #d4ebff;}#sk-container-id-7 div.sk-label input.sk-toggleable__control:checked~label.sk-toggleable__label {background-color: #d4ebff;}#sk-container-id-7 input.sk-hidden--visually {border: 0;clip: rect(1px 1px 1px 1px);clip: rect(1px, 1px, 1px, 1px);height: 1px;margin: -1px;overflow: hidden;padding: 0;position: absolute;width: 1px;}#sk-container-id-7 div.sk-estimator {font-family: monospace;background-color: #f0f8ff;border: 1px dotted black;border-radius: 0.25em;box-sizing: border-box;margin-bottom: 0.5em;}#sk-container-id-7 div.sk-estimator:hover {background-color: #d4ebff;}#sk-container-id-7 div.sk-parallel-item::after {content: \"\";width: 100%;border-bottom: 1px solid gray;flex-grow: 1;}#sk-container-id-7 div.sk-label:hover label.sk-toggleable__label {background-color: #d4ebff;}#sk-container-id-7 div.sk-serial::before {content: \"\";position: absolute;border-left: 1px solid gray;box-sizing: border-box;top: 0;bottom: 0;left: 50%;z-index: 0;}#sk-container-id-7 div.sk-serial {display: flex;flex-direction: column;align-items: center;background-color: white;padding-right: 0.2em;padding-left: 0.2em;position: relative;}#sk-container-id-7 div.sk-item {position: relative;z-index: 1;}#sk-container-id-7 div.sk-parallel {display: flex;align-items: stretch;justify-content: center;background-color: white;position: relative;}#sk-container-id-7 div.sk-item::before, #sk-container-id-7 div.sk-parallel-item::before {content: \"\";position: absolute;border-left: 1px solid gray;box-sizing: border-box;top: 0;bottom: 0;left: 50%;z-index: -1;}#sk-container-id-7 div.sk-parallel-item {display: flex;flex-direction: column;z-index: 1;position: relative;background-color: white;}#sk-container-id-7 div.sk-parallel-item:first-child::after {align-self: flex-end;width: 50%;}#sk-container-id-7 div.sk-parallel-item:last-child::after {align-self: flex-start;width: 50%;}#sk-container-id-7 div.sk-parallel-item:only-child::after {width: 0;}#sk-container-id-7 div.sk-dashed-wrapped {border: 1px dashed gray;margin: 0 0.4em 0.5em 0.4em;box-sizing: border-box;padding-bottom: 0.4em;background-color: white;}#sk-container-id-7 div.sk-label label {font-family: monospace;font-weight: bold;display: inline-block;line-height: 1.2em;}#sk-container-id-7 div.sk-label-container {text-align: center;}#sk-container-id-7 div.sk-container {/* jupyter's `normalize.less` sets `[hidden] { display: none; }` but bootstrap.min.css set `[hidden] { display: none !important; }` so we also need the `!important` here to be able to override the default hidden behavior on the sphinx rendered scikit-learn.org. See: https://github.com/scikit-learn/scikit-learn/issues/21755 */display: inline-block !important;position: relative;}#sk-container-id-7 div.sk-text-repr-fallback {display: none;}</style><div id=\"sk-container-id-7\" class=\"sk-top-container\"><div class=\"sk-text-repr-fallback\"><pre>RandomizedSearchCV(cv=10,\n",
              "                   estimator=XGBRegressor(base_score=None, booster=None,\n",
              "                                          callbacks=None,\n",
              "                                          colsample_bylevel=None,\n",
              "                                          colsample_bynode=None,\n",
              "                                          colsample_bytree=None,\n",
              "                                          early_stopping_rounds=None,\n",
              "                                          enable_categorical=False,\n",
              "                                          eval_metric=None, feature_types=None,\n",
              "                                          gamma=None, gpu_id=None,\n",
              "                                          grow_policy=None,\n",
              "                                          importance_type=None,\n",
              "                                          interaction_constraints=None,\n",
              "                                          learning_rate...\n",
              "                                        &#x27;learning_rate&#x27;: [0.001, 0.005, 0.01,\n",
              "                                                          0.05, 0.1, 0.3, 0.5,\n",
              "                                                          0.8, 1],\n",
              "                                        &#x27;max_delta_step&#x27;: [0, 1, 2, 5, 10],\n",
              "                                        &#x27;max_depth&#x27;: [2, 3, 4, 5, 6, 7, 8],\n",
              "                                        &#x27;min_child_weight&#x27;: [1, 2, 5, 10, 15],\n",
              "                                        &#x27;n_estimators&#x27;: [100, 500, 700, 1000],\n",
              "                                        &#x27;reg_alpha&#x27;: [1e-05, 0.01, 0.1, 1, 100],\n",
              "                                        &#x27;reg_lambda&#x27;: [1e-05, 0.01, 0.1, 1,\n",
              "                                                       100],\n",
              "                                        &#x27;scale_pos_weight&#x27;: [1, 2, 3, 4, 5, 6,\n",
              "                                                             7, 8, 9],\n",
              "                                        &#x27;subsample&#x27;: [0.5, 0.6, 0.7, 0.8, 0.9]},\n",
              "                   scoring=&#x27;neg_mean_absolute_error&#x27;)</pre><b>In a Jupyter environment, please rerun this cell to show the HTML representation or trust the notebook. <br />On GitHub, the HTML representation is unable to render, please try loading this page with nbviewer.org.</b></div><div class=\"sk-container\" hidden><div class=\"sk-item sk-dashed-wrapped\"><div class=\"sk-label-container\"><div class=\"sk-label sk-toggleable\"><input class=\"sk-toggleable__control sk-hidden--visually\" id=\"sk-estimator-id-17\" type=\"checkbox\" ><label for=\"sk-estimator-id-17\" class=\"sk-toggleable__label sk-toggleable__label-arrow\">RandomizedSearchCV</label><div class=\"sk-toggleable__content\"><pre>RandomizedSearchCV(cv=10,\n",
              "                   estimator=XGBRegressor(base_score=None, booster=None,\n",
              "                                          callbacks=None,\n",
              "                                          colsample_bylevel=None,\n",
              "                                          colsample_bynode=None,\n",
              "                                          colsample_bytree=None,\n",
              "                                          early_stopping_rounds=None,\n",
              "                                          enable_categorical=False,\n",
              "                                          eval_metric=None, feature_types=None,\n",
              "                                          gamma=None, gpu_id=None,\n",
              "                                          grow_policy=None,\n",
              "                                          importance_type=None,\n",
              "                                          interaction_constraints=None,\n",
              "                                          learning_rate...\n",
              "                                        &#x27;learning_rate&#x27;: [0.001, 0.005, 0.01,\n",
              "                                                          0.05, 0.1, 0.3, 0.5,\n",
              "                                                          0.8, 1],\n",
              "                                        &#x27;max_delta_step&#x27;: [0, 1, 2, 5, 10],\n",
              "                                        &#x27;max_depth&#x27;: [2, 3, 4, 5, 6, 7, 8],\n",
              "                                        &#x27;min_child_weight&#x27;: [1, 2, 5, 10, 15],\n",
              "                                        &#x27;n_estimators&#x27;: [100, 500, 700, 1000],\n",
              "                                        &#x27;reg_alpha&#x27;: [1e-05, 0.01, 0.1, 1, 100],\n",
              "                                        &#x27;reg_lambda&#x27;: [1e-05, 0.01, 0.1, 1,\n",
              "                                                       100],\n",
              "                                        &#x27;scale_pos_weight&#x27;: [1, 2, 3, 4, 5, 6,\n",
              "                                                             7, 8, 9],\n",
              "                                        &#x27;subsample&#x27;: [0.5, 0.6, 0.7, 0.8, 0.9]},\n",
              "                   scoring=&#x27;neg_mean_absolute_error&#x27;)</pre></div></div></div><div class=\"sk-parallel\"><div class=\"sk-parallel-item\"><div class=\"sk-item\"><div class=\"sk-label-container\"><div class=\"sk-label sk-toggleable\"><input class=\"sk-toggleable__control sk-hidden--visually\" id=\"sk-estimator-id-18\" type=\"checkbox\" ><label for=\"sk-estimator-id-18\" class=\"sk-toggleable__label sk-toggleable__label-arrow\">estimator: XGBRegressor</label><div class=\"sk-toggleable__content\"><pre>XGBRegressor(base_score=None, booster=None, callbacks=None,\n",
              "             colsample_bylevel=None, colsample_bynode=None,\n",
              "             colsample_bytree=None, early_stopping_rounds=None,\n",
              "             enable_categorical=False, eval_metric=None, feature_types=None,\n",
              "             gamma=None, gpu_id=None, grow_policy=None, importance_type=None,\n",
              "             interaction_constraints=None, learning_rate=None, max_bin=None,\n",
              "             max_cat_threshold=None, max_cat_to_onehot=None,\n",
              "             max_delta_step=None, max_depth=None, max_leaves=None,\n",
              "             min_child_weight=None, missing=nan, monotone_constraints=None,\n",
              "             n_estimators=100, n_jobs=None, num_parallel_tree=None,\n",
              "             predictor=None, random_state=None, ...)</pre></div></div></div><div class=\"sk-serial\"><div class=\"sk-item\"><div class=\"sk-estimator sk-toggleable\"><input class=\"sk-toggleable__control sk-hidden--visually\" id=\"sk-estimator-id-19\" type=\"checkbox\" ><label for=\"sk-estimator-id-19\" class=\"sk-toggleable__label sk-toggleable__label-arrow\">XGBRegressor</label><div class=\"sk-toggleable__content\"><pre>XGBRegressor(base_score=None, booster=None, callbacks=None,\n",
              "             colsample_bylevel=None, colsample_bynode=None,\n",
              "             colsample_bytree=None, early_stopping_rounds=None,\n",
              "             enable_categorical=False, eval_metric=None, feature_types=None,\n",
              "             gamma=None, gpu_id=None, grow_policy=None, importance_type=None,\n",
              "             interaction_constraints=None, learning_rate=None, max_bin=None,\n",
              "             max_cat_threshold=None, max_cat_to_onehot=None,\n",
              "             max_delta_step=None, max_depth=None, max_leaves=None,\n",
              "             min_child_weight=None, missing=nan, monotone_constraints=None,\n",
              "             n_estimators=100, n_jobs=None, num_parallel_tree=None,\n",
              "             predictor=None, random_state=None, ...)</pre></div></div></div></div></div></div></div></div></div></div>"
            ]
          },
          "metadata": {},
          "execution_count": 81
        }
      ]
    },
    {
      "cell_type": "code",
      "source": [
        "report(random_search5.cv_results_,5)"
      ],
      "metadata": {
        "colab": {
          "base_uri": "https://localhost:8080/"
        },
        "id": "0HxeFwtVJ-r6",
        "outputId": "e96f6b4f-3524-473c-d88f-b0d1b15b73a1"
      },
      "execution_count": 82,
      "outputs": [
        {
          "output_type": "stream",
          "name": "stdout",
          "text": [
            "Model with rank 1\n",
            "Mean validation score: -747.512    Std:28.95302\n",
            "Parameters: {'subsample': 0.7, 'scale_pos_weight': 6, 'reg_lambda': 1e-05, 'reg_alpha': 0.1, 'n_estimators': 500, 'min_child_weight': 15, 'max_depth': 5, 'max_delta_step': 0, 'learning_rate': 0.005, 'gamma': 0.1, 'cosample_bytree': 0.8, 'cosample_bylevel': 0.5}\n",
            "\n",
            "Model with rank 2\n",
            "Mean validation score: -781.988    Std:21.15817\n",
            "Parameters: {'subsample': 0.7, 'scale_pos_weight': 1, 'reg_lambda': 0.1, 'reg_alpha': 1e-05, 'n_estimators': 700, 'min_child_weight': 15, 'max_depth': 5, 'max_delta_step': 10, 'learning_rate': 1, 'gamma': 0.0, 'cosample_bytree': 0.5, 'cosample_bylevel': 0.5}\n",
            "\n",
            "Model with rank 3\n",
            "Mean validation score: -810.079    Std:19.16117\n",
            "Parameters: {'subsample': 0.6, 'scale_pos_weight': 3, 'reg_lambda': 0.1, 'reg_alpha': 0.01, 'n_estimators': 1000, 'min_child_weight': 5, 'max_depth': 8, 'max_delta_step': 10, 'learning_rate': 0.8, 'gamma': 0.0, 'cosample_bytree': 0.6, 'cosample_bylevel': 0.9}\n",
            "\n",
            "Model with rank 4\n",
            "Mean validation score: -846.859    Std:39.94245\n",
            "Parameters: {'subsample': 0.6, 'scale_pos_weight': 4, 'reg_lambda': 0.1, 'reg_alpha': 0.01, 'n_estimators': 700, 'min_child_weight': 10, 'max_depth': 6, 'max_delta_step': 5, 'learning_rate': 0.8, 'gamma': 0.4, 'cosample_bytree': 0.9, 'cosample_bylevel': 0.5}\n",
            "\n",
            "Model with rank 5\n",
            "Mean validation score: -887.847    Std:42.31196\n",
            "Parameters: {'subsample': 0.9, 'scale_pos_weight': 1, 'reg_lambda': 0.01, 'reg_alpha': 1e-05, 'n_estimators': 1000, 'min_child_weight': 5, 'max_depth': 3, 'max_delta_step': 0, 'learning_rate': 0.3, 'gamma': 0.3, 'cosample_bytree': 0.7, 'cosample_bylevel': 0.6}\n",
            "\n"
          ]
        }
      ]
    },
    {
      "cell_type": "code",
      "source": [
        "xgb5=random_search5.best_estimator_\n",
        "xgb5.fit(x_train1,y_train1)\n",
        "predictions=xgb5.predict(x_test1)"
      ],
      "metadata": {
        "colab": {
          "base_uri": "https://localhost:8080/"
        },
        "id": "6v4UkYGmJ-ow",
        "outputId": "15737083-fd76-435e-a7cd-11f6ac83e6f3"
      },
      "execution_count": 83,
      "outputs": [
        {
          "output_type": "stream",
          "name": "stdout",
          "text": [
            "[07:45:41] WARNING: ../src/learner.cc:767: \n",
            "Parameters: { \"cosample_bylevel\", \"cosample_bytree\" } are not used.\n",
            "\n"
          ]
        }
      ]
    },
    {
      "cell_type": "code",
      "source": [
        "err=mean_absolute_error(y_test1,predictions)\n",
        "model_errors.append([\"XGBRegressor\",err])\n",
        "err"
      ],
      "metadata": {
        "colab": {
          "base_uri": "https://localhost:8080/"
        },
        "id": "OEtxY3OSJ-lp",
        "outputId": "d39922de-2a21-4537-f4bf-40da423a5424"
      },
      "execution_count": 84,
      "outputs": [
        {
          "output_type": "execute_result",
          "data": {
            "text/plain": [
              "761.1166097767581"
            ]
          },
          "metadata": {},
          "execution_count": 84
        }
      ]
    },
    {
      "cell_type": "code",
      "source": [
        "xgb5.fit(x_train2,y_train2)\n",
        "predictions=xgb5.predict(df_test)\n",
        "pd.DataFrame(predictions).to_csv(\"xgboosting_pred.csv\",index=False)"
      ],
      "metadata": {
        "colab": {
          "base_uri": "https://localhost:8080/"
        },
        "id": "hsFwO5bpJ-ig",
        "outputId": "0a32b891-2c96-4f5d-8368-481829ee2870"
      },
      "execution_count": 85,
      "outputs": [
        {
          "output_type": "stream",
          "name": "stdout",
          "text": [
            "[07:45:57] WARNING: ../src/learner.cc:767: \n",
            "Parameters: { \"cosample_bylevel\", \"cosample_bytree\" } are not used.\n",
            "\n"
          ]
        }
      ]
    },
    {
      "cell_type": "markdown",
      "source": [
        "6. Neural Network"
      ],
      "metadata": {
        "id": "CRQIESVKLxKw"
      }
    },
    {
      "cell_type": "code",
      "source": [
        "from sklearn.neural_network import MLPRegressor\n",
        "nn6=MLPRegressor()"
      ],
      "metadata": {
        "id": "tfR0sRX0J-fh"
      },
      "execution_count": 86,
      "outputs": []
    },
    {
      "cell_type": "code",
      "source": [
        "params6={\"learning_rate\":[\"constant\",\"invscaling\",\"adaptive\"],\n",
        "        \"hidden_layer_sizes\":[[5,10,5],[10,20],[5,10,15],[10,15,5],[20,10,5],[20,10,15],[20,10]],\n",
        "        \"alpha\":[0.3,0.1,0.03,0.01],\n",
        "        \"activation\":[\"logistic\",\"relu\",\"tanh\"]}"
      ],
      "metadata": {
        "id": "w0Z2FnEFJ-aV"
      },
      "execution_count": 87,
      "outputs": []
    },
    {
      "cell_type": "code",
      "source": [
        "random_search6=RandomizedSearchCV(nn6,param_distributions=params6,cv=10,n_iter=15,scoring=\"neg_mean_absolute_error\",random_state=2,n_jobs=-1,verbose=20)\n",
        "random_search6.fit(x_train1,y_train1)"
      ],
      "metadata": {
        "colab": {
          "base_uri": "https://localhost:8080/",
          "height": 189
        },
        "id": "HibcpoFrJ-Uq",
        "outputId": "2bd0a5eb-abe0-4d74-fd6f-37b2cd6c5cad"
      },
      "execution_count": 88,
      "outputs": [
        {
          "output_type": "stream",
          "name": "stdout",
          "text": [
            "Fitting 10 folds for each of 15 candidates, totalling 150 fits\n"
          ]
        },
        {
          "output_type": "stream",
          "name": "stderr",
          "text": [
            "/usr/local/lib/python3.10/dist-packages/sklearn/neural_network/_multilayer_perceptron.py:686: ConvergenceWarning: Stochastic Optimizer: Maximum iterations (200) reached and the optimization hasn't converged yet.\n",
            "  warnings.warn(\n"
          ]
        },
        {
          "output_type": "execute_result",
          "data": {
            "text/plain": [
              "RandomizedSearchCV(cv=10, estimator=MLPRegressor(), n_iter=15, n_jobs=-1,\n",
              "                   param_distributions={'activation': ['logistic', 'relu',\n",
              "                                                       'tanh'],\n",
              "                                        'alpha': [0.3, 0.1, 0.03, 0.01],\n",
              "                                        'hidden_layer_sizes': [[5, 10, 5],\n",
              "                                                               [10, 20],\n",
              "                                                               [5, 10, 15],\n",
              "                                                               [10, 15, 5],\n",
              "                                                               [20, 10, 5],\n",
              "                                                               [20, 10, 15],\n",
              "                                                               [20, 10]],\n",
              "                                        'learning_rate': ['constant',\n",
              "                                                          'invscaling',\n",
              "                                                          'adaptive']},\n",
              "                   random_state=2, scoring='neg_mean_absolute_error',\n",
              "                   verbose=20)"
            ],
            "text/html": [
              "<style>#sk-container-id-8 {color: black;background-color: white;}#sk-container-id-8 pre{padding: 0;}#sk-container-id-8 div.sk-toggleable {background-color: white;}#sk-container-id-8 label.sk-toggleable__label {cursor: pointer;display: block;width: 100%;margin-bottom: 0;padding: 0.3em;box-sizing: border-box;text-align: center;}#sk-container-id-8 label.sk-toggleable__label-arrow:before {content: \"▸\";float: left;margin-right: 0.25em;color: #696969;}#sk-container-id-8 label.sk-toggleable__label-arrow:hover:before {color: black;}#sk-container-id-8 div.sk-estimator:hover label.sk-toggleable__label-arrow:before {color: black;}#sk-container-id-8 div.sk-toggleable__content {max-height: 0;max-width: 0;overflow: hidden;text-align: left;background-color: #f0f8ff;}#sk-container-id-8 div.sk-toggleable__content pre {margin: 0.2em;color: black;border-radius: 0.25em;background-color: #f0f8ff;}#sk-container-id-8 input.sk-toggleable__control:checked~div.sk-toggleable__content {max-height: 200px;max-width: 100%;overflow: auto;}#sk-container-id-8 input.sk-toggleable__control:checked~label.sk-toggleable__label-arrow:before {content: \"▾\";}#sk-container-id-8 div.sk-estimator input.sk-toggleable__control:checked~label.sk-toggleable__label {background-color: #d4ebff;}#sk-container-id-8 div.sk-label input.sk-toggleable__control:checked~label.sk-toggleable__label {background-color: #d4ebff;}#sk-container-id-8 input.sk-hidden--visually {border: 0;clip: rect(1px 1px 1px 1px);clip: rect(1px, 1px, 1px, 1px);height: 1px;margin: -1px;overflow: hidden;padding: 0;position: absolute;width: 1px;}#sk-container-id-8 div.sk-estimator {font-family: monospace;background-color: #f0f8ff;border: 1px dotted black;border-radius: 0.25em;box-sizing: border-box;margin-bottom: 0.5em;}#sk-container-id-8 div.sk-estimator:hover {background-color: #d4ebff;}#sk-container-id-8 div.sk-parallel-item::after {content: \"\";width: 100%;border-bottom: 1px solid gray;flex-grow: 1;}#sk-container-id-8 div.sk-label:hover label.sk-toggleable__label {background-color: #d4ebff;}#sk-container-id-8 div.sk-serial::before {content: \"\";position: absolute;border-left: 1px solid gray;box-sizing: border-box;top: 0;bottom: 0;left: 50%;z-index: 0;}#sk-container-id-8 div.sk-serial {display: flex;flex-direction: column;align-items: center;background-color: white;padding-right: 0.2em;padding-left: 0.2em;position: relative;}#sk-container-id-8 div.sk-item {position: relative;z-index: 1;}#sk-container-id-8 div.sk-parallel {display: flex;align-items: stretch;justify-content: center;background-color: white;position: relative;}#sk-container-id-8 div.sk-item::before, #sk-container-id-8 div.sk-parallel-item::before {content: \"\";position: absolute;border-left: 1px solid gray;box-sizing: border-box;top: 0;bottom: 0;left: 50%;z-index: -1;}#sk-container-id-8 div.sk-parallel-item {display: flex;flex-direction: column;z-index: 1;position: relative;background-color: white;}#sk-container-id-8 div.sk-parallel-item:first-child::after {align-self: flex-end;width: 50%;}#sk-container-id-8 div.sk-parallel-item:last-child::after {align-self: flex-start;width: 50%;}#sk-container-id-8 div.sk-parallel-item:only-child::after {width: 0;}#sk-container-id-8 div.sk-dashed-wrapped {border: 1px dashed gray;margin: 0 0.4em 0.5em 0.4em;box-sizing: border-box;padding-bottom: 0.4em;background-color: white;}#sk-container-id-8 div.sk-label label {font-family: monospace;font-weight: bold;display: inline-block;line-height: 1.2em;}#sk-container-id-8 div.sk-label-container {text-align: center;}#sk-container-id-8 div.sk-container {/* jupyter's `normalize.less` sets `[hidden] { display: none; }` but bootstrap.min.css set `[hidden] { display: none !important; }` so we also need the `!important` here to be able to override the default hidden behavior on the sphinx rendered scikit-learn.org. See: https://github.com/scikit-learn/scikit-learn/issues/21755 */display: inline-block !important;position: relative;}#sk-container-id-8 div.sk-text-repr-fallback {display: none;}</style><div id=\"sk-container-id-8\" class=\"sk-top-container\"><div class=\"sk-text-repr-fallback\"><pre>RandomizedSearchCV(cv=10, estimator=MLPRegressor(), n_iter=15, n_jobs=-1,\n",
              "                   param_distributions={&#x27;activation&#x27;: [&#x27;logistic&#x27;, &#x27;relu&#x27;,\n",
              "                                                       &#x27;tanh&#x27;],\n",
              "                                        &#x27;alpha&#x27;: [0.3, 0.1, 0.03, 0.01],\n",
              "                                        &#x27;hidden_layer_sizes&#x27;: [[5, 10, 5],\n",
              "                                                               [10, 20],\n",
              "                                                               [5, 10, 15],\n",
              "                                                               [10, 15, 5],\n",
              "                                                               [20, 10, 5],\n",
              "                                                               [20, 10, 15],\n",
              "                                                               [20, 10]],\n",
              "                                        &#x27;learning_rate&#x27;: [&#x27;constant&#x27;,\n",
              "                                                          &#x27;invscaling&#x27;,\n",
              "                                                          &#x27;adaptive&#x27;]},\n",
              "                   random_state=2, scoring=&#x27;neg_mean_absolute_error&#x27;,\n",
              "                   verbose=20)</pre><b>In a Jupyter environment, please rerun this cell to show the HTML representation or trust the notebook. <br />On GitHub, the HTML representation is unable to render, please try loading this page with nbviewer.org.</b></div><div class=\"sk-container\" hidden><div class=\"sk-item sk-dashed-wrapped\"><div class=\"sk-label-container\"><div class=\"sk-label sk-toggleable\"><input class=\"sk-toggleable__control sk-hidden--visually\" id=\"sk-estimator-id-20\" type=\"checkbox\" ><label for=\"sk-estimator-id-20\" class=\"sk-toggleable__label sk-toggleable__label-arrow\">RandomizedSearchCV</label><div class=\"sk-toggleable__content\"><pre>RandomizedSearchCV(cv=10, estimator=MLPRegressor(), n_iter=15, n_jobs=-1,\n",
              "                   param_distributions={&#x27;activation&#x27;: [&#x27;logistic&#x27;, &#x27;relu&#x27;,\n",
              "                                                       &#x27;tanh&#x27;],\n",
              "                                        &#x27;alpha&#x27;: [0.3, 0.1, 0.03, 0.01],\n",
              "                                        &#x27;hidden_layer_sizes&#x27;: [[5, 10, 5],\n",
              "                                                               [10, 20],\n",
              "                                                               [5, 10, 15],\n",
              "                                                               [10, 15, 5],\n",
              "                                                               [20, 10, 5],\n",
              "                                                               [20, 10, 15],\n",
              "                                                               [20, 10]],\n",
              "                                        &#x27;learning_rate&#x27;: [&#x27;constant&#x27;,\n",
              "                                                          &#x27;invscaling&#x27;,\n",
              "                                                          &#x27;adaptive&#x27;]},\n",
              "                   random_state=2, scoring=&#x27;neg_mean_absolute_error&#x27;,\n",
              "                   verbose=20)</pre></div></div></div><div class=\"sk-parallel\"><div class=\"sk-parallel-item\"><div class=\"sk-item\"><div class=\"sk-label-container\"><div class=\"sk-label sk-toggleable\"><input class=\"sk-toggleable__control sk-hidden--visually\" id=\"sk-estimator-id-21\" type=\"checkbox\" ><label for=\"sk-estimator-id-21\" class=\"sk-toggleable__label sk-toggleable__label-arrow\">estimator: MLPRegressor</label><div class=\"sk-toggleable__content\"><pre>MLPRegressor()</pre></div></div></div><div class=\"sk-serial\"><div class=\"sk-item\"><div class=\"sk-estimator sk-toggleable\"><input class=\"sk-toggleable__control sk-hidden--visually\" id=\"sk-estimator-id-22\" type=\"checkbox\" ><label for=\"sk-estimator-id-22\" class=\"sk-toggleable__label sk-toggleable__label-arrow\">MLPRegressor</label><div class=\"sk-toggleable__content\"><pre>MLPRegressor()</pre></div></div></div></div></div></div></div></div></div></div>"
            ]
          },
          "metadata": {},
          "execution_count": 88
        }
      ]
    },
    {
      "cell_type": "code",
      "source": [
        "report(random_search6.cv_results_,5)"
      ],
      "metadata": {
        "colab": {
          "base_uri": "https://localhost:8080/"
        },
        "id": "ezlaY6naJ-OG",
        "outputId": "8ce061b8-e427-48f0-da5f-d208006a9a9e"
      },
      "execution_count": 89,
      "outputs": [
        {
          "output_type": "stream",
          "name": "stdout",
          "text": [
            "Model with rank 1\n",
            "Mean validation score: -783.987    Std:33.69942\n",
            "Parameters: {'learning_rate': 'invscaling', 'hidden_layer_sizes': [20, 10, 5], 'alpha': 0.03, 'activation': 'relu'}\n",
            "\n",
            "Model with rank 2\n",
            "Mean validation score: -784.593    Std:29.09364\n",
            "Parameters: {'learning_rate': 'invscaling', 'hidden_layer_sizes': [5, 10, 15], 'alpha': 0.3, 'activation': 'relu'}\n",
            "\n",
            "Model with rank 3\n",
            "Mean validation score: -826.594    Std:32.13446\n",
            "Parameters: {'learning_rate': 'adaptive', 'hidden_layer_sizes': [10, 20], 'alpha': 0.3, 'activation': 'relu'}\n",
            "\n",
            "Model with rank 4\n",
            "Mean validation score: -836.748    Std:33.72429\n",
            "Parameters: {'learning_rate': 'invscaling', 'hidden_layer_sizes': [10, 20], 'alpha': 0.03, 'activation': 'relu'}\n",
            "\n",
            "Model with rank 5\n",
            "Mean validation score: -871.319    Std:69.11048\n",
            "Parameters: {'learning_rate': 'constant', 'hidden_layer_sizes': [5, 10, 5], 'alpha': 0.03, 'activation': 'relu'}\n",
            "\n"
          ]
        }
      ]
    },
    {
      "cell_type": "code",
      "source": [
        "nn6=random_search6.best_estimator_\n",
        "random_search6.fit(x_train1,y_train1)\n",
        "predictions=random_search6.predict(x_test1)"
      ],
      "metadata": {
        "colab": {
          "base_uri": "https://localhost:8080/"
        },
        "id": "yY9Pg0SJJ-IN",
        "outputId": "8b3c4c28-03fd-44d3-bf36-6da3a2bd712a"
      },
      "execution_count": 90,
      "outputs": [
        {
          "output_type": "stream",
          "name": "stdout",
          "text": [
            "Fitting 10 folds for each of 15 candidates, totalling 150 fits\n"
          ]
        },
        {
          "output_type": "stream",
          "name": "stderr",
          "text": [
            "/usr/local/lib/python3.10/dist-packages/sklearn/neural_network/_multilayer_perceptron.py:686: ConvergenceWarning: Stochastic Optimizer: Maximum iterations (200) reached and the optimization hasn't converged yet.\n",
            "  warnings.warn(\n"
          ]
        }
      ]
    },
    {
      "cell_type": "code",
      "source": [
        "err=mean_absolute_error(y_test1,predictions)\n",
        "model_errors.append([\"NN_MLPRegressor\",err])\n",
        "err"
      ],
      "metadata": {
        "colab": {
          "base_uri": "https://localhost:8080/"
        },
        "id": "zCUe0G94J-Br",
        "outputId": "c9e45213-2759-45a8-c377-29ef9e24d6ae"
      },
      "execution_count": 91,
      "outputs": [
        {
          "output_type": "execute_result",
          "data": {
            "text/plain": [
              "782.2175447129722"
            ]
          },
          "metadata": {},
          "execution_count": 91
        }
      ]
    },
    {
      "cell_type": "code",
      "source": [
        "nn6.fit(x_train2,y_train2)\n",
        "predictions=nn6.predict(df_test)\n",
        "pd.DataFrame(predictions).to_csv(\"neural_network_pred.csv\",index=False)"
      ],
      "metadata": {
        "id": "O5e2ySHIJ97C"
      },
      "execution_count": 92,
      "outputs": []
    },
    {
      "cell_type": "markdown",
      "source": [
        "7. K-Nearest Neighbours"
      ],
      "metadata": {
        "id": "XzI0GkzXPDcm"
      }
    },
    {
      "cell_type": "code",
      "source": [
        "from sklearn.neighbors import KNeighborsRegressor\n",
        "n=np.arange(5,21)\n",
        "err=np.inf\n",
        "for i in n:\n",
        "    knn7=KNeighborsRegressor(n_neighbors=i)\n",
        "    knn7.fit(x_train1,y_train1)\n",
        "    predictions=knn7.predict(x_test1)\n",
        "    error=mean_absolute_error(y_test1,predictions)\n",
        "    if error<err:\n",
        "        err=error\n",
        "        n_minm=i\n",
        "model_errors.append([\"KNeighborsRegressor\",err])\n",
        "print(n_minm)\n",
        "print(err)"
      ],
      "metadata": {
        "colab": {
          "base_uri": "https://localhost:8080/"
        },
        "id": "2wgMPGePJ91q",
        "outputId": "70244a81-afe3-4cf1-f05a-c4c6b9953726"
      },
      "execution_count": 93,
      "outputs": [
        {
          "output_type": "stream",
          "name": "stdout",
          "text": [
            "7\n",
            "870.382600209468\n"
          ]
        }
      ]
    },
    {
      "cell_type": "code",
      "source": [
        "knn7=KNeighborsRegressor(n_neighbors=n_minm)\n",
        "knn7.fit(x_train2,y_train2)\n",
        "predictions=knn7.predict(df_test)\n",
        "pd.DataFrame(predictions).to_csv(\"KNN_pred.csv\",index=False)"
      ],
      "metadata": {
        "id": "7lr-wZGJJ9ul"
      },
      "execution_count": 94,
      "outputs": []
    },
    {
      "cell_type": "markdown",
      "source": [
        "8. Support Vector Machines (SVM)"
      ],
      "metadata": {
        "id": "G8HSQrvsPTnK"
      }
    },
    {
      "cell_type": "code",
      "source": [
        "from sklearn.svm import SVR\n",
        "svm8=SVR()\n",
        "svm8.fit(x_train1,y_train1)\n",
        "predictions=svm8.predict(x_test1)\n",
        "err=mean_absolute_error(y_test1,predictions)\n",
        "model_errors.append([\"SVR\",err])\n",
        "err"
      ],
      "metadata": {
        "colab": {
          "base_uri": "https://localhost:8080/"
        },
        "id": "IaM-_QJkPJnf",
        "outputId": "ae73b1d5-ea9c-4147-ead0-48e67f940176"
      },
      "execution_count": 95,
      "outputs": [
        {
          "output_type": "execute_result",
          "data": {
            "text/plain": [
              "1142.615914859076"
            ]
          },
          "metadata": {},
          "execution_count": 95
        }
      ]
    },
    {
      "cell_type": "code",
      "source": [
        "svm8.fit(x_train2,y_train2)\n",
        "predictions=svm8.predict(df_test)\n",
        "pd.DataFrame(predictions).to_csv(\"support_vector_pred.csv\",index=False)"
      ],
      "metadata": {
        "id": "EcJQ7JU7PNfk"
      },
      "execution_count": 96,
      "outputs": []
    },
    {
      "cell_type": "markdown",
      "source": [
        "**# Stacking**"
      ],
      "metadata": {
        "id": "2YhV238oPkMe"
      }
    },
    {
      "cell_type": "code",
      "source": [
        "clf1=KNeighborsRegressor(n_neighbors=10)\n",
        "clf2=RandomForestRegressor(n_estimators=500)\n",
        "clf3=RandomForestRegressor(n_estimators=700)\n",
        "clf4=DecisionTreeRegressor()\n",
        "clf5=XGBRegressor(n_estimators=700,objective=\"reg:squarederror\",learning_rate=0.01)\n",
        "clf6=XGBRegressor(n_estimators=500,objective=\"reg:squarederror\",learning_rate=0.05)\n",
        "clf7=MLPRegressor()\n",
        "Algos={clf1,clf2,clf3,clf4,clf5,clf6,clf7}"
      ],
      "metadata": {
        "id": "EwO_nQy9PO-H"
      },
      "execution_count": 97,
      "outputs": []
    },
    {
      "cell_type": "code",
      "source": [
        "rows=x_train1.shape[0]"
      ],
      "metadata": {
        "id": "Ynhk0i7GPO3T"
      },
      "execution_count": 98,
      "outputs": []
    },
    {
      "cell_type": "code",
      "source": [
        "layer1=pd.DataFrame({\"clf1\":np.zeros(rows),\"clf2\":np.zeros(rows),\"clf3\":np.zeros(rows),\n",
        "                   \"clf4\":np.zeros(rows),\"clf5\":np.zeros(rows),\"clf6\":np.zeros(rows),\"clf7\":np.zeros(rows)})\n",
        "layer1.head()"
      ],
      "metadata": {
        "colab": {
          "base_uri": "https://localhost:8080/",
          "height": 206
        },
        "id": "g2MovxY5POwl",
        "outputId": "ea8cb474-749e-4f27-b8d9-9446b8398068"
      },
      "execution_count": 99,
      "outputs": [
        {
          "output_type": "execute_result",
          "data": {
            "text/plain": [
              "   clf1  clf2  clf3  clf4  clf5  clf6  clf7\n",
              "0   0.0   0.0   0.0   0.0   0.0   0.0   0.0\n",
              "1   0.0   0.0   0.0   0.0   0.0   0.0   0.0\n",
              "2   0.0   0.0   0.0   0.0   0.0   0.0   0.0\n",
              "3   0.0   0.0   0.0   0.0   0.0   0.0   0.0\n",
              "4   0.0   0.0   0.0   0.0   0.0   0.0   0.0"
            ],
            "text/html": [
              "\n",
              "  <div id=\"df-751bfb2e-47e0-4efc-a9d2-26b1d44f5515\">\n",
              "    <div class=\"colab-df-container\">\n",
              "      <div>\n",
              "<style scoped>\n",
              "    .dataframe tbody tr th:only-of-type {\n",
              "        vertical-align: middle;\n",
              "    }\n",
              "\n",
              "    .dataframe tbody tr th {\n",
              "        vertical-align: top;\n",
              "    }\n",
              "\n",
              "    .dataframe thead th {\n",
              "        text-align: right;\n",
              "    }\n",
              "</style>\n",
              "<table border=\"1\" class=\"dataframe\">\n",
              "  <thead>\n",
              "    <tr style=\"text-align: right;\">\n",
              "      <th></th>\n",
              "      <th>clf1</th>\n",
              "      <th>clf2</th>\n",
              "      <th>clf3</th>\n",
              "      <th>clf4</th>\n",
              "      <th>clf5</th>\n",
              "      <th>clf6</th>\n",
              "      <th>clf7</th>\n",
              "    </tr>\n",
              "  </thead>\n",
              "  <tbody>\n",
              "    <tr>\n",
              "      <th>0</th>\n",
              "      <td>0.0</td>\n",
              "      <td>0.0</td>\n",
              "      <td>0.0</td>\n",
              "      <td>0.0</td>\n",
              "      <td>0.0</td>\n",
              "      <td>0.0</td>\n",
              "      <td>0.0</td>\n",
              "    </tr>\n",
              "    <tr>\n",
              "      <th>1</th>\n",
              "      <td>0.0</td>\n",
              "      <td>0.0</td>\n",
              "      <td>0.0</td>\n",
              "      <td>0.0</td>\n",
              "      <td>0.0</td>\n",
              "      <td>0.0</td>\n",
              "      <td>0.0</td>\n",
              "    </tr>\n",
              "    <tr>\n",
              "      <th>2</th>\n",
              "      <td>0.0</td>\n",
              "      <td>0.0</td>\n",
              "      <td>0.0</td>\n",
              "      <td>0.0</td>\n",
              "      <td>0.0</td>\n",
              "      <td>0.0</td>\n",
              "      <td>0.0</td>\n",
              "    </tr>\n",
              "    <tr>\n",
              "      <th>3</th>\n",
              "      <td>0.0</td>\n",
              "      <td>0.0</td>\n",
              "      <td>0.0</td>\n",
              "      <td>0.0</td>\n",
              "      <td>0.0</td>\n",
              "      <td>0.0</td>\n",
              "      <td>0.0</td>\n",
              "    </tr>\n",
              "    <tr>\n",
              "      <th>4</th>\n",
              "      <td>0.0</td>\n",
              "      <td>0.0</td>\n",
              "      <td>0.0</td>\n",
              "      <td>0.0</td>\n",
              "      <td>0.0</td>\n",
              "      <td>0.0</td>\n",
              "      <td>0.0</td>\n",
              "    </tr>\n",
              "  </tbody>\n",
              "</table>\n",
              "</div>\n",
              "      <button class=\"colab-df-convert\" onclick=\"convertToInteractive('df-751bfb2e-47e0-4efc-a9d2-26b1d44f5515')\"\n",
              "              title=\"Convert this dataframe to an interactive table.\"\n",
              "              style=\"display:none;\">\n",
              "        \n",
              "  <svg xmlns=\"http://www.w3.org/2000/svg\" height=\"24px\"viewBox=\"0 0 24 24\"\n",
              "       width=\"24px\">\n",
              "    <path d=\"M0 0h24v24H0V0z\" fill=\"none\"/>\n",
              "    <path d=\"M18.56 5.44l.94 2.06.94-2.06 2.06-.94-2.06-.94-.94-2.06-.94 2.06-2.06.94zm-11 1L8.5 8.5l.94-2.06 2.06-.94-2.06-.94L8.5 2.5l-.94 2.06-2.06.94zm10 10l.94 2.06.94-2.06 2.06-.94-2.06-.94-.94-2.06-.94 2.06-2.06.94z\"/><path d=\"M17.41 7.96l-1.37-1.37c-.4-.4-.92-.59-1.43-.59-.52 0-1.04.2-1.43.59L10.3 9.45l-7.72 7.72c-.78.78-.78 2.05 0 2.83L4 21.41c.39.39.9.59 1.41.59.51 0 1.02-.2 1.41-.59l7.78-7.78 2.81-2.81c.8-.78.8-2.07 0-2.86zM5.41 20L4 18.59l7.72-7.72 1.47 1.35L5.41 20z\"/>\n",
              "  </svg>\n",
              "      </button>\n",
              "      \n",
              "  <style>\n",
              "    .colab-df-container {\n",
              "      display:flex;\n",
              "      flex-wrap:wrap;\n",
              "      gap: 12px;\n",
              "    }\n",
              "\n",
              "    .colab-df-convert {\n",
              "      background-color: #E8F0FE;\n",
              "      border: none;\n",
              "      border-radius: 50%;\n",
              "      cursor: pointer;\n",
              "      display: none;\n",
              "      fill: #1967D2;\n",
              "      height: 32px;\n",
              "      padding: 0 0 0 0;\n",
              "      width: 32px;\n",
              "    }\n",
              "\n",
              "    .colab-df-convert:hover {\n",
              "      background-color: #E2EBFA;\n",
              "      box-shadow: 0px 1px 2px rgba(60, 64, 67, 0.3), 0px 1px 3px 1px rgba(60, 64, 67, 0.15);\n",
              "      fill: #174EA6;\n",
              "    }\n",
              "\n",
              "    [theme=dark] .colab-df-convert {\n",
              "      background-color: #3B4455;\n",
              "      fill: #D2E3FC;\n",
              "    }\n",
              "\n",
              "    [theme=dark] .colab-df-convert:hover {\n",
              "      background-color: #434B5C;\n",
              "      box-shadow: 0px 1px 3px 1px rgba(0, 0, 0, 0.15);\n",
              "      filter: drop-shadow(0px 1px 2px rgba(0, 0, 0, 0.3));\n",
              "      fill: #FFFFFF;\n",
              "    }\n",
              "  </style>\n",
              "\n",
              "      <script>\n",
              "        const buttonEl =\n",
              "          document.querySelector('#df-751bfb2e-47e0-4efc-a9d2-26b1d44f5515 button.colab-df-convert');\n",
              "        buttonEl.style.display =\n",
              "          google.colab.kernel.accessAllowed ? 'block' : 'none';\n",
              "\n",
              "        async function convertToInteractive(key) {\n",
              "          const element = document.querySelector('#df-751bfb2e-47e0-4efc-a9d2-26b1d44f5515');\n",
              "          const dataTable =\n",
              "            await google.colab.kernel.invokeFunction('convertToInteractive',\n",
              "                                                     [key], {});\n",
              "          if (!dataTable) return;\n",
              "\n",
              "          const docLinkHtml = 'Like what you see? Visit the ' +\n",
              "            '<a target=\"_blank\" href=https://colab.research.google.com/notebooks/data_table.ipynb>data table notebook</a>'\n",
              "            + ' to learn more about interactive tables.';\n",
              "          element.innerHTML = '';\n",
              "          dataTable['output_type'] = 'display_data';\n",
              "          await google.colab.output.renderOutput(dataTable, element);\n",
              "          const docLink = document.createElement('div');\n",
              "          docLink.innerHTML = docLinkHtml;\n",
              "          element.appendChild(docLink);\n",
              "        }\n",
              "      </script>\n",
              "    </div>\n",
              "  </div>\n",
              "  "
            ]
          },
          "metadata": {},
          "execution_count": 99
        }
      ]
    },
    {
      "cell_type": "code",
      "source": [
        "kf=KFold(n_splits=10)"
      ],
      "metadata": {
        "id": "XbexCYvaPOpO"
      },
      "execution_count": 100,
      "outputs": []
    },
    {
      "cell_type": "code",
      "source": [
        "fold=1\n",
        "for train,test in kf.split(x_train1):\n",
        "    print(\"fold no:\",fold)\n",
        "    \n",
        "    for i,clf in enumerate(Algos):\n",
        "        print(\"Algo number:\",i+1)\n",
        "        x_train_train=x_train1.loc[train]\n",
        "        y_train_train=y_train1[train]\n",
        "        x_train_test=x_train1.loc[test]\n",
        "        \n",
        "        clf.fit(x_train_train,y_train_train)\n",
        "        p=clf.predict(x_train_test)\n",
        "        layer1.iloc[test,i]=p\n",
        "    fold+=1"
      ],
      "metadata": {
        "colab": {
          "base_uri": "https://localhost:8080/"
        },
        "id": "drWyrwNcPOha",
        "outputId": "34d7be47-71b4-4b5b-eca5-68c3d6a333cb"
      },
      "execution_count": 101,
      "outputs": [
        {
          "output_type": "stream",
          "name": "stdout",
          "text": [
            "fold no: 1\n",
            "Algo number: 1\n",
            "Algo number: 2\n",
            "Algo number: 3\n",
            "Algo number: 4\n",
            "Algo number: 5\n",
            "Algo number: 6\n",
            "Algo number: 7\n"
          ]
        },
        {
          "output_type": "stream",
          "name": "stderr",
          "text": [
            "/usr/local/lib/python3.10/dist-packages/sklearn/neural_network/_multilayer_perceptron.py:686: ConvergenceWarning: Stochastic Optimizer: Maximum iterations (200) reached and the optimization hasn't converged yet.\n",
            "  warnings.warn(\n"
          ]
        },
        {
          "output_type": "stream",
          "name": "stdout",
          "text": [
            "fold no: 2\n",
            "Algo number: 1\n",
            "Algo number: 2\n",
            "Algo number: 3\n",
            "Algo number: 4\n",
            "Algo number: 5\n",
            "Algo number: 6\n",
            "Algo number: 7\n"
          ]
        },
        {
          "output_type": "stream",
          "name": "stderr",
          "text": [
            "/usr/local/lib/python3.10/dist-packages/sklearn/neural_network/_multilayer_perceptron.py:686: ConvergenceWarning: Stochastic Optimizer: Maximum iterations (200) reached and the optimization hasn't converged yet.\n",
            "  warnings.warn(\n"
          ]
        },
        {
          "output_type": "stream",
          "name": "stdout",
          "text": [
            "fold no: 3\n",
            "Algo number: 1\n",
            "Algo number: 2\n",
            "Algo number: 3\n",
            "Algo number: 4\n",
            "Algo number: 5\n",
            "Algo number: 6\n",
            "Algo number: 7\n"
          ]
        },
        {
          "output_type": "stream",
          "name": "stderr",
          "text": [
            "/usr/local/lib/python3.10/dist-packages/sklearn/neural_network/_multilayer_perceptron.py:686: ConvergenceWarning: Stochastic Optimizer: Maximum iterations (200) reached and the optimization hasn't converged yet.\n",
            "  warnings.warn(\n"
          ]
        },
        {
          "output_type": "stream",
          "name": "stdout",
          "text": [
            "fold no: 4\n",
            "Algo number: 1\n",
            "Algo number: 2\n",
            "Algo number: 3\n",
            "Algo number: 4\n",
            "Algo number: 5\n",
            "Algo number: 6\n",
            "Algo number: 7\n"
          ]
        },
        {
          "output_type": "stream",
          "name": "stderr",
          "text": [
            "/usr/local/lib/python3.10/dist-packages/sklearn/neural_network/_multilayer_perceptron.py:686: ConvergenceWarning: Stochastic Optimizer: Maximum iterations (200) reached and the optimization hasn't converged yet.\n",
            "  warnings.warn(\n"
          ]
        },
        {
          "output_type": "stream",
          "name": "stdout",
          "text": [
            "fold no: 5\n",
            "Algo number: 1\n",
            "Algo number: 2\n",
            "Algo number: 3\n",
            "Algo number: 4\n",
            "Algo number: 5\n",
            "Algo number: 6\n",
            "Algo number: 7\n"
          ]
        },
        {
          "output_type": "stream",
          "name": "stderr",
          "text": [
            "/usr/local/lib/python3.10/dist-packages/sklearn/neural_network/_multilayer_perceptron.py:686: ConvergenceWarning: Stochastic Optimizer: Maximum iterations (200) reached and the optimization hasn't converged yet.\n",
            "  warnings.warn(\n"
          ]
        },
        {
          "output_type": "stream",
          "name": "stdout",
          "text": [
            "fold no: 6\n",
            "Algo number: 1\n",
            "Algo number: 2\n",
            "Algo number: 3\n",
            "Algo number: 4\n",
            "Algo number: 5\n",
            "Algo number: 6\n",
            "Algo number: 7\n"
          ]
        },
        {
          "output_type": "stream",
          "name": "stderr",
          "text": [
            "/usr/local/lib/python3.10/dist-packages/sklearn/neural_network/_multilayer_perceptron.py:686: ConvergenceWarning: Stochastic Optimizer: Maximum iterations (200) reached and the optimization hasn't converged yet.\n",
            "  warnings.warn(\n"
          ]
        },
        {
          "output_type": "stream",
          "name": "stdout",
          "text": [
            "fold no: 7\n",
            "Algo number: 1\n",
            "Algo number: 2\n",
            "Algo number: 3\n",
            "Algo number: 4\n",
            "Algo number: 5\n",
            "Algo number: 6\n",
            "Algo number: 7\n"
          ]
        },
        {
          "output_type": "stream",
          "name": "stderr",
          "text": [
            "/usr/local/lib/python3.10/dist-packages/sklearn/neural_network/_multilayer_perceptron.py:686: ConvergenceWarning: Stochastic Optimizer: Maximum iterations (200) reached and the optimization hasn't converged yet.\n",
            "  warnings.warn(\n"
          ]
        },
        {
          "output_type": "stream",
          "name": "stdout",
          "text": [
            "fold no: 8\n",
            "Algo number: 1\n",
            "Algo number: 2\n",
            "Algo number: 3\n",
            "Algo number: 4\n",
            "Algo number: 5\n",
            "Algo number: 6\n",
            "Algo number: 7\n"
          ]
        },
        {
          "output_type": "stream",
          "name": "stderr",
          "text": [
            "/usr/local/lib/python3.10/dist-packages/sklearn/neural_network/_multilayer_perceptron.py:686: ConvergenceWarning: Stochastic Optimizer: Maximum iterations (200) reached and the optimization hasn't converged yet.\n",
            "  warnings.warn(\n"
          ]
        },
        {
          "output_type": "stream",
          "name": "stdout",
          "text": [
            "fold no: 9\n",
            "Algo number: 1\n",
            "Algo number: 2\n",
            "Algo number: 3\n",
            "Algo number: 4\n",
            "Algo number: 5\n",
            "Algo number: 6\n",
            "Algo number: 7\n"
          ]
        },
        {
          "output_type": "stream",
          "name": "stderr",
          "text": [
            "/usr/local/lib/python3.10/dist-packages/sklearn/neural_network/_multilayer_perceptron.py:686: ConvergenceWarning: Stochastic Optimizer: Maximum iterations (200) reached and the optimization hasn't converged yet.\n",
            "  warnings.warn(\n"
          ]
        },
        {
          "output_type": "stream",
          "name": "stdout",
          "text": [
            "fold no: 10\n",
            "Algo number: 1\n",
            "Algo number: 2\n",
            "Algo number: 3\n",
            "Algo number: 4\n",
            "Algo number: 5\n",
            "Algo number: 6\n",
            "Algo number: 7\n"
          ]
        },
        {
          "output_type": "stream",
          "name": "stderr",
          "text": [
            "/usr/local/lib/python3.10/dist-packages/sklearn/neural_network/_multilayer_perceptron.py:686: ConvergenceWarning: Stochastic Optimizer: Maximum iterations (200) reached and the optimization hasn't converged yet.\n",
            "  warnings.warn(\n"
          ]
        }
      ]
    },
    {
      "cell_type": "code",
      "source": [
        "layer1"
      ],
      "metadata": {
        "colab": {
          "base_uri": "https://localhost:8080/",
          "height": 423
        },
        "id": "5ew5aDZZPOZk",
        "outputId": "54dcb3d0-753f-44dd-9cc9-09608debfa41"
      },
      "execution_count": 102,
      "outputs": [
        {
          "output_type": "execute_result",
          "data": {
            "text/plain": [
              "             clf1        clf2       clf3         clf4         clf5  \\\n",
              "0     2779.174794  2332.44430  3990.6192  2579.974365  2721.287598   \n",
              "1     3689.644310  3328.34794  5292.9240  3760.962158  3181.369141   \n",
              "2      667.916336  1156.77466   496.5008   644.904419   715.420715   \n",
              "3     1699.570773  1483.74904  1934.6288  1595.326660  1599.972534   \n",
              "4     4109.307371  3255.57600  6404.8100  3932.171631  4198.640625   \n",
              "...           ...         ...        ...          ...          ...   \n",
              "5449  3151.502139  2679.65900  3528.5540  3208.022705  3673.942627   \n",
              "5450  3150.358294  3330.67824  3485.9428  3468.912598  3128.451904   \n",
              "5451   824.081058   795.57816   652.2980   741.980469   796.495300   \n",
              "5452  1987.175068  1504.45542  1998.5456  2060.426758  2184.186035   \n",
              "5453  1149.219162  1184.27220  1567.7730  1129.578979  1171.626343   \n",
              "\n",
              "             clf6         clf7  \n",
              "0     2812.049525  2888.756071  \n",
              "1     3603.460305  3887.833835  \n",
              "2      657.599670  1742.238136  \n",
              "3     1678.187370  1643.645341  \n",
              "4     4082.452994  3168.117794  \n",
              "...           ...          ...  \n",
              "5449  3172.163625  2776.672439  \n",
              "5450  3242.443571  3405.145777  \n",
              "5451   792.568744   848.871583  \n",
              "5452  1987.042478  1971.275984  \n",
              "5453  1155.103502  1320.671048  \n",
              "\n",
              "[5454 rows x 7 columns]"
            ],
            "text/html": [
              "\n",
              "  <div id=\"df-892d6a36-601b-4eb0-8537-8a6bd97b4e85\">\n",
              "    <div class=\"colab-df-container\">\n",
              "      <div>\n",
              "<style scoped>\n",
              "    .dataframe tbody tr th:only-of-type {\n",
              "        vertical-align: middle;\n",
              "    }\n",
              "\n",
              "    .dataframe tbody tr th {\n",
              "        vertical-align: top;\n",
              "    }\n",
              "\n",
              "    .dataframe thead th {\n",
              "        text-align: right;\n",
              "    }\n",
              "</style>\n",
              "<table border=\"1\" class=\"dataframe\">\n",
              "  <thead>\n",
              "    <tr style=\"text-align: right;\">\n",
              "      <th></th>\n",
              "      <th>clf1</th>\n",
              "      <th>clf2</th>\n",
              "      <th>clf3</th>\n",
              "      <th>clf4</th>\n",
              "      <th>clf5</th>\n",
              "      <th>clf6</th>\n",
              "      <th>clf7</th>\n",
              "    </tr>\n",
              "  </thead>\n",
              "  <tbody>\n",
              "    <tr>\n",
              "      <th>0</th>\n",
              "      <td>2779.174794</td>\n",
              "      <td>2332.44430</td>\n",
              "      <td>3990.6192</td>\n",
              "      <td>2579.974365</td>\n",
              "      <td>2721.287598</td>\n",
              "      <td>2812.049525</td>\n",
              "      <td>2888.756071</td>\n",
              "    </tr>\n",
              "    <tr>\n",
              "      <th>1</th>\n",
              "      <td>3689.644310</td>\n",
              "      <td>3328.34794</td>\n",
              "      <td>5292.9240</td>\n",
              "      <td>3760.962158</td>\n",
              "      <td>3181.369141</td>\n",
              "      <td>3603.460305</td>\n",
              "      <td>3887.833835</td>\n",
              "    </tr>\n",
              "    <tr>\n",
              "      <th>2</th>\n",
              "      <td>667.916336</td>\n",
              "      <td>1156.77466</td>\n",
              "      <td>496.5008</td>\n",
              "      <td>644.904419</td>\n",
              "      <td>715.420715</td>\n",
              "      <td>657.599670</td>\n",
              "      <td>1742.238136</td>\n",
              "    </tr>\n",
              "    <tr>\n",
              "      <th>3</th>\n",
              "      <td>1699.570773</td>\n",
              "      <td>1483.74904</td>\n",
              "      <td>1934.6288</td>\n",
              "      <td>1595.326660</td>\n",
              "      <td>1599.972534</td>\n",
              "      <td>1678.187370</td>\n",
              "      <td>1643.645341</td>\n",
              "    </tr>\n",
              "    <tr>\n",
              "      <th>4</th>\n",
              "      <td>4109.307371</td>\n",
              "      <td>3255.57600</td>\n",
              "      <td>6404.8100</td>\n",
              "      <td>3932.171631</td>\n",
              "      <td>4198.640625</td>\n",
              "      <td>4082.452994</td>\n",
              "      <td>3168.117794</td>\n",
              "    </tr>\n",
              "    <tr>\n",
              "      <th>...</th>\n",
              "      <td>...</td>\n",
              "      <td>...</td>\n",
              "      <td>...</td>\n",
              "      <td>...</td>\n",
              "      <td>...</td>\n",
              "      <td>...</td>\n",
              "      <td>...</td>\n",
              "    </tr>\n",
              "    <tr>\n",
              "      <th>5449</th>\n",
              "      <td>3151.502139</td>\n",
              "      <td>2679.65900</td>\n",
              "      <td>3528.5540</td>\n",
              "      <td>3208.022705</td>\n",
              "      <td>3673.942627</td>\n",
              "      <td>3172.163625</td>\n",
              "      <td>2776.672439</td>\n",
              "    </tr>\n",
              "    <tr>\n",
              "      <th>5450</th>\n",
              "      <td>3150.358294</td>\n",
              "      <td>3330.67824</td>\n",
              "      <td>3485.9428</td>\n",
              "      <td>3468.912598</td>\n",
              "      <td>3128.451904</td>\n",
              "      <td>3242.443571</td>\n",
              "      <td>3405.145777</td>\n",
              "    </tr>\n",
              "    <tr>\n",
              "      <th>5451</th>\n",
              "      <td>824.081058</td>\n",
              "      <td>795.57816</td>\n",
              "      <td>652.2980</td>\n",
              "      <td>741.980469</td>\n",
              "      <td>796.495300</td>\n",
              "      <td>792.568744</td>\n",
              "      <td>848.871583</td>\n",
              "    </tr>\n",
              "    <tr>\n",
              "      <th>5452</th>\n",
              "      <td>1987.175068</td>\n",
              "      <td>1504.45542</td>\n",
              "      <td>1998.5456</td>\n",
              "      <td>2060.426758</td>\n",
              "      <td>2184.186035</td>\n",
              "      <td>1987.042478</td>\n",
              "      <td>1971.275984</td>\n",
              "    </tr>\n",
              "    <tr>\n",
              "      <th>5453</th>\n",
              "      <td>1149.219162</td>\n",
              "      <td>1184.27220</td>\n",
              "      <td>1567.7730</td>\n",
              "      <td>1129.578979</td>\n",
              "      <td>1171.626343</td>\n",
              "      <td>1155.103502</td>\n",
              "      <td>1320.671048</td>\n",
              "    </tr>\n",
              "  </tbody>\n",
              "</table>\n",
              "<p>5454 rows × 7 columns</p>\n",
              "</div>\n",
              "      <button class=\"colab-df-convert\" onclick=\"convertToInteractive('df-892d6a36-601b-4eb0-8537-8a6bd97b4e85')\"\n",
              "              title=\"Convert this dataframe to an interactive table.\"\n",
              "              style=\"display:none;\">\n",
              "        \n",
              "  <svg xmlns=\"http://www.w3.org/2000/svg\" height=\"24px\"viewBox=\"0 0 24 24\"\n",
              "       width=\"24px\">\n",
              "    <path d=\"M0 0h24v24H0V0z\" fill=\"none\"/>\n",
              "    <path d=\"M18.56 5.44l.94 2.06.94-2.06 2.06-.94-2.06-.94-.94-2.06-.94 2.06-2.06.94zm-11 1L8.5 8.5l.94-2.06 2.06-.94-2.06-.94L8.5 2.5l-.94 2.06-2.06.94zm10 10l.94 2.06.94-2.06 2.06-.94-2.06-.94-.94-2.06-.94 2.06-2.06.94z\"/><path d=\"M17.41 7.96l-1.37-1.37c-.4-.4-.92-.59-1.43-.59-.52 0-1.04.2-1.43.59L10.3 9.45l-7.72 7.72c-.78.78-.78 2.05 0 2.83L4 21.41c.39.39.9.59 1.41.59.51 0 1.02-.2 1.41-.59l7.78-7.78 2.81-2.81c.8-.78.8-2.07 0-2.86zM5.41 20L4 18.59l7.72-7.72 1.47 1.35L5.41 20z\"/>\n",
              "  </svg>\n",
              "      </button>\n",
              "      \n",
              "  <style>\n",
              "    .colab-df-container {\n",
              "      display:flex;\n",
              "      flex-wrap:wrap;\n",
              "      gap: 12px;\n",
              "    }\n",
              "\n",
              "    .colab-df-convert {\n",
              "      background-color: #E8F0FE;\n",
              "      border: none;\n",
              "      border-radius: 50%;\n",
              "      cursor: pointer;\n",
              "      display: none;\n",
              "      fill: #1967D2;\n",
              "      height: 32px;\n",
              "      padding: 0 0 0 0;\n",
              "      width: 32px;\n",
              "    }\n",
              "\n",
              "    .colab-df-convert:hover {\n",
              "      background-color: #E2EBFA;\n",
              "      box-shadow: 0px 1px 2px rgba(60, 64, 67, 0.3), 0px 1px 3px 1px rgba(60, 64, 67, 0.15);\n",
              "      fill: #174EA6;\n",
              "    }\n",
              "\n",
              "    [theme=dark] .colab-df-convert {\n",
              "      background-color: #3B4455;\n",
              "      fill: #D2E3FC;\n",
              "    }\n",
              "\n",
              "    [theme=dark] .colab-df-convert:hover {\n",
              "      background-color: #434B5C;\n",
              "      box-shadow: 0px 1px 3px 1px rgba(0, 0, 0, 0.15);\n",
              "      filter: drop-shadow(0px 1px 2px rgba(0, 0, 0, 0.3));\n",
              "      fill: #FFFFFF;\n",
              "    }\n",
              "  </style>\n",
              "\n",
              "      <script>\n",
              "        const buttonEl =\n",
              "          document.querySelector('#df-892d6a36-601b-4eb0-8537-8a6bd97b4e85 button.colab-df-convert');\n",
              "        buttonEl.style.display =\n",
              "          google.colab.kernel.accessAllowed ? 'block' : 'none';\n",
              "\n",
              "        async function convertToInteractive(key) {\n",
              "          const element = document.querySelector('#df-892d6a36-601b-4eb0-8537-8a6bd97b4e85');\n",
              "          const dataTable =\n",
              "            await google.colab.kernel.invokeFunction('convertToInteractive',\n",
              "                                                     [key], {});\n",
              "          if (!dataTable) return;\n",
              "\n",
              "          const docLinkHtml = 'Like what you see? Visit the ' +\n",
              "            '<a target=\"_blank\" href=https://colab.research.google.com/notebooks/data_table.ipynb>data table notebook</a>'\n",
              "            + ' to learn more about interactive tables.';\n",
              "          element.innerHTML = '';\n",
              "          dataTable['output_type'] = 'display_data';\n",
              "          await google.colab.output.renderOutput(dataTable, element);\n",
              "          const docLink = document.createElement('div');\n",
              "          docLink.innerHTML = docLinkHtml;\n",
              "          element.appendChild(docLink);\n",
              "        }\n",
              "      </script>\n",
              "    </div>\n",
              "  </div>\n",
              "  "
            ]
          },
          "metadata": {},
          "execution_count": 102
        }
      ]
    },
    {
      "cell_type": "code",
      "source": [
        "rows=x_test1.shape[0]"
      ],
      "metadata": {
        "id": "DQzd-c_HP6X7"
      },
      "execution_count": 103,
      "outputs": []
    },
    {
      "cell_type": "code",
      "source": [
        "layer2_test=pd.DataFrame({\"clf1\":np.zeros(rows),\"clf2\":np.zeros(rows),\"clf3\":np.zeros(rows),\n",
        "                   \"clf4\":np.zeros(rows),\"clf5\":np.zeros(rows),\"clf6\":np.zeros(rows),\"clf7\":np.zeros(rows)})"
      ],
      "metadata": {
        "id": "OQCzDNKRP9Pm"
      },
      "execution_count": 104,
      "outputs": []
    },
    {
      "cell_type": "code",
      "source": [
        "for i,reg in enumerate(Algos):\n",
        "    print(\"Algo number:\",i+1)\n",
        "    reg.fit(x_train1,y_train1)\n",
        "    p=reg.predict(x_test1)\n",
        "    layer2_test.iloc[:,i]=p"
      ],
      "metadata": {
        "colab": {
          "base_uri": "https://localhost:8080/"
        },
        "id": "cqfW5kOnQAUy",
        "outputId": "4bdab1db-9563-4317-b770-3394301d6ecd"
      },
      "execution_count": 105,
      "outputs": [
        {
          "output_type": "stream",
          "name": "stdout",
          "text": [
            "Algo number: 1\n",
            "Algo number: 2\n",
            "Algo number: 3\n",
            "Algo number: 4\n"
          ]
        },
        {
          "output_type": "stream",
          "name": "stderr",
          "text": [
            "<ipython-input-105-2822f86dc6d7>:5: DeprecationWarning: In a future version, `df.iloc[:, i] = newvals` will attempt to set the values inplace instead of always setting a new array. To retain the old behavior, use either `df[df.columns[i]] = newvals` or, if columns are non-unique, `df.isetitem(i, newvals)`\n",
            "  layer2_test.iloc[:,i]=p\n"
          ]
        },
        {
          "output_type": "stream",
          "name": "stdout",
          "text": [
            "Algo number: 5\n",
            "Algo number: 6\n",
            "Algo number: 7\n"
          ]
        },
        {
          "output_type": "stream",
          "name": "stderr",
          "text": [
            "/usr/local/lib/python3.10/dist-packages/sklearn/neural_network/_multilayer_perceptron.py:686: ConvergenceWarning: Stochastic Optimizer: Maximum iterations (200) reached and the optimization hasn't converged yet.\n",
            "  warnings.warn(\n"
          ]
        }
      ]
    },
    {
      "cell_type": "code",
      "source": [
        "layer1.head()"
      ],
      "metadata": {
        "colab": {
          "base_uri": "https://localhost:8080/",
          "height": 206
        },
        "id": "Q27U5xYsQDAU",
        "outputId": "6159c59b-a378-4870-caad-dafd39ae38aa"
      },
      "execution_count": 106,
      "outputs": [
        {
          "output_type": "execute_result",
          "data": {
            "text/plain": [
              "          clf1        clf2       clf3         clf4         clf5         clf6  \\\n",
              "0  2779.174794  2332.44430  3990.6192  2579.974365  2721.287598  2812.049525   \n",
              "1  3689.644310  3328.34794  5292.9240  3760.962158  3181.369141  3603.460305   \n",
              "2   667.916336  1156.77466   496.5008   644.904419   715.420715   657.599670   \n",
              "3  1699.570773  1483.74904  1934.6288  1595.326660  1599.972534  1678.187370   \n",
              "4  4109.307371  3255.57600  6404.8100  3932.171631  4198.640625  4082.452994   \n",
              "\n",
              "          clf7  \n",
              "0  2888.756071  \n",
              "1  3887.833835  \n",
              "2  1742.238136  \n",
              "3  1643.645341  \n",
              "4  3168.117794  "
            ],
            "text/html": [
              "\n",
              "  <div id=\"df-4edcdd1b-2783-47a8-8024-ceafb05c1617\">\n",
              "    <div class=\"colab-df-container\">\n",
              "      <div>\n",
              "<style scoped>\n",
              "    .dataframe tbody tr th:only-of-type {\n",
              "        vertical-align: middle;\n",
              "    }\n",
              "\n",
              "    .dataframe tbody tr th {\n",
              "        vertical-align: top;\n",
              "    }\n",
              "\n",
              "    .dataframe thead th {\n",
              "        text-align: right;\n",
              "    }\n",
              "</style>\n",
              "<table border=\"1\" class=\"dataframe\">\n",
              "  <thead>\n",
              "    <tr style=\"text-align: right;\">\n",
              "      <th></th>\n",
              "      <th>clf1</th>\n",
              "      <th>clf2</th>\n",
              "      <th>clf3</th>\n",
              "      <th>clf4</th>\n",
              "      <th>clf5</th>\n",
              "      <th>clf6</th>\n",
              "      <th>clf7</th>\n",
              "    </tr>\n",
              "  </thead>\n",
              "  <tbody>\n",
              "    <tr>\n",
              "      <th>0</th>\n",
              "      <td>2779.174794</td>\n",
              "      <td>2332.44430</td>\n",
              "      <td>3990.6192</td>\n",
              "      <td>2579.974365</td>\n",
              "      <td>2721.287598</td>\n",
              "      <td>2812.049525</td>\n",
              "      <td>2888.756071</td>\n",
              "    </tr>\n",
              "    <tr>\n",
              "      <th>1</th>\n",
              "      <td>3689.644310</td>\n",
              "      <td>3328.34794</td>\n",
              "      <td>5292.9240</td>\n",
              "      <td>3760.962158</td>\n",
              "      <td>3181.369141</td>\n",
              "      <td>3603.460305</td>\n",
              "      <td>3887.833835</td>\n",
              "    </tr>\n",
              "    <tr>\n",
              "      <th>2</th>\n",
              "      <td>667.916336</td>\n",
              "      <td>1156.77466</td>\n",
              "      <td>496.5008</td>\n",
              "      <td>644.904419</td>\n",
              "      <td>715.420715</td>\n",
              "      <td>657.599670</td>\n",
              "      <td>1742.238136</td>\n",
              "    </tr>\n",
              "    <tr>\n",
              "      <th>3</th>\n",
              "      <td>1699.570773</td>\n",
              "      <td>1483.74904</td>\n",
              "      <td>1934.6288</td>\n",
              "      <td>1595.326660</td>\n",
              "      <td>1599.972534</td>\n",
              "      <td>1678.187370</td>\n",
              "      <td>1643.645341</td>\n",
              "    </tr>\n",
              "    <tr>\n",
              "      <th>4</th>\n",
              "      <td>4109.307371</td>\n",
              "      <td>3255.57600</td>\n",
              "      <td>6404.8100</td>\n",
              "      <td>3932.171631</td>\n",
              "      <td>4198.640625</td>\n",
              "      <td>4082.452994</td>\n",
              "      <td>3168.117794</td>\n",
              "    </tr>\n",
              "  </tbody>\n",
              "</table>\n",
              "</div>\n",
              "      <button class=\"colab-df-convert\" onclick=\"convertToInteractive('df-4edcdd1b-2783-47a8-8024-ceafb05c1617')\"\n",
              "              title=\"Convert this dataframe to an interactive table.\"\n",
              "              style=\"display:none;\">\n",
              "        \n",
              "  <svg xmlns=\"http://www.w3.org/2000/svg\" height=\"24px\"viewBox=\"0 0 24 24\"\n",
              "       width=\"24px\">\n",
              "    <path d=\"M0 0h24v24H0V0z\" fill=\"none\"/>\n",
              "    <path d=\"M18.56 5.44l.94 2.06.94-2.06 2.06-.94-2.06-.94-.94-2.06-.94 2.06-2.06.94zm-11 1L8.5 8.5l.94-2.06 2.06-.94-2.06-.94L8.5 2.5l-.94 2.06-2.06.94zm10 10l.94 2.06.94-2.06 2.06-.94-2.06-.94-.94-2.06-.94 2.06-2.06.94z\"/><path d=\"M17.41 7.96l-1.37-1.37c-.4-.4-.92-.59-1.43-.59-.52 0-1.04.2-1.43.59L10.3 9.45l-7.72 7.72c-.78.78-.78 2.05 0 2.83L4 21.41c.39.39.9.59 1.41.59.51 0 1.02-.2 1.41-.59l7.78-7.78 2.81-2.81c.8-.78.8-2.07 0-2.86zM5.41 20L4 18.59l7.72-7.72 1.47 1.35L5.41 20z\"/>\n",
              "  </svg>\n",
              "      </button>\n",
              "      \n",
              "  <style>\n",
              "    .colab-df-container {\n",
              "      display:flex;\n",
              "      flex-wrap:wrap;\n",
              "      gap: 12px;\n",
              "    }\n",
              "\n",
              "    .colab-df-convert {\n",
              "      background-color: #E8F0FE;\n",
              "      border: none;\n",
              "      border-radius: 50%;\n",
              "      cursor: pointer;\n",
              "      display: none;\n",
              "      fill: #1967D2;\n",
              "      height: 32px;\n",
              "      padding: 0 0 0 0;\n",
              "      width: 32px;\n",
              "    }\n",
              "\n",
              "    .colab-df-convert:hover {\n",
              "      background-color: #E2EBFA;\n",
              "      box-shadow: 0px 1px 2px rgba(60, 64, 67, 0.3), 0px 1px 3px 1px rgba(60, 64, 67, 0.15);\n",
              "      fill: #174EA6;\n",
              "    }\n",
              "\n",
              "    [theme=dark] .colab-df-convert {\n",
              "      background-color: #3B4455;\n",
              "      fill: #D2E3FC;\n",
              "    }\n",
              "\n",
              "    [theme=dark] .colab-df-convert:hover {\n",
              "      background-color: #434B5C;\n",
              "      box-shadow: 0px 1px 3px 1px rgba(0, 0, 0, 0.15);\n",
              "      filter: drop-shadow(0px 1px 2px rgba(0, 0, 0, 0.3));\n",
              "      fill: #FFFFFF;\n",
              "    }\n",
              "  </style>\n",
              "\n",
              "      <script>\n",
              "        const buttonEl =\n",
              "          document.querySelector('#df-4edcdd1b-2783-47a8-8024-ceafb05c1617 button.colab-df-convert');\n",
              "        buttonEl.style.display =\n",
              "          google.colab.kernel.accessAllowed ? 'block' : 'none';\n",
              "\n",
              "        async function convertToInteractive(key) {\n",
              "          const element = document.querySelector('#df-4edcdd1b-2783-47a8-8024-ceafb05c1617');\n",
              "          const dataTable =\n",
              "            await google.colab.kernel.invokeFunction('convertToInteractive',\n",
              "                                                     [key], {});\n",
              "          if (!dataTable) return;\n",
              "\n",
              "          const docLinkHtml = 'Like what you see? Visit the ' +\n",
              "            '<a target=\"_blank\" href=https://colab.research.google.com/notebooks/data_table.ipynb>data table notebook</a>'\n",
              "            + ' to learn more about interactive tables.';\n",
              "          element.innerHTML = '';\n",
              "          dataTable['output_type'] = 'display_data';\n",
              "          await google.colab.output.renderOutput(dataTable, element);\n",
              "          const docLink = document.createElement('div');\n",
              "          docLink.innerHTML = docLinkHtml;\n",
              "          element.appendChild(docLink);\n",
              "        }\n",
              "      </script>\n",
              "    </div>\n",
              "  </div>\n",
              "  "
            ]
          },
          "metadata": {},
          "execution_count": 106
        }
      ]
    },
    {
      "cell_type": "code",
      "source": [
        "layer2_test"
      ],
      "metadata": {
        "colab": {
          "base_uri": "https://localhost:8080/",
          "height": 423
        },
        "id": "3dK0OM77QFcs",
        "outputId": "9ae0748e-a79c-4cf8-ef8f-5497d9ec977d"
      },
      "execution_count": 107,
      "outputs": [
        {
          "output_type": "execute_result",
          "data": {
            "text/plain": [
              "             clf1        clf2       clf3         clf4         clf5  \\\n",
              "0      821.670862   819.81328   640.3136   900.440735   641.536255   \n",
              "1      794.237239   864.88794   368.6672   845.872253   799.520813   \n",
              "2     4382.771405  3484.27830   628.3292  4378.448730  5465.529785   \n",
              "3     3791.908527  4180.83826  5444.7264  3701.648682  3650.476318   \n",
              "4     1017.987318   998.38084  1029.1408  1005.519470  1058.015747   \n",
              "...           ...         ...        ...          ...          ...   \n",
              "1359  1921.477918  1749.53640  3242.2600  1919.488037  1829.679443   \n",
              "1360  1255.017445  1455.38596   909.9626  1489.179565  1461.591309   \n",
              "1361  1407.822540  1799.87088  2701.6304  1571.779419  1489.501587   \n",
              "1362  4052.867505  4121.78180  2701.6304  3978.269287  4263.695312   \n",
              "1363  2243.452140  2125.97972  2416.6680  1820.440430  1878.931885   \n",
              "\n",
              "             clf6         clf7  \n",
              "0      843.661285   923.103678  \n",
              "1      778.032428   843.764613  \n",
              "2     4397.148120  3756.846769  \n",
              "3     3942.105207  3717.273421  \n",
              "4     1068.570427  1129.979450  \n",
              "...           ...          ...  \n",
              "1359  1941.609237  1870.621766  \n",
              "1360  1241.353136  1564.243933  \n",
              "1361  1459.024081  1478.914344  \n",
              "1362  4025.689739  4155.285460  \n",
              "1363  2273.022601  1802.384789  \n",
              "\n",
              "[1364 rows x 7 columns]"
            ],
            "text/html": [
              "\n",
              "  <div id=\"df-790d7f83-725c-4dc5-b9ac-45494bf33ca8\">\n",
              "    <div class=\"colab-df-container\">\n",
              "      <div>\n",
              "<style scoped>\n",
              "    .dataframe tbody tr th:only-of-type {\n",
              "        vertical-align: middle;\n",
              "    }\n",
              "\n",
              "    .dataframe tbody tr th {\n",
              "        vertical-align: top;\n",
              "    }\n",
              "\n",
              "    .dataframe thead th {\n",
              "        text-align: right;\n",
              "    }\n",
              "</style>\n",
              "<table border=\"1\" class=\"dataframe\">\n",
              "  <thead>\n",
              "    <tr style=\"text-align: right;\">\n",
              "      <th></th>\n",
              "      <th>clf1</th>\n",
              "      <th>clf2</th>\n",
              "      <th>clf3</th>\n",
              "      <th>clf4</th>\n",
              "      <th>clf5</th>\n",
              "      <th>clf6</th>\n",
              "      <th>clf7</th>\n",
              "    </tr>\n",
              "  </thead>\n",
              "  <tbody>\n",
              "    <tr>\n",
              "      <th>0</th>\n",
              "      <td>821.670862</td>\n",
              "      <td>819.81328</td>\n",
              "      <td>640.3136</td>\n",
              "      <td>900.440735</td>\n",
              "      <td>641.536255</td>\n",
              "      <td>843.661285</td>\n",
              "      <td>923.103678</td>\n",
              "    </tr>\n",
              "    <tr>\n",
              "      <th>1</th>\n",
              "      <td>794.237239</td>\n",
              "      <td>864.88794</td>\n",
              "      <td>368.6672</td>\n",
              "      <td>845.872253</td>\n",
              "      <td>799.520813</td>\n",
              "      <td>778.032428</td>\n",
              "      <td>843.764613</td>\n",
              "    </tr>\n",
              "    <tr>\n",
              "      <th>2</th>\n",
              "      <td>4382.771405</td>\n",
              "      <td>3484.27830</td>\n",
              "      <td>628.3292</td>\n",
              "      <td>4378.448730</td>\n",
              "      <td>5465.529785</td>\n",
              "      <td>4397.148120</td>\n",
              "      <td>3756.846769</td>\n",
              "    </tr>\n",
              "    <tr>\n",
              "      <th>3</th>\n",
              "      <td>3791.908527</td>\n",
              "      <td>4180.83826</td>\n",
              "      <td>5444.7264</td>\n",
              "      <td>3701.648682</td>\n",
              "      <td>3650.476318</td>\n",
              "      <td>3942.105207</td>\n",
              "      <td>3717.273421</td>\n",
              "    </tr>\n",
              "    <tr>\n",
              "      <th>4</th>\n",
              "      <td>1017.987318</td>\n",
              "      <td>998.38084</td>\n",
              "      <td>1029.1408</td>\n",
              "      <td>1005.519470</td>\n",
              "      <td>1058.015747</td>\n",
              "      <td>1068.570427</td>\n",
              "      <td>1129.979450</td>\n",
              "    </tr>\n",
              "    <tr>\n",
              "      <th>...</th>\n",
              "      <td>...</td>\n",
              "      <td>...</td>\n",
              "      <td>...</td>\n",
              "      <td>...</td>\n",
              "      <td>...</td>\n",
              "      <td>...</td>\n",
              "      <td>...</td>\n",
              "    </tr>\n",
              "    <tr>\n",
              "      <th>1359</th>\n",
              "      <td>1921.477918</td>\n",
              "      <td>1749.53640</td>\n",
              "      <td>3242.2600</td>\n",
              "      <td>1919.488037</td>\n",
              "      <td>1829.679443</td>\n",
              "      <td>1941.609237</td>\n",
              "      <td>1870.621766</td>\n",
              "    </tr>\n",
              "    <tr>\n",
              "      <th>1360</th>\n",
              "      <td>1255.017445</td>\n",
              "      <td>1455.38596</td>\n",
              "      <td>909.9626</td>\n",
              "      <td>1489.179565</td>\n",
              "      <td>1461.591309</td>\n",
              "      <td>1241.353136</td>\n",
              "      <td>1564.243933</td>\n",
              "    </tr>\n",
              "    <tr>\n",
              "      <th>1361</th>\n",
              "      <td>1407.822540</td>\n",
              "      <td>1799.87088</td>\n",
              "      <td>2701.6304</td>\n",
              "      <td>1571.779419</td>\n",
              "      <td>1489.501587</td>\n",
              "      <td>1459.024081</td>\n",
              "      <td>1478.914344</td>\n",
              "    </tr>\n",
              "    <tr>\n",
              "      <th>1362</th>\n",
              "      <td>4052.867505</td>\n",
              "      <td>4121.78180</td>\n",
              "      <td>2701.6304</td>\n",
              "      <td>3978.269287</td>\n",
              "      <td>4263.695312</td>\n",
              "      <td>4025.689739</td>\n",
              "      <td>4155.285460</td>\n",
              "    </tr>\n",
              "    <tr>\n",
              "      <th>1363</th>\n",
              "      <td>2243.452140</td>\n",
              "      <td>2125.97972</td>\n",
              "      <td>2416.6680</td>\n",
              "      <td>1820.440430</td>\n",
              "      <td>1878.931885</td>\n",
              "      <td>2273.022601</td>\n",
              "      <td>1802.384789</td>\n",
              "    </tr>\n",
              "  </tbody>\n",
              "</table>\n",
              "<p>1364 rows × 7 columns</p>\n",
              "</div>\n",
              "      <button class=\"colab-df-convert\" onclick=\"convertToInteractive('df-790d7f83-725c-4dc5-b9ac-45494bf33ca8')\"\n",
              "              title=\"Convert this dataframe to an interactive table.\"\n",
              "              style=\"display:none;\">\n",
              "        \n",
              "  <svg xmlns=\"http://www.w3.org/2000/svg\" height=\"24px\"viewBox=\"0 0 24 24\"\n",
              "       width=\"24px\">\n",
              "    <path d=\"M0 0h24v24H0V0z\" fill=\"none\"/>\n",
              "    <path d=\"M18.56 5.44l.94 2.06.94-2.06 2.06-.94-2.06-.94-.94-2.06-.94 2.06-2.06.94zm-11 1L8.5 8.5l.94-2.06 2.06-.94-2.06-.94L8.5 2.5l-.94 2.06-2.06.94zm10 10l.94 2.06.94-2.06 2.06-.94-2.06-.94-.94-2.06-.94 2.06-2.06.94z\"/><path d=\"M17.41 7.96l-1.37-1.37c-.4-.4-.92-.59-1.43-.59-.52 0-1.04.2-1.43.59L10.3 9.45l-7.72 7.72c-.78.78-.78 2.05 0 2.83L4 21.41c.39.39.9.59 1.41.59.51 0 1.02-.2 1.41-.59l7.78-7.78 2.81-2.81c.8-.78.8-2.07 0-2.86zM5.41 20L4 18.59l7.72-7.72 1.47 1.35L5.41 20z\"/>\n",
              "  </svg>\n",
              "      </button>\n",
              "      \n",
              "  <style>\n",
              "    .colab-df-container {\n",
              "      display:flex;\n",
              "      flex-wrap:wrap;\n",
              "      gap: 12px;\n",
              "    }\n",
              "\n",
              "    .colab-df-convert {\n",
              "      background-color: #E8F0FE;\n",
              "      border: none;\n",
              "      border-radius: 50%;\n",
              "      cursor: pointer;\n",
              "      display: none;\n",
              "      fill: #1967D2;\n",
              "      height: 32px;\n",
              "      padding: 0 0 0 0;\n",
              "      width: 32px;\n",
              "    }\n",
              "\n",
              "    .colab-df-convert:hover {\n",
              "      background-color: #E2EBFA;\n",
              "      box-shadow: 0px 1px 2px rgba(60, 64, 67, 0.3), 0px 1px 3px 1px rgba(60, 64, 67, 0.15);\n",
              "      fill: #174EA6;\n",
              "    }\n",
              "\n",
              "    [theme=dark] .colab-df-convert {\n",
              "      background-color: #3B4455;\n",
              "      fill: #D2E3FC;\n",
              "    }\n",
              "\n",
              "    [theme=dark] .colab-df-convert:hover {\n",
              "      background-color: #434B5C;\n",
              "      box-shadow: 0px 1px 3px 1px rgba(0, 0, 0, 0.15);\n",
              "      filter: drop-shadow(0px 1px 2px rgba(0, 0, 0, 0.3));\n",
              "      fill: #FFFFFF;\n",
              "    }\n",
              "  </style>\n",
              "\n",
              "      <script>\n",
              "        const buttonEl =\n",
              "          document.querySelector('#df-790d7f83-725c-4dc5-b9ac-45494bf33ca8 button.colab-df-convert');\n",
              "        buttonEl.style.display =\n",
              "          google.colab.kernel.accessAllowed ? 'block' : 'none';\n",
              "\n",
              "        async function convertToInteractive(key) {\n",
              "          const element = document.querySelector('#df-790d7f83-725c-4dc5-b9ac-45494bf33ca8');\n",
              "          const dataTable =\n",
              "            await google.colab.kernel.invokeFunction('convertToInteractive',\n",
              "                                                     [key], {});\n",
              "          if (!dataTable) return;\n",
              "\n",
              "          const docLinkHtml = 'Like what you see? Visit the ' +\n",
              "            '<a target=\"_blank\" href=https://colab.research.google.com/notebooks/data_table.ipynb>data table notebook</a>'\n",
              "            + ' to learn more about interactive tables.';\n",
              "          element.innerHTML = '';\n",
              "          dataTable['output_type'] = 'display_data';\n",
              "          await google.colab.output.renderOutput(dataTable, element);\n",
              "          const docLink = document.createElement('div');\n",
              "          docLink.innerHTML = docLinkHtml;\n",
              "          element.appendChild(docLink);\n",
              "        }\n",
              "      </script>\n",
              "    </div>\n",
              "  </div>\n",
              "  "
            ]
          },
          "metadata": {},
          "execution_count": 107
        }
      ]
    },
    {
      "cell_type": "code",
      "source": [
        "lr=LinearRegression()"
      ],
      "metadata": {
        "id": "5HJyWykTQXUP"
      },
      "execution_count": 108,
      "outputs": []
    },
    {
      "cell_type": "code",
      "source": [
        "lr.fit(layer1,y_train1)\n",
        "predictions=lr.predict(layer2_test)"
      ],
      "metadata": {
        "id": "SkX2ScsOQXMQ"
      },
      "execution_count": 109,
      "outputs": []
    },
    {
      "cell_type": "code",
      "source": [
        "err=mean_absolute_error(y_test1,predictions)\n",
        "model_errors.append([\"stacking\",error])\n",
        "err"
      ],
      "metadata": {
        "colab": {
          "base_uri": "https://localhost:8080/"
        },
        "id": "WDPKLGUGQXEr",
        "outputId": "fc40c320-63a4-4d54-bce4-811c8e01d959"
      },
      "execution_count": 110,
      "outputs": [
        {
          "output_type": "execute_result",
          "data": {
            "text/plain": [
              "777.0453362375714"
            ]
          },
          "metadata": {},
          "execution_count": 110
        }
      ]
    },
    {
      "cell_type": "code",
      "source": [
        "pd.DataFrame(predictions).to_csv(\"stacking_pred.csv\",index=False)"
      ],
      "metadata": {
        "id": "_czOVyGaQW9F"
      },
      "execution_count": 111,
      "outputs": []
    },
    {
      "cell_type": "code",
      "source": [
        "model_errors"
      ],
      "metadata": {
        "colab": {
          "base_uri": "https://localhost:8080/"
        },
        "id": "Eb2POBWZQW01",
        "outputId": "2859f6c0-899f-489a-b2c6-69dcac878d70"
      },
      "execution_count": 112,
      "outputs": [
        {
          "output_type": "execute_result",
          "data": {
            "text/plain": [
              "[['LinearRegression', 830.0501468413154],\n",
              " ['Lasso', 824.6251915497415],\n",
              " ['Ridge', 826.508069042551],\n",
              " ['DecisionTreeRegressor', 768.2534880814219],\n",
              " ['RandomForestRegressor', 771.2336366706551],\n",
              " ['GradientBoostingRegressor', 780.5183501100718],\n",
              " ['XGBRegressor', 761.1166097767581],\n",
              " ['NN_MLPRegressor', 782.2175447129722],\n",
              " ['KNeighborsRegressor', 870.382600209468],\n",
              " ['SVR', 1142.615914859076],\n",
              " ['stacking', 940.6105852126099]]"
            ]
          },
          "metadata": {},
          "execution_count": 112
        }
      ]
    },
    {
      "cell_type": "code",
      "source": [
        "import joblib\n",
        "joblib.dump(lr,'my_model1.pkl')"
      ],
      "metadata": {
        "colab": {
          "base_uri": "https://localhost:8080/"
        },
        "id": "YbeC9aZAQWtH",
        "outputId": "359e70af-d0f5-4f7f-ee3b-df1430e315ba"
      },
      "execution_count": 114,
      "outputs": [
        {
          "output_type": "execute_result",
          "data": {
            "text/plain": [
              "['my_model1.pkl']"
            ]
          },
          "metadata": {},
          "execution_count": 114
        }
      ]
    },
    {
      "cell_type": "code",
      "source": [
        "joblib.dump(rf3,'my_model2.pkl')"
      ],
      "metadata": {
        "colab": {
          "base_uri": "https://localhost:8080/"
        },
        "id": "R3Nt9k7IQWjN",
        "outputId": "2dc0cf2e-027b-4ae9-dcca-3021106800e2"
      },
      "execution_count": 115,
      "outputs": [
        {
          "output_type": "execute_result",
          "data": {
            "text/plain": [
              "['my_model2.pkl']"
            ]
          },
          "metadata": {},
          "execution_count": 115
        }
      ]
    },
    {
      "cell_type": "code",
      "source": [],
      "metadata": {
        "id": "cxJAhnTyQWbv"
      },
      "execution_count": null,
      "outputs": []
    }
  ]
}